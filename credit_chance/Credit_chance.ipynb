{
 "cells": [
  {
   "cell_type": "markdown",
   "metadata": {},
   "source": [
    "# Исследование надёжности заёмщиков"
   ]
  },
  {
   "cell_type": "markdown",
   "metadata": {},
   "source": [
    "## Вводные данные"
   ]
  },
  {
   "cell_type": "markdown",
   "metadata": {},
   "source": [
    "**Цель:** Создать модель, предсказывающую способность заёмщика погасить кредит в срок.\n",
    "\n",
    "**Задачи:**\n",
    "1. Загрузить и проананализировать данные;\n",
    "2. Провести предобработку данных и подготовить признаки;\n",
    "4. Построить модель; \n",
    "5. Сделать выводы;\n",
    "\n",
    "**Данные для работы:** /datasets/data.csv\n",
    "\n",
    "**Описание данных:**\n",
    "* children — количество детей в семье\n",
    "* days_employed — общий трудовой стаж в днях\n",
    "* dob_years — возраст клиента в годах\n",
    "* education — уровень образования клиента\n",
    "* education_id — идентификатор уровня образования\n",
    "* family_status — семейное положение\n",
    "* family_status_id — идентификатор семейного положения\n",
    "* gender — пол клиента\n",
    "* income_type — тип занятости\n",
    "* debt — имел ли задолженность по возврату кредитов\n",
    "* total_income — ежемесячный доход\n",
    "* purpose — цель получения кредита"
   ]
  },
  {
   "cell_type": "markdown",
   "metadata": {},
   "source": [
    "<a id='back-bullet'></a>"
   ]
  },
  {
   "cell_type": "markdown",
   "metadata": {},
   "source": [
    "## Содержание\n",
    "* [1. Загрузка и первичный анализ данных](#download-bullet)\n",
    "* [2. Предобработка данных и подготовка признаков](#rework-bullet)\n",
    "* [3. Создание модели](#model-bullet)\n",
    "* [4. Общий вывод](#conclusion-bullet)"
   ]
  },
  {
   "cell_type": "markdown",
   "metadata": {},
   "source": [
    "<a id='download-bullet'></a>"
   ]
  },
  {
   "cell_type": "markdown",
   "metadata": {},
   "source": [
    "## 1. Загрузка и первичный анализ данных"
   ]
  },
  {
   "cell_type": "code",
   "execution_count": 1,
   "metadata": {},
   "outputs": [],
   "source": [
    "import pandas as pd\n",
    "import matplotlib.pyplot as plt\n",
    "import seaborn as sns\n",
    "import numpy as np\n",
    "from pymystem3 import Mystem\n",
    "from sklearn.preprocessing import OrdinalEncoder\n",
    "from sklearn.model_selection import RandomizedSearchCV\n",
    "from sklearn.model_selection import GridSearchCV\n",
    "from sklearn.model_selection import train_test_split, RandomizedSearchCV\n",
    "from sklearn.ensemble import RandomForestClassifier\n",
    "from sklearn.linear_model import LogisticRegression\n",
    "from catboost import CatBoostClassifier\n",
    "from xgboost import XGBClassifier\n",
    "from sklearn.utils import shuffle\n",
    "from sklearn.metrics import roc_auc_score\n",
    "from sklearn.metrics import roc_curve"
   ]
  },
  {
   "cell_type": "code",
   "execution_count": 2,
   "metadata": {},
   "outputs": [],
   "source": [
    "data = pd.read_csv('/datasets/data.csv')\n",
    "#C:/Users/drtar/Documents/Data Science/Projects/Pet projects/data_1.csv"
   ]
  },
  {
   "cell_type": "code",
   "execution_count": 3,
   "metadata": {},
   "outputs": [],
   "source": [
    "def full_info(data):\n",
    "    print(' * ' * 20)\n",
    "    print('Размер датафрейма:', data.shape)\n",
    "    print('Количество дубликатов:', data.duplicated().sum())\n",
    "    tab = pd.concat([data.dtypes, data.isna().sum(), data.isna().mean()*100], axis=1)\n",
    "    tab.columns=['data_type', 'nan_count','nan_part, %']\n",
    "    display(tab.sort_values(by='nan_count', ascending=False))    \n",
    "    display(data.sample(5))\n",
    "    display(data.describe())    \n",
    "    print(' * ' * 20)"
   ]
  },
  {
   "cell_type": "code",
   "execution_count": 4,
   "metadata": {},
   "outputs": [
    {
     "name": "stdout",
     "output_type": "stream",
     "text": [
      " *  *  *  *  *  *  *  *  *  *  *  *  *  *  *  *  *  *  *  * \n",
      "Размер датафрейма: (21525, 12)\n",
      "Количество дубликатов: 54\n"
     ]
    },
    {
     "data": {
      "text/html": [
       "<div>\n",
       "<style scoped>\n",
       "    .dataframe tbody tr th:only-of-type {\n",
       "        vertical-align: middle;\n",
       "    }\n",
       "\n",
       "    .dataframe tbody tr th {\n",
       "        vertical-align: top;\n",
       "    }\n",
       "\n",
       "    .dataframe thead th {\n",
       "        text-align: right;\n",
       "    }\n",
       "</style>\n",
       "<table border=\"1\" class=\"dataframe\">\n",
       "  <thead>\n",
       "    <tr style=\"text-align: right;\">\n",
       "      <th></th>\n",
       "      <th>data_type</th>\n",
       "      <th>nan_count</th>\n",
       "      <th>nan_part, %</th>\n",
       "    </tr>\n",
       "  </thead>\n",
       "  <tbody>\n",
       "    <tr>\n",
       "      <td>days_employed</td>\n",
       "      <td>float64</td>\n",
       "      <td>2174</td>\n",
       "      <td>10.099884</td>\n",
       "    </tr>\n",
       "    <tr>\n",
       "      <td>total_income</td>\n",
       "      <td>float64</td>\n",
       "      <td>2174</td>\n",
       "      <td>10.099884</td>\n",
       "    </tr>\n",
       "    <tr>\n",
       "      <td>children</td>\n",
       "      <td>int64</td>\n",
       "      <td>0</td>\n",
       "      <td>0.000000</td>\n",
       "    </tr>\n",
       "    <tr>\n",
       "      <td>dob_years</td>\n",
       "      <td>int64</td>\n",
       "      <td>0</td>\n",
       "      <td>0.000000</td>\n",
       "    </tr>\n",
       "    <tr>\n",
       "      <td>education</td>\n",
       "      <td>object</td>\n",
       "      <td>0</td>\n",
       "      <td>0.000000</td>\n",
       "    </tr>\n",
       "    <tr>\n",
       "      <td>education_id</td>\n",
       "      <td>int64</td>\n",
       "      <td>0</td>\n",
       "      <td>0.000000</td>\n",
       "    </tr>\n",
       "    <tr>\n",
       "      <td>family_status</td>\n",
       "      <td>object</td>\n",
       "      <td>0</td>\n",
       "      <td>0.000000</td>\n",
       "    </tr>\n",
       "    <tr>\n",
       "      <td>family_status_id</td>\n",
       "      <td>int64</td>\n",
       "      <td>0</td>\n",
       "      <td>0.000000</td>\n",
       "    </tr>\n",
       "    <tr>\n",
       "      <td>gender</td>\n",
       "      <td>object</td>\n",
       "      <td>0</td>\n",
       "      <td>0.000000</td>\n",
       "    </tr>\n",
       "    <tr>\n",
       "      <td>income_type</td>\n",
       "      <td>object</td>\n",
       "      <td>0</td>\n",
       "      <td>0.000000</td>\n",
       "    </tr>\n",
       "    <tr>\n",
       "      <td>debt</td>\n",
       "      <td>int64</td>\n",
       "      <td>0</td>\n",
       "      <td>0.000000</td>\n",
       "    </tr>\n",
       "    <tr>\n",
       "      <td>purpose</td>\n",
       "      <td>object</td>\n",
       "      <td>0</td>\n",
       "      <td>0.000000</td>\n",
       "    </tr>\n",
       "  </tbody>\n",
       "</table>\n",
       "</div>"
      ],
      "text/plain": [
       "                 data_type  nan_count  nan_part, %\n",
       "days_employed      float64       2174    10.099884\n",
       "total_income       float64       2174    10.099884\n",
       "children             int64          0     0.000000\n",
       "dob_years            int64          0     0.000000\n",
       "education           object          0     0.000000\n",
       "education_id         int64          0     0.000000\n",
       "family_status       object          0     0.000000\n",
       "family_status_id     int64          0     0.000000\n",
       "gender              object          0     0.000000\n",
       "income_type         object          0     0.000000\n",
       "debt                 int64          0     0.000000\n",
       "purpose             object          0     0.000000"
      ]
     },
     "metadata": {},
     "output_type": "display_data"
    },
    {
     "data": {
      "text/html": [
       "<div>\n",
       "<style scoped>\n",
       "    .dataframe tbody tr th:only-of-type {\n",
       "        vertical-align: middle;\n",
       "    }\n",
       "\n",
       "    .dataframe tbody tr th {\n",
       "        vertical-align: top;\n",
       "    }\n",
       "\n",
       "    .dataframe thead th {\n",
       "        text-align: right;\n",
       "    }\n",
       "</style>\n",
       "<table border=\"1\" class=\"dataframe\">\n",
       "  <thead>\n",
       "    <tr style=\"text-align: right;\">\n",
       "      <th></th>\n",
       "      <th>children</th>\n",
       "      <th>days_employed</th>\n",
       "      <th>dob_years</th>\n",
       "      <th>education</th>\n",
       "      <th>education_id</th>\n",
       "      <th>family_status</th>\n",
       "      <th>family_status_id</th>\n",
       "      <th>gender</th>\n",
       "      <th>income_type</th>\n",
       "      <th>debt</th>\n",
       "      <th>total_income</th>\n",
       "      <th>purpose</th>\n",
       "    </tr>\n",
       "  </thead>\n",
       "  <tbody>\n",
       "    <tr>\n",
       "      <td>755</td>\n",
       "      <td>2</td>\n",
       "      <td>-406.684740</td>\n",
       "      <td>32</td>\n",
       "      <td>высшее</td>\n",
       "      <td>0</td>\n",
       "      <td>в разводе</td>\n",
       "      <td>3</td>\n",
       "      <td>F</td>\n",
       "      <td>госслужащий</td>\n",
       "      <td>0</td>\n",
       "      <td>318047.093421</td>\n",
       "      <td>покупка жилой недвижимости</td>\n",
       "    </tr>\n",
       "    <tr>\n",
       "      <td>5412</td>\n",
       "      <td>0</td>\n",
       "      <td>-1376.543176</td>\n",
       "      <td>56</td>\n",
       "      <td>среднее</td>\n",
       "      <td>1</td>\n",
       "      <td>женат / замужем</td>\n",
       "      <td>0</td>\n",
       "      <td>F</td>\n",
       "      <td>компаньон</td>\n",
       "      <td>0</td>\n",
       "      <td>134878.500272</td>\n",
       "      <td>на покупку своего автомобиля</td>\n",
       "    </tr>\n",
       "    <tr>\n",
       "      <td>13208</td>\n",
       "      <td>0</td>\n",
       "      <td>-1730.003597</td>\n",
       "      <td>38</td>\n",
       "      <td>среднее</td>\n",
       "      <td>1</td>\n",
       "      <td>Не женат / не замужем</td>\n",
       "      <td>4</td>\n",
       "      <td>M</td>\n",
       "      <td>сотрудник</td>\n",
       "      <td>0</td>\n",
       "      <td>65757.567332</td>\n",
       "      <td>автомобили</td>\n",
       "    </tr>\n",
       "    <tr>\n",
       "      <td>6794</td>\n",
       "      <td>0</td>\n",
       "      <td>-995.218568</td>\n",
       "      <td>29</td>\n",
       "      <td>высшее</td>\n",
       "      <td>0</td>\n",
       "      <td>Не женат / не замужем</td>\n",
       "      <td>4</td>\n",
       "      <td>F</td>\n",
       "      <td>компаньон</td>\n",
       "      <td>0</td>\n",
       "      <td>282634.267195</td>\n",
       "      <td>образование</td>\n",
       "    </tr>\n",
       "    <tr>\n",
       "      <td>1158</td>\n",
       "      <td>0</td>\n",
       "      <td>354977.894588</td>\n",
       "      <td>64</td>\n",
       "      <td>СРЕДНЕЕ</td>\n",
       "      <td>1</td>\n",
       "      <td>вдовец / вдова</td>\n",
       "      <td>2</td>\n",
       "      <td>F</td>\n",
       "      <td>пенсионер</td>\n",
       "      <td>0</td>\n",
       "      <td>72777.895655</td>\n",
       "      <td>приобретение автомобиля</td>\n",
       "    </tr>\n",
       "  </tbody>\n",
       "</table>\n",
       "</div>"
      ],
      "text/plain": [
       "       children  days_employed  dob_years education  education_id  \\\n",
       "755           2    -406.684740         32    высшее             0   \n",
       "5412          0   -1376.543176         56   среднее             1   \n",
       "13208         0   -1730.003597         38   среднее             1   \n",
       "6794          0    -995.218568         29    высшее             0   \n",
       "1158          0  354977.894588         64   СРЕДНЕЕ             1   \n",
       "\n",
       "               family_status  family_status_id gender  income_type  debt  \\\n",
       "755                в разводе                 3      F  госслужащий     0   \n",
       "5412         женат / замужем                 0      F    компаньон     0   \n",
       "13208  Не женат / не замужем                 4      M    сотрудник     0   \n",
       "6794   Не женат / не замужем                 4      F    компаньон     0   \n",
       "1158          вдовец / вдова                 2      F    пенсионер     0   \n",
       "\n",
       "        total_income                       purpose  \n",
       "755    318047.093421    покупка жилой недвижимости  \n",
       "5412   134878.500272  на покупку своего автомобиля  \n",
       "13208   65757.567332                    автомобили  \n",
       "6794   282634.267195                   образование  \n",
       "1158    72777.895655       приобретение автомобиля  "
      ]
     },
     "metadata": {},
     "output_type": "display_data"
    },
    {
     "data": {
      "text/html": [
       "<div>\n",
       "<style scoped>\n",
       "    .dataframe tbody tr th:only-of-type {\n",
       "        vertical-align: middle;\n",
       "    }\n",
       "\n",
       "    .dataframe tbody tr th {\n",
       "        vertical-align: top;\n",
       "    }\n",
       "\n",
       "    .dataframe thead th {\n",
       "        text-align: right;\n",
       "    }\n",
       "</style>\n",
       "<table border=\"1\" class=\"dataframe\">\n",
       "  <thead>\n",
       "    <tr style=\"text-align: right;\">\n",
       "      <th></th>\n",
       "      <th>children</th>\n",
       "      <th>days_employed</th>\n",
       "      <th>dob_years</th>\n",
       "      <th>education_id</th>\n",
       "      <th>family_status_id</th>\n",
       "      <th>debt</th>\n",
       "      <th>total_income</th>\n",
       "    </tr>\n",
       "  </thead>\n",
       "  <tbody>\n",
       "    <tr>\n",
       "      <td>count</td>\n",
       "      <td>21525.000000</td>\n",
       "      <td>19351.000000</td>\n",
       "      <td>21525.000000</td>\n",
       "      <td>21525.000000</td>\n",
       "      <td>21525.000000</td>\n",
       "      <td>21525.000000</td>\n",
       "      <td>1.935100e+04</td>\n",
       "    </tr>\n",
       "    <tr>\n",
       "      <td>mean</td>\n",
       "      <td>0.538908</td>\n",
       "      <td>63046.497661</td>\n",
       "      <td>43.293380</td>\n",
       "      <td>0.817236</td>\n",
       "      <td>0.972544</td>\n",
       "      <td>0.080883</td>\n",
       "      <td>1.674223e+05</td>\n",
       "    </tr>\n",
       "    <tr>\n",
       "      <td>std</td>\n",
       "      <td>1.381587</td>\n",
       "      <td>140827.311974</td>\n",
       "      <td>12.574584</td>\n",
       "      <td>0.548138</td>\n",
       "      <td>1.420324</td>\n",
       "      <td>0.272661</td>\n",
       "      <td>1.029716e+05</td>\n",
       "    </tr>\n",
       "    <tr>\n",
       "      <td>min</td>\n",
       "      <td>-1.000000</td>\n",
       "      <td>-18388.949901</td>\n",
       "      <td>0.000000</td>\n",
       "      <td>0.000000</td>\n",
       "      <td>0.000000</td>\n",
       "      <td>0.000000</td>\n",
       "      <td>2.066726e+04</td>\n",
       "    </tr>\n",
       "    <tr>\n",
       "      <td>25%</td>\n",
       "      <td>0.000000</td>\n",
       "      <td>-2747.423625</td>\n",
       "      <td>33.000000</td>\n",
       "      <td>1.000000</td>\n",
       "      <td>0.000000</td>\n",
       "      <td>0.000000</td>\n",
       "      <td>1.030532e+05</td>\n",
       "    </tr>\n",
       "    <tr>\n",
       "      <td>50%</td>\n",
       "      <td>0.000000</td>\n",
       "      <td>-1203.369529</td>\n",
       "      <td>42.000000</td>\n",
       "      <td>1.000000</td>\n",
       "      <td>0.000000</td>\n",
       "      <td>0.000000</td>\n",
       "      <td>1.450179e+05</td>\n",
       "    </tr>\n",
       "    <tr>\n",
       "      <td>75%</td>\n",
       "      <td>1.000000</td>\n",
       "      <td>-291.095954</td>\n",
       "      <td>53.000000</td>\n",
       "      <td>1.000000</td>\n",
       "      <td>1.000000</td>\n",
       "      <td>0.000000</td>\n",
       "      <td>2.034351e+05</td>\n",
       "    </tr>\n",
       "    <tr>\n",
       "      <td>max</td>\n",
       "      <td>20.000000</td>\n",
       "      <td>401755.400475</td>\n",
       "      <td>75.000000</td>\n",
       "      <td>4.000000</td>\n",
       "      <td>4.000000</td>\n",
       "      <td>1.000000</td>\n",
       "      <td>2.265604e+06</td>\n",
       "    </tr>\n",
       "  </tbody>\n",
       "</table>\n",
       "</div>"
      ],
      "text/plain": [
       "           children  days_employed     dob_years  education_id  \\\n",
       "count  21525.000000   19351.000000  21525.000000  21525.000000   \n",
       "mean       0.538908   63046.497661     43.293380      0.817236   \n",
       "std        1.381587  140827.311974     12.574584      0.548138   \n",
       "min       -1.000000  -18388.949901      0.000000      0.000000   \n",
       "25%        0.000000   -2747.423625     33.000000      1.000000   \n",
       "50%        0.000000   -1203.369529     42.000000      1.000000   \n",
       "75%        1.000000    -291.095954     53.000000      1.000000   \n",
       "max       20.000000  401755.400475     75.000000      4.000000   \n",
       "\n",
       "       family_status_id          debt  total_income  \n",
       "count      21525.000000  21525.000000  1.935100e+04  \n",
       "mean           0.972544      0.080883  1.674223e+05  \n",
       "std            1.420324      0.272661  1.029716e+05  \n",
       "min            0.000000      0.000000  2.066726e+04  \n",
       "25%            0.000000      0.000000  1.030532e+05  \n",
       "50%            0.000000      0.000000  1.450179e+05  \n",
       "75%            1.000000      0.000000  2.034351e+05  \n",
       "max            4.000000      1.000000  2.265604e+06  "
      ]
     },
     "metadata": {},
     "output_type": "display_data"
    },
    {
     "name": "stdout",
     "output_type": "stream",
     "text": [
      " *  *  *  *  *  *  *  *  *  *  *  *  *  *  *  *  *  *  *  * \n"
     ]
    }
   ],
   "source": [
    "full_info(data)"
   ]
  },
  {
   "cell_type": "markdown",
   "metadata": {},
   "source": [
    "* 21525 строк с данными и 12 признаков (7 численных и 5 - категориальных), где **debt** - целевой. Категориальные признаки следуют преобразовать в численные с помощью прямого и порядкового кодирования, так как логистическая регрессия воспринимает только численные признаки;\n",
    "* 54 дубликата в данных;\n",
    "* Одинаковое кол-во пропусков в признаках days_employed и total_income  - 2174 шт. (10,1 %). Необходимо проверить, как связаны пропуски по данным признакам между собой и обработать их;\n",
    "* Признаки education и education_id, family_status и family_status_id дублируют друг друга, следует исключить family_status и education из анализа, но перед этим для удобства нужно сделать два справачных датафрейма по данным парам признаков.\n",
    "* children -  отрицательные значения, максимум 20. Вероятно, ошибки при заполнении формы или выгрузке данных.Заменить или удалить данные, сделать категоризацию;\n",
    "* days_employed - пропуски, отрицательные значения, существенное различие между средней и медианой. Вероятно, ошибки при выгрузке данных. Заменить или удалить данные, перевести в года, сделать категоризацию;\n",
    "* dob_years\t- нули. Вероятно, замена пропущенных значений. Медиана и среднее примерно одинаковы - данные распределены нормально. Заменить или удалить данные, сделать категоризацию;\n",
    "* gender - проверить разделение категорий на адекватность;\n",
    "* income_type - проверить разделение категорий на адекватность;\n",
    "* total_income - пропуски. Медиана и среднее примерно одинаковы - данные распределены нормально. Заменить или удалить данные, сделать категоризацию.\n",
    "\n"
   ]
  },
  {
   "cell_type": "markdown",
   "metadata": {},
   "source": [
    "[Вернуться к содержанию](#back-bullet)"
   ]
  },
  {
   "cell_type": "markdown",
   "metadata": {},
   "source": [
    "<a id='rework-bullet'></a>"
   ]
  },
  {
   "cell_type": "markdown",
   "metadata": {},
   "source": [
    "## 2. Предобработка данных и подготовка признаков"
   ]
  },
  {
   "cell_type": "markdown",
   "metadata": {},
   "source": [
    "**education_id, family_status_id**"
   ]
  },
  {
   "cell_type": "code",
   "execution_count": 5,
   "metadata": {},
   "outputs": [
    {
     "data": {
      "text/html": [
       "<div>\n",
       "<style scoped>\n",
       "    .dataframe tbody tr th:only-of-type {\n",
       "        vertical-align: middle;\n",
       "    }\n",
       "\n",
       "    .dataframe tbody tr th {\n",
       "        vertical-align: top;\n",
       "    }\n",
       "\n",
       "    .dataframe thead th {\n",
       "        text-align: right;\n",
       "    }\n",
       "</style>\n",
       "<table border=\"1\" class=\"dataframe\">\n",
       "  <thead>\n",
       "    <tr style=\"text-align: right;\">\n",
       "      <th></th>\n",
       "      <th>education_id</th>\n",
       "    </tr>\n",
       "    <tr>\n",
       "      <th>education</th>\n",
       "      <th></th>\n",
       "    </tr>\n",
       "  </thead>\n",
       "  <tbody>\n",
       "    <tr>\n",
       "      <td>высшее</td>\n",
       "      <td>0</td>\n",
       "    </tr>\n",
       "    <tr>\n",
       "      <td>среднее</td>\n",
       "      <td>1</td>\n",
       "    </tr>\n",
       "    <tr>\n",
       "      <td>неоконченное высшее</td>\n",
       "      <td>2</td>\n",
       "    </tr>\n",
       "    <tr>\n",
       "      <td>начальное</td>\n",
       "      <td>3</td>\n",
       "    </tr>\n",
       "    <tr>\n",
       "      <td>ученая степень</td>\n",
       "      <td>4</td>\n",
       "    </tr>\n",
       "  </tbody>\n",
       "</table>\n",
       "</div>"
      ],
      "text/plain": [
       "                     education_id\n",
       "education                        \n",
       "высшее                          0\n",
       "среднее                         1\n",
       "неоконченное высшее             2\n",
       "начальное                       3\n",
       "ученая степень                  4"
      ]
     },
     "metadata": {},
     "output_type": "display_data"
    },
    {
     "data": {
      "text/html": [
       "<div>\n",
       "<style scoped>\n",
       "    .dataframe tbody tr th:only-of-type {\n",
       "        vertical-align: middle;\n",
       "    }\n",
       "\n",
       "    .dataframe tbody tr th {\n",
       "        vertical-align: top;\n",
       "    }\n",
       "\n",
       "    .dataframe thead th {\n",
       "        text-align: right;\n",
       "    }\n",
       "</style>\n",
       "<table border=\"1\" class=\"dataframe\">\n",
       "  <thead>\n",
       "    <tr style=\"text-align: right;\">\n",
       "      <th></th>\n",
       "      <th>family_status_id</th>\n",
       "    </tr>\n",
       "    <tr>\n",
       "      <th>family_status</th>\n",
       "      <th></th>\n",
       "    </tr>\n",
       "  </thead>\n",
       "  <tbody>\n",
       "    <tr>\n",
       "      <td>женат / замужем</td>\n",
       "      <td>0</td>\n",
       "    </tr>\n",
       "    <tr>\n",
       "      <td>гражданский брак</td>\n",
       "      <td>1</td>\n",
       "    </tr>\n",
       "    <tr>\n",
       "      <td>вдовец / вдова</td>\n",
       "      <td>2</td>\n",
       "    </tr>\n",
       "    <tr>\n",
       "      <td>в разводе</td>\n",
       "      <td>3</td>\n",
       "    </tr>\n",
       "    <tr>\n",
       "      <td>не женат / не замужем</td>\n",
       "      <td>4</td>\n",
       "    </tr>\n",
       "  </tbody>\n",
       "</table>\n",
       "</div>"
      ],
      "text/plain": [
       "                       family_status_id\n",
       "family_status                          \n",
       "женат / замужем                       0\n",
       "гражданский брак                      1\n",
       "вдовец / вдова                        2\n",
       "в разводе                             3\n",
       "не женат / не замужем                 4"
      ]
     },
     "metadata": {},
     "output_type": "display_data"
    }
   ],
   "source": [
    "data['education'] = data['education'].str.lower()\n",
    "data['family_status'] = data['family_status'].str.lower()\n",
    "education = data.pivot_table(index = 'education', \n",
    "                               values = 'education_id', \n",
    "                               aggfunc = 'mean').sort_values(by = 'education_id')\n",
    "family = data.pivot_table(index = 'family_status', \n",
    "                            values = 'family_status_id', \n",
    "                            aggfunc = 'mean').sort_values(by = 'family_status_id')\n",
    "display(education)\n",
    "display(family)"
   ]
  },
  {
   "cell_type": "markdown",
   "metadata": {},
   "source": [
    "***Заметка для разработчиков формы:*** сделать выбор ответа для данных признаков списком, что избежать размножения категорий в будущем."
   ]
  },
  {
   "cell_type": "markdown",
   "metadata": {},
   "source": [
    "**Children**"
   ]
  },
  {
   "cell_type": "code",
   "execution_count": 6,
   "metadata": {},
   "outputs": [],
   "source": [
    "data.loc[data['children'] == -1,'children'] = 1\n",
    "data.loc[data['children'] >= 10,'children'] = data.loc[data['children'] >= 10,'children']/10"
   ]
  },
  {
   "cell_type": "code",
   "execution_count": 7,
   "metadata": {},
   "outputs": [
    {
     "name": "stdout",
     "output_type": "stream",
     "text": [
      "бездетный      14149\n",
      "1-2 ребёнка     6996\n",
      "многодетный      380\n",
      "Name: children_status, dtype: int64\n"
     ]
    }
   ],
   "source": [
    "def childs_group(child):\n",
    "        if child == 0:\n",
    "                return 'бездетный'\n",
    "        if child < 3:\n",
    "                return '1-2 ребёнка'\n",
    "        return 'многодетный'\n",
    "data['children_status'] = data['children'].apply(childs_group)\n",
    "print(data['children_status'].value_counts())"
   ]
  },
  {
   "cell_type": "markdown",
   "metadata": {},
   "source": [
    "***Заметка для разработчиков формы:*** проверить работу системы. Исключить варианты заполнения формы отрицательными значениями и значениями < 10."
   ]
  },
  {
   "cell_type": "markdown",
   "metadata": {},
   "source": [
    "**days_employed, total_income**"
   ]
  },
  {
   "cell_type": "markdown",
   "metadata": {},
   "source": [
    "Количество строк, где есть пропуски в обоих признаках:"
   ]
  },
  {
   "cell_type": "code",
   "execution_count": 8,
   "metadata": {},
   "outputs": [
    {
     "data": {
      "text/plain": [
       "2174"
      ]
     },
     "execution_count": 8,
     "metadata": {},
     "output_type": "execute_result"
    }
   ],
   "source": [
    "data[(data['days_employed'].isnull()) & (data['total_income'].isnull())]['children'].count()"
   ]
  },
  {
   "cell_type": "markdown",
   "metadata": {},
   "source": [
    "Кол-во строк с пропусками по 2-м признакам совпадает с кол-вом строк с пропусками по каждому признаку в отдельности. Возможно, строки соответствуют заёмщикам, которые не работают. Проверяем:"
   ]
  },
  {
   "cell_type": "code",
   "execution_count": 9,
   "metadata": {},
   "outputs": [
    {
     "data": {
      "text/plain": [
       "сотрудник          1105\n",
       "компаньон           508\n",
       "пенсионер           413\n",
       "госслужащий         147\n",
       "предприниматель       1\n",
       "Name: income_type, dtype: int64"
      ]
     },
     "execution_count": 9,
     "metadata": {},
     "output_type": "execute_result"
    }
   ],
   "source": [
    "data[(data['days_employed'].isnull()) & (data['total_income'].isnull())]['income_type'].value_counts()"
   ]
  },
  {
   "cell_type": "markdown",
   "metadata": {},
   "source": [
    "Предположение не подтвердилось. Вероятно, пропуски связаны с неккоректным заполнением форм, либо с ошибкой выгрузки данных с сервера. Исключаем строки с пропусками из анализа:"
   ]
  },
  {
   "cell_type": "code",
   "execution_count": 10,
   "metadata": {},
   "outputs": [],
   "source": [
    "data = data.dropna()"
   ]
  },
  {
   "cell_type": "markdown",
   "metadata": {},
   "source": [
    "Рассмотрим выборки положительных и отрицательных значений признака days_employed:"
   ]
  },
  {
   "cell_type": "code",
   "execution_count": 11,
   "metadata": {},
   "outputs": [
    {
     "data": {
      "text/plain": [
       "count      3445.000000\n",
       "mean     365004.309916\n",
       "std       21075.016396\n",
       "min      328728.720605\n",
       "25%      346639.413916\n",
       "50%      365213.306266\n",
       "75%      383246.444219\n",
       "max      401755.400475\n",
       "Name: days_employed, dtype: float64"
      ]
     },
     "execution_count": 11,
     "metadata": {},
     "output_type": "execute_result"
    }
   ],
   "source": [
    "data[data['days_employed'] >= 0]['days_employed'].describe()"
   ]
  },
  {
   "cell_type": "code",
   "execution_count": 12,
   "metadata": {},
   "outputs": [
    {
     "data": {
      "text/plain": [
       "count    15906.000000\n",
       "mean     -2353.015932\n",
       "std       2304.243851\n",
       "min     -18388.949901\n",
       "25%      -3157.480084\n",
       "50%      -1630.019381\n",
       "75%       -756.371964\n",
       "max        -24.141633\n",
       "Name: days_employed, dtype: float64"
      ]
     },
     "execution_count": 12,
     "metadata": {},
     "output_type": "execute_result"
    }
   ],
   "source": [
    "data[data['days_employed'] < 0]['days_employed'].describe()"
   ]
  },
  {
   "cell_type": "markdown",
   "metadata": {},
   "source": [
    "Отрицательная выборка варьируется в диапозоне значений от 2-го до 5-го порядка. Положительная выборка состоит из значений 6-го порядка, что говорит об ошибке выгрузки данных - вероятно, данные указаны в часах. Преобразуем отрицательные значения в положительные и дни (часы) в года:"
   ]
  },
  {
   "cell_type": "code",
   "execution_count": 13,
   "metadata": {},
   "outputs": [],
   "source": [
    "data.loc[data['days_employed'] > 0, 'days_employed'] = data.loc[data['days_employed'] > 0,'days_employed']/24\n",
    "data['days_employed']  = round(abs(data['days_employed']),0)\n",
    "data['year_employed']  = round(abs(data['days_employed']/365),1) "
   ]
  },
  {
   "cell_type": "code",
   "execution_count": 14,
   "metadata": {},
   "outputs": [
    {
     "data": {
      "text/plain": [
       "count    19351.000000\n",
       "mean        12.716924\n",
       "std         14.674016\n",
       "min          0.100000\n",
       "25%          2.500000\n",
       "50%          6.000000\n",
       "75%         15.200000\n",
       "max         50.400000\n",
       "Name: year_employed, dtype: float64"
      ]
     },
     "execution_count": 14,
     "metadata": {},
     "output_type": "execute_result"
    }
   ],
   "source": [
    "data['year_employed'].describe()"
   ]
  },
  {
   "cell_type": "markdown",
   "metadata": {},
   "source": [
    "Значения адекватны. Проведём категоризацию:"
   ]
  },
  {
   "cell_type": "code",
   "execution_count": 15,
   "metadata": {},
   "outputs": [
    {
     "name": "stdout",
     "output_type": "stream",
     "text": [
      "сверхбольшой стаж    6576\n",
      "большой стаж         4080\n",
      "маленький стаж       3881\n",
      "средний стаж         2886\n",
      "первый опыт          1928\n",
      "Name: year_employed_status, dtype: int64\n"
     ]
    }
   ],
   "source": [
    "def year_group(year):\n",
    "        if year == 0:\n",
    "                return 'не работал'\n",
    "        if 0 < year <= 1:\n",
    "                return 'первый опыт'\n",
    "        if 1 < year <= 3:\n",
    "                return 'маленький стаж'    \n",
    "        if 3 < year <= 5:\n",
    "                return 'средний стаж'\n",
    "        if 5 < year <= 10:\n",
    "                return 'большой стаж'\n",
    "        return 'сверхбольшой стаж'\n",
    "data['year_employed_status'] = data['year_employed'].apply(year_group)\n",
    "print(data['year_employed_status'].value_counts())"
   ]
  },
  {
   "cell_type": "markdown",
   "metadata": {},
   "source": [
    "Проведём категоризацию признака total_income (согласно: https://zen.yandex.ru/media/dogecrypto/kak-poschitat-k-kakomu-klassu-vy-otnosites-po-urovniu-dohoda-5b150b5aea0fe700a848e1b1):"
   ]
  },
  {
   "cell_type": "code",
   "execution_count": 16,
   "metadata": {},
   "outputs": [
    {
     "name": "stdout",
     "output_type": "stream",
     "text": [
      "средний класс            6372\n",
      "предсредний класс        5704\n",
      "нижний средний класс     4388\n",
      "верхний средний класс    2590\n",
      "богатый                   222\n",
      "выше бедности              75\n",
      "Name: group_income, dtype: int64\n"
     ]
    }
   ],
   "source": [
    "def total_income_group(year):\n",
    "        if 0 < year <= 10000:\n",
    "                return 'малоимущий'\n",
    "        if 10000 < year <= 15000:\n",
    "                return 'беднейший'    \n",
    "        if 15000 < year <= 18000:\n",
    "                return 'бедный'\n",
    "        if 18000 < year <= 36000:\n",
    "                return 'выше бедности'\n",
    "        if 36000 < year <= 100000:\n",
    "                return 'нижний средний класс'    \n",
    "        if 100000 < year <= 150000:\n",
    "                return 'предсредний класс'\n",
    "        if 150000 < year <= 250000:\n",
    "                return 'средний класс'\n",
    "        if 250000 < year <= 500000:\n",
    "                return 'верхний средний класс'    \n",
    "        return 'богатый'\n",
    "data['group_income'] = data['total_income'].apply(total_income_group)\n",
    "print(data['group_income'].value_counts())\n"
   ]
  },
  {
   "cell_type": "markdown",
   "metadata": {},
   "source": [
    "**dob_years**"
   ]
  },
  {
   "cell_type": "markdown",
   "metadata": {},
   "source": [
    "Посчитаем количство заёмщиков с возрастом меньше 18 лет, так как кредит разрешено брать только с этого возраста (https://www.sravni.ru/enciklopediya/info/so-skolki-let-dajut-kredit/#:~:text=Гражданам%20Российской%20Федерации%20разрешается%20брать,требуемой%20суммы%20и%20срока%20кредитования)"
   ]
  },
  {
   "cell_type": "code",
   "execution_count": 17,
   "metadata": {},
   "outputs": [
    {
     "data": {
      "text/plain": [
       "0    91\n",
       "Name: dob_years, dtype: int64"
      ]
     },
     "execution_count": 17,
     "metadata": {},
     "output_type": "execute_result"
    }
   ],
   "source": [
    "data[data['dob_years'] < 18]['dob_years'].value_counts()"
   ]
  },
  {
   "cell_type": "markdown",
   "metadata": {},
   "source": [
    "Вероятно, нули - это замена пропущенных значений. Исключаем их:"
   ]
  },
  {
   "cell_type": "code",
   "execution_count": 18,
   "metadata": {},
   "outputs": [],
   "source": [
    "data = data.query('dob_years >= 18')"
   ]
  },
  {
   "cell_type": "markdown",
   "metadata": {},
   "source": [
    "Категоризация (согласно: http://ido.samgtu.ru/images/TeacherFiles/Programms/Dist/Health_4.pdf):"
   ]
  },
  {
   "cell_type": "code",
   "execution_count": 19,
   "metadata": {},
   "outputs": [
    {
     "name": "stdout",
     "output_type": "stream",
     "text": [
      "2-й период зрелого возраста    8602\n",
      "1-й период зрелого возраста    5604\n",
      "пожилой возраст                2665\n",
      "молодёжный возраст             2389\n",
      "Name: dob_year_status, dtype: int64\n"
     ]
    }
   ],
   "source": [
    "def dob_year_group(year):\n",
    "        if 18 <= year <= 28:\n",
    "                return 'молодёжный возраст'\n",
    "        if 28 < year <= 39:\n",
    "                return '1-й период зрелого возраста'\n",
    "        if 39 < year < 59:\n",
    "                return '2-й период зрелого возраста'\n",
    "        return 'пожилой возраст'\n",
    "data['dob_year_status'] = data['dob_years'].apply(dob_year_group)\n",
    "print(data['dob_year_status'].value_counts())"
   ]
  },
  {
   "cell_type": "markdown",
   "metadata": {},
   "source": [
    "**gender**"
   ]
  },
  {
   "cell_type": "code",
   "execution_count": 20,
   "metadata": {},
   "outputs": [
    {
     "data": {
      "text/plain": [
       "F      12688\n",
       "M       6571\n",
       "XNA        1\n",
       "Name: gender, dtype: int64"
      ]
     },
     "execution_count": 20,
     "metadata": {},
     "output_type": "execute_result"
    }
   ],
   "source": [
    "data['gender'].value_counts()"
   ]
  },
  {
   "cell_type": "markdown",
   "metadata": {},
   "source": [
    "Вероятно, XNA - заполнение пропущенного значения. Исключаем его:"
   ]
  },
  {
   "cell_type": "code",
   "execution_count": 21,
   "metadata": {},
   "outputs": [],
   "source": [
    "data = data[data['gender'] != 'XNA']"
   ]
  },
  {
   "cell_type": "markdown",
   "metadata": {},
   "source": [
    "**income_type**"
   ]
  },
  {
   "cell_type": "code",
   "execution_count": 22,
   "metadata": {},
   "outputs": [
    {
     "data": {
      "text/plain": [
       "сотрудник          9964\n",
       "компаньон          4558\n",
       "пенсионер          3426\n",
       "госслужащий        1306\n",
       "безработный           2\n",
       "студент               1\n",
       "предприниматель       1\n",
       "в декрете             1\n",
       "Name: income_type, dtype: int64"
      ]
     },
     "execution_count": 22,
     "metadata": {},
     "output_type": "execute_result"
    }
   ],
   "source": [
    "data['income_type'].value_counts()"
   ]
  },
  {
   "cell_type": "markdown",
   "metadata": {},
   "source": [
    "Видим 8 категорий, при этом 4 из них на 3 порядка меньше остальных. Кол-во категорий следует уменьшить для улучшения качества модели: объединим сотрудников, госслужищих и в декрете в одну категорию 'Работник', компаньонов и предпренимателей в категорию 'Бизнесмен', студентов и безработных в категорию 'Безработный'. Категорию 'Пенсионер' оставляем без изменений:"
   ]
  },
  {
   "cell_type": "code",
   "execution_count": 23,
   "metadata": {},
   "outputs": [
    {
     "data": {
      "text/plain": [
       "сотрудник      9965\n",
       "бизнесмен      4559\n",
       "пенсионер      3426\n",
       "госслужащий    1306\n",
       "безработный       3\n",
       "Name: income_type, dtype: int64"
      ]
     },
     "execution_count": 23,
     "metadata": {},
     "output_type": "execute_result"
    }
   ],
   "source": [
    "data.loc[data['income_type'] == 'в декрете','income_type'] = 'сотрудник'\n",
    "data.loc[data['income_type'] == 'компаньон','income_type'] = 'бизнесмен'\n",
    "data.loc[data['income_type'] == 'предприниматель','income_type'] = 'бизнесмен'\n",
    "data.loc[data['income_type'] == 'студент','income_type'] = 'безработный'\n",
    "data['income_type'].value_counts()"
   ]
  },
  {
   "cell_type": "markdown",
   "metadata": {},
   "source": [
    "***Заметка для разработчиков формы:*** уменьшить кол-во категорий. Сделать выбор вариантов ответа списком."
   ]
  },
  {
   "cell_type": "markdown",
   "metadata": {},
   "source": [
    "**Purpose**"
   ]
  },
  {
   "cell_type": "code",
   "execution_count": 24,
   "metadata": {},
   "outputs": [
    {
     "data": {
      "text/plain": [
       "свадьба                                   717\n",
       "сыграть свадьбу                           688\n",
       "на проведение свадьбы                     682\n",
       "операции с недвижимостью                  612\n",
       "покупка коммерческой недвижимости         594\n",
       "покупка жилья                             589\n",
       "покупка жилья для сдачи                   586\n",
       "жилье                                     583\n",
       "операции с коммерческой недвижимостью     580\n",
       "строительство жилой недвижимости          577\n",
       "операции с жильем                         573\n",
       "покупка своего жилья                      573\n",
       "недвижимость                              570\n",
       "покупка жилья для семьи                   569\n",
       "строительство недвижимости                561\n",
       "операции со своей недвижимостью           559\n",
       "строительство собственной недвижимости    558\n",
       "покупка недвижимости                      549\n",
       "покупка жилой недвижимости                544\n",
       "ремонт жилью                              541\n",
       "автомобиль                                450\n",
       "на покупку своего автомобиля              449\n",
       "заняться высшим образованием              437\n",
       "на покупку подержанного автомобиля        437\n",
       "на покупку автомобиля                     437\n",
       "сделка с подержанным автомобилем          433\n",
       "свой автомобиль                           425\n",
       "автомобили                                419\n",
       "приобретение автомобиля                   417\n",
       "дополнительное образование                412\n",
       "высшее образование                        410\n",
       "сделка с автомобилем                      408\n",
       "образование                               402\n",
       "получение дополнительного образования     394\n",
       "получение образования                     392\n",
       "получение высшего образования             388\n",
       "профильное образование                    388\n",
       "заняться образованием                     356\n",
       "Name: purpose, dtype: int64"
      ]
     },
     "execution_count": 24,
     "metadata": {},
     "output_type": "execute_result"
    }
   ],
   "source": [
    "data['purpose'].value_counts()"
   ]
  },
  {
   "cell_type": "markdown",
   "metadata": {},
   "source": [
    "Необходимо уменьшить кол-во категорий с помощью лемматизации. "
   ]
  },
  {
   "cell_type": "code",
   "execution_count": 25,
   "metadata": {},
   "outputs": [
    {
     "data": {
      "text/plain": [
       "недвижимость    5704\n",
       "жилье           4014\n",
       "автомобиль      3875\n",
       "образование     3579\n",
       "свадьба         2087\n",
       "Name: purpose, dtype: int64"
      ]
     },
     "execution_count": 25,
     "metadata": {},
     "output_type": "execute_result"
    }
   ],
   "source": [
    "m = Mystem()\n",
    "text = ['свадьба','жилье','недвижимость','автомобиль','образование']\n",
    "def slovo(i): \n",
    "    lemma = m.lemmatize(i) \n",
    "    for n in text: \n",
    "        if n in lemma:\n",
    "            lemma = n \n",
    "    return lemma \n",
    "data.loc[:,'purpose'] = data['purpose'].apply(slovo)\n",
    "data['purpose'].value_counts()"
   ]
  },
  {
   "cell_type": "markdown",
   "metadata": {},
   "source": [
    "***Заметка для разработчиков формы:*** уменьшить кол-во категорий для выбора. Сделать выбор вариантов ответа списком."
   ]
  },
  {
   "cell_type": "markdown",
   "metadata": {},
   "source": [
    "**debt**"
   ]
  },
  {
   "cell_type": "code",
   "execution_count": 26,
   "metadata": {},
   "outputs": [
    {
     "data": {
      "text/plain": [
       "0    17696\n",
       "1     1563\n",
       "Name: debt, dtype: int64"
      ]
     },
     "execution_count": 26,
     "metadata": {},
     "output_type": "execute_result"
    }
   ],
   "source": [
    "data['debt'].value_counts()"
   ]
  },
  {
   "cell_type": "markdown",
   "metadata": {},
   "source": [
    "Должников на порядок меньше. При моделировании стоит применить upsampling."
   ]
  },
  {
   "cell_type": "markdown",
   "metadata": {},
   "source": [
    "**Обработка дубликатов**"
   ]
  },
  {
   "cell_type": "code",
   "execution_count": 27,
   "metadata": {},
   "outputs": [
    {
     "name": "stdout",
     "output_type": "stream",
     "text": [
      "Количество дубликатов в данных: 0\n",
      "Количество дубликатов в данных: 0\n"
     ]
    }
   ],
   "source": [
    "print('Количество дубликатов в данных:', data.duplicated().sum())\n",
    "data = data.drop_duplicates()\n",
    "print('Количество дубликатов в данных:', data.duplicated().sum())"
   ]
  },
  {
   "cell_type": "markdown",
   "metadata": {},
   "source": [
    "**Кодирование** <a id='type-bullet'></a>"
   ]
  },
  {
   "cell_type": "code",
   "execution_count": 28,
   "metadata": {},
   "outputs": [
    {
     "data": {
      "text/html": [
       "<div>\n",
       "<style scoped>\n",
       "    .dataframe tbody tr th:only-of-type {\n",
       "        vertical-align: middle;\n",
       "    }\n",
       "\n",
       "    .dataframe tbody tr th {\n",
       "        vertical-align: top;\n",
       "    }\n",
       "\n",
       "    .dataframe thead th {\n",
       "        text-align: right;\n",
       "    }\n",
       "</style>\n",
       "<table border=\"1\" class=\"dataframe\">\n",
       "  <thead>\n",
       "    <tr style=\"text-align: right;\">\n",
       "      <th></th>\n",
       "      <th>children</th>\n",
       "      <th>days_employed</th>\n",
       "      <th>dob_years</th>\n",
       "      <th>education</th>\n",
       "      <th>education_id</th>\n",
       "      <th>family_status</th>\n",
       "      <th>family_status_id</th>\n",
       "      <th>gender</th>\n",
       "      <th>income_type</th>\n",
       "      <th>debt</th>\n",
       "      <th>total_income</th>\n",
       "      <th>purpose</th>\n",
       "      <th>children_status</th>\n",
       "      <th>year_employed</th>\n",
       "      <th>year_employed_status</th>\n",
       "      <th>group_income</th>\n",
       "      <th>dob_year_status</th>\n",
       "    </tr>\n",
       "  </thead>\n",
       "  <tbody>\n",
       "    <tr>\n",
       "      <td>20996</td>\n",
       "      <td>0.0</td>\n",
       "      <td>6290.0</td>\n",
       "      <td>41</td>\n",
       "      <td>среднее</td>\n",
       "      <td>1</td>\n",
       "      <td>женат / замужем</td>\n",
       "      <td>0</td>\n",
       "      <td>M</td>\n",
       "      <td>сотрудник</td>\n",
       "      <td>0</td>\n",
       "      <td>219389.360402</td>\n",
       "      <td>образование</td>\n",
       "      <td>бездетный</td>\n",
       "      <td>17.2</td>\n",
       "      <td>сверхбольшой стаж</td>\n",
       "      <td>средний класс</td>\n",
       "      <td>2-й период зрелого возраста</td>\n",
       "    </tr>\n",
       "    <tr>\n",
       "      <td>20255</td>\n",
       "      <td>2.0</td>\n",
       "      <td>1044.0</td>\n",
       "      <td>43</td>\n",
       "      <td>высшее</td>\n",
       "      <td>0</td>\n",
       "      <td>женат / замужем</td>\n",
       "      <td>0</td>\n",
       "      <td>M</td>\n",
       "      <td>бизнесмен</td>\n",
       "      <td>0</td>\n",
       "      <td>521125.408255</td>\n",
       "      <td>недвижимость</td>\n",
       "      <td>1-2 ребёнка</td>\n",
       "      <td>2.9</td>\n",
       "      <td>маленький стаж</td>\n",
       "      <td>богатый</td>\n",
       "      <td>2-й период зрелого возраста</td>\n",
       "    </tr>\n",
       "    <tr>\n",
       "      <td>16326</td>\n",
       "      <td>1.0</td>\n",
       "      <td>869.0</td>\n",
       "      <td>34</td>\n",
       "      <td>среднее</td>\n",
       "      <td>1</td>\n",
       "      <td>женат / замужем</td>\n",
       "      <td>0</td>\n",
       "      <td>F</td>\n",
       "      <td>сотрудник</td>\n",
       "      <td>0</td>\n",
       "      <td>182095.380127</td>\n",
       "      <td>недвижимость</td>\n",
       "      <td>1-2 ребёнка</td>\n",
       "      <td>2.4</td>\n",
       "      <td>маленький стаж</td>\n",
       "      <td>средний класс</td>\n",
       "      <td>1-й период зрелого возраста</td>\n",
       "    </tr>\n",
       "    <tr>\n",
       "      <td>1283</td>\n",
       "      <td>0.0</td>\n",
       "      <td>7391.0</td>\n",
       "      <td>53</td>\n",
       "      <td>среднее</td>\n",
       "      <td>1</td>\n",
       "      <td>женат / замужем</td>\n",
       "      <td>0</td>\n",
       "      <td>F</td>\n",
       "      <td>сотрудник</td>\n",
       "      <td>0</td>\n",
       "      <td>133877.820009</td>\n",
       "      <td>жилье</td>\n",
       "      <td>бездетный</td>\n",
       "      <td>20.2</td>\n",
       "      <td>сверхбольшой стаж</td>\n",
       "      <td>предсредний класс</td>\n",
       "      <td>2-й период зрелого возраста</td>\n",
       "    </tr>\n",
       "    <tr>\n",
       "      <td>5923</td>\n",
       "      <td>0.0</td>\n",
       "      <td>3508.0</td>\n",
       "      <td>38</td>\n",
       "      <td>среднее</td>\n",
       "      <td>1</td>\n",
       "      <td>женат / замужем</td>\n",
       "      <td>0</td>\n",
       "      <td>F</td>\n",
       "      <td>сотрудник</td>\n",
       "      <td>0</td>\n",
       "      <td>59550.789462</td>\n",
       "      <td>недвижимость</td>\n",
       "      <td>бездетный</td>\n",
       "      <td>9.6</td>\n",
       "      <td>большой стаж</td>\n",
       "      <td>нижний средний класс</td>\n",
       "      <td>1-й период зрелого возраста</td>\n",
       "    </tr>\n",
       "  </tbody>\n",
       "</table>\n",
       "</div>"
      ],
      "text/plain": [
       "       children  days_employed  dob_years education  education_id  \\\n",
       "20996       0.0         6290.0         41   среднее             1   \n",
       "20255       2.0         1044.0         43    высшее             0   \n",
       "16326       1.0          869.0         34   среднее             1   \n",
       "1283        0.0         7391.0         53   среднее             1   \n",
       "5923        0.0         3508.0         38   среднее             1   \n",
       "\n",
       "         family_status  family_status_id gender income_type  debt  \\\n",
       "20996  женат / замужем                 0      M   сотрудник     0   \n",
       "20255  женат / замужем                 0      M   бизнесмен     0   \n",
       "16326  женат / замужем                 0      F   сотрудник     0   \n",
       "1283   женат / замужем                 0      F   сотрудник     0   \n",
       "5923   женат / замужем                 0      F   сотрудник     0   \n",
       "\n",
       "        total_income       purpose children_status  year_employed  \\\n",
       "20996  219389.360402   образование       бездетный           17.2   \n",
       "20255  521125.408255  недвижимость     1-2 ребёнка            2.9   \n",
       "16326  182095.380127  недвижимость     1-2 ребёнка            2.4   \n",
       "1283   133877.820009         жилье       бездетный           20.2   \n",
       "5923    59550.789462  недвижимость       бездетный            9.6   \n",
       "\n",
       "      year_employed_status          group_income              dob_year_status  \n",
       "20996    сверхбольшой стаж         средний класс  2-й период зрелого возраста  \n",
       "20255       маленький стаж               богатый  2-й период зрелого возраста  \n",
       "16326       маленький стаж         средний класс  1-й период зрелого возраста  \n",
       "1283     сверхбольшой стаж     предсредний класс  2-й период зрелого возраста  \n",
       "5923          большой стаж  нижний средний класс  1-й период зрелого возраста  "
      ]
     },
     "execution_count": 28,
     "metadata": {},
     "output_type": "execute_result"
    }
   ],
   "source": [
    "data.sample(5)"
   ]
  },
  {
   "cell_type": "markdown",
   "metadata": {},
   "source": [
    "Перед кодированием исключаем дублируещиеся признаки: 'children', 'days_employed', 'dob_years', 'education', 'family_status', 'total_income', 'year_employed' - и делаем переиндексацию:"
   ]
  },
  {
   "cell_type": "code",
   "execution_count": 29,
   "metadata": {},
   "outputs": [],
   "source": [
    "data = data.drop(['children', \n",
    "                 'days_employed', \n",
    "                 'dob_years', \n",
    "                 'education', \n",
    "                 'family_status', \n",
    "                 'total_income', \n",
    "                 'year_employed'], axis = 1).reset_index().drop(['index'], axis = 1)"
   ]
  },
  {
   "cell_type": "code",
   "execution_count": 30,
   "metadata": {},
   "outputs": [
    {
     "data": {
      "text/html": [
       "<div>\n",
       "<style scoped>\n",
       "    .dataframe tbody tr th:only-of-type {\n",
       "        vertical-align: middle;\n",
       "    }\n",
       "\n",
       "    .dataframe tbody tr th {\n",
       "        vertical-align: top;\n",
       "    }\n",
       "\n",
       "    .dataframe thead th {\n",
       "        text-align: right;\n",
       "    }\n",
       "</style>\n",
       "<table border=\"1\" class=\"dataframe\">\n",
       "  <thead>\n",
       "    <tr style=\"text-align: right;\">\n",
       "      <th></th>\n",
       "      <th>education_id</th>\n",
       "      <th>family_status_id</th>\n",
       "      <th>gender</th>\n",
       "      <th>income_type</th>\n",
       "      <th>debt</th>\n",
       "      <th>purpose</th>\n",
       "      <th>children_status</th>\n",
       "      <th>year_employed_status</th>\n",
       "      <th>group_income</th>\n",
       "      <th>dob_year_status</th>\n",
       "    </tr>\n",
       "  </thead>\n",
       "  <tbody>\n",
       "    <tr>\n",
       "      <td>2328</td>\n",
       "      <td>1</td>\n",
       "      <td>1</td>\n",
       "      <td>M</td>\n",
       "      <td>госслужащий</td>\n",
       "      <td>0</td>\n",
       "      <td>свадьба</td>\n",
       "      <td>1-2 ребёнка</td>\n",
       "      <td>сверхбольшой стаж</td>\n",
       "      <td>средний класс</td>\n",
       "      <td>1-й период зрелого возраста</td>\n",
       "    </tr>\n",
       "    <tr>\n",
       "      <td>15356</td>\n",
       "      <td>1</td>\n",
       "      <td>0</td>\n",
       "      <td>F</td>\n",
       "      <td>сотрудник</td>\n",
       "      <td>0</td>\n",
       "      <td>автомобиль</td>\n",
       "      <td>бездетный</td>\n",
       "      <td>сверхбольшой стаж</td>\n",
       "      <td>средний класс</td>\n",
       "      <td>2-й период зрелого возраста</td>\n",
       "    </tr>\n",
       "    <tr>\n",
       "      <td>7641</td>\n",
       "      <td>1</td>\n",
       "      <td>4</td>\n",
       "      <td>F</td>\n",
       "      <td>пенсионер</td>\n",
       "      <td>0</td>\n",
       "      <td>жилье</td>\n",
       "      <td>бездетный</td>\n",
       "      <td>сверхбольшой стаж</td>\n",
       "      <td>нижний средний класс</td>\n",
       "      <td>пожилой возраст</td>\n",
       "    </tr>\n",
       "    <tr>\n",
       "      <td>10986</td>\n",
       "      <td>1</td>\n",
       "      <td>0</td>\n",
       "      <td>M</td>\n",
       "      <td>бизнесмен</td>\n",
       "      <td>0</td>\n",
       "      <td>жилье</td>\n",
       "      <td>бездетный</td>\n",
       "      <td>большой стаж</td>\n",
       "      <td>верхний средний класс</td>\n",
       "      <td>2-й период зрелого возраста</td>\n",
       "    </tr>\n",
       "    <tr>\n",
       "      <td>905</td>\n",
       "      <td>0</td>\n",
       "      <td>4</td>\n",
       "      <td>F</td>\n",
       "      <td>бизнесмен</td>\n",
       "      <td>0</td>\n",
       "      <td>жилье</td>\n",
       "      <td>бездетный</td>\n",
       "      <td>первый опыт</td>\n",
       "      <td>средний класс</td>\n",
       "      <td>молодёжный возраст</td>\n",
       "    </tr>\n",
       "  </tbody>\n",
       "</table>\n",
       "</div>"
      ],
      "text/plain": [
       "       education_id  family_status_id gender  income_type  debt     purpose  \\\n",
       "2328              1                 1      M  госслужащий     0     свадьба   \n",
       "15356             1                 0      F    сотрудник     0  автомобиль   \n",
       "7641              1                 4      F    пенсионер     0       жилье   \n",
       "10986             1                 0      M    бизнесмен     0       жилье   \n",
       "905               0                 4      F    бизнесмен     0       жилье   \n",
       "\n",
       "      children_status year_employed_status           group_income  \\\n",
       "2328      1-2 ребёнка    сверхбольшой стаж          средний класс   \n",
       "15356       бездетный    сверхбольшой стаж          средний класс   \n",
       "7641        бездетный    сверхбольшой стаж   нижний средний класс   \n",
       "10986       бездетный         большой стаж  верхний средний класс   \n",
       "905         бездетный          первый опыт          средний класс   \n",
       "\n",
       "                   dob_year_status  \n",
       "2328   1-й период зрелого возраста  \n",
       "15356  2-й период зрелого возраста  \n",
       "7641               пожилой возраст  \n",
       "10986  2-й период зрелого возраста  \n",
       "905             молодёжный возраст  "
      ]
     },
     "execution_count": 30,
     "metadata": {},
     "output_type": "execute_result"
    }
   ],
   "source": [
    "data.sample(5)"
   ]
  },
  {
   "cell_type": "code",
   "execution_count": 31,
   "metadata": {},
   "outputs": [],
   "source": [
    "encoder = OrdinalEncoder()\n",
    "data_ordinal = pd.DataFrame(encoder.fit_transform(data),\n",
    "                            columns=data.columns)"
   ]
  },
  {
   "cell_type": "markdown",
   "metadata": {},
   "source": [
    "**Мультиколлинеарность**"
   ]
  },
  {
   "cell_type": "code",
   "execution_count": 32,
   "metadata": {},
   "outputs": [
    {
     "data": {
      "image/png": "[encoded data removed]",
      "text/plain": [
       "<Figure size 1080x1080 with 2 Axes>"
      ]
     },
     "metadata": {
      "needs_background": "light"
     },
     "output_type": "display_data"
    }
   ],
   "source": [
    "correlation_mat = data_ordinal.corr()  \n",
    "plt.subplots(figsize=(15,15))  \n",
    "sns.heatmap(correlation_mat, annot = True)  \n",
    "plt.show()"
   ]
  },
  {
   "cell_type": "markdown",
   "metadata": {},
   "source": [
    "Высокой корреляции между признаками нет, можно приступать к моделированию."
   ]
  },
  {
   "cell_type": "markdown",
   "metadata": {},
   "source": [
    "[Вернуться к содержанию](#back-bullet)"
   ]
  },
  {
   "cell_type": "markdown",
   "metadata": {},
   "source": [
    "<a id='model-bullet'></a>"
   ]
  },
  {
   "cell_type": "markdown",
   "metadata": {},
   "source": [
    "## 3. Создание модели"
   ]
  },
  {
   "cell_type": "markdown",
   "metadata": {},
   "source": [
    "Выделяем признаки и целевой признак, делим данные на выборки:"
   ]
  },
  {
   "cell_type": "code",
   "execution_count": 33,
   "metadata": {},
   "outputs": [],
   "source": [
    "target = data_ordinal['debt']\n",
    "features = data_ordinal.drop('debt', axis=1)\n",
    "features_train, features_test, target_train, target_test = train_test_split(features, \n",
    "                                                                            target, \n",
    "                                                                            test_size = 0.25, \n",
    "                                                                            random_state = 12345)"
   ]
  },
  {
   "cell_type": "code",
   "execution_count": 34,
   "metadata": {},
   "outputs": [],
   "source": [
    "def upsample(features, target, repeat):\n",
    "    features_zeros = features[target == 0]\n",
    "    features_ones = features[target == 1]\n",
    "    target_zeros = target[target == 0]\n",
    "    target_ones = target[target == 1]\n",
    "\n",
    "    features_upsampled = pd.concat([features_zeros] + [features_ones] * repeat)\n",
    "    target_upsampled = pd.concat([target_zeros] + [target_ones] * repeat)\n",
    "    \n",
    "    features_upsampled, target_upsampled = shuffle(\n",
    "        features_upsampled, target_upsampled, random_state=12345)\n",
    "    \n",
    "    return features_upsampled, target_upsampled\n",
    "\n",
    "features_upsampled, target_upsampled = upsample(features_train, target_train, 11)\n"
   ]
  },
  {
   "cell_type": "code",
   "execution_count": 35,
   "metadata": {},
   "outputs": [
    {
     "data": {
      "text/plain": [
       "0.0    13271\n",
       "1.0    12903\n",
       "Name: debt, dtype: int64"
      ]
     },
     "execution_count": 35,
     "metadata": {},
     "output_type": "execute_result"
    }
   ],
   "source": [
    "target_upsampled.value_counts()"
   ]
  },
  {
   "cell_type": "markdown",
   "metadata": {},
   "source": [
    "Модели для сравнения: RandomForest, LogisticRegression, CatBoost, XGBoost"
   ]
  },
  {
   "cell_type": "markdown",
   "metadata": {},
   "source": [
    "**RandomForest**"
   ]
  },
  {
   "cell_type": "code",
   "execution_count": 36,
   "metadata": {},
   "outputs": [
    {
     "name": "stdout",
     "output_type": "stream",
     "text": [
      "Лучший результат:\n",
      "{'n_estimators': 15, 'min_samples_split': 6, 'min_samples_leaf': 1, 'max_depth': 19}\n",
      "Случайный лес, AUC-Roc: 0.5221170505577285\n"
     ]
    }
   ],
   "source": [
    "model = RandomForestClassifier()\n",
    "\n",
    "params = {\n",
    "    'n_estimators': range (10, 80, 5),\n",
    "    'max_depth': range (1,20, 2),\n",
    "    'min_samples_leaf': range (1,8),\n",
    "    'min_samples_split': range (2,10,2) \n",
    "}\n",
    "\n",
    "grid = RandomizedSearchCV(model, params, random_state = 12345, cv = 5)\n",
    "grid.fit(features_upsampled, target_upsampled)\n",
    "\n",
    "print('Лучший результат:')\n",
    "print(grid.best_params_)\n",
    "probabilities_valid_random = grid.predict_proba(features_test)\n",
    "probabilities_one_test = probabilities_valid_random[:, 1]\n",
    "print('Случайный лес, AUC-Roc:', roc_auc_score(target_test, probabilities_one_test))\n",
    "fpr, tpr, thresholds = roc_curve(target_test, probabilities_one_test)"
   ]
  },
  {
   "cell_type": "code",
   "execution_count": 37,
   "metadata": {},
   "outputs": [
    {
     "data": {
      "image/png": "[encoded data removed]",
      "text/plain": [
       "<Figure size 432x288 with 1 Axes>"
      ]
     },
     "metadata": {
      "needs_background": "light"
     },
     "output_type": "display_data"
    }
   ],
   "source": [
    "plt.figure()\n",
    "\n",
    "plt.plot([0, 1], [0, 1], linestyle='--')\n",
    "plt.plot(fpr, tpr, label = 'Случайный лес')\n",
    "plt.legend()\n",
    "plt.xlabel('False Positive Rate')\n",
    "plt.ylabel('True Positive Rate')\n",
    "plt.ylim([0.0, 1.0])\n",
    "plt.xlim([0.0, 1.0])\n",
    "plt.title('ROC-кривые')\n",
    "plt.show() "
   ]
  },
  {
   "cell_type": "markdown",
   "metadata": {},
   "source": [
    "**LogisticRegression**"
   ]
  },
  {
   "cell_type": "code",
   "execution_count": 38,
   "metadata": {},
   "outputs": [
    {
     "name": "stdout",
     "output_type": "stream",
     "text": [
      "AUC-ROC = 0.5946959293060987\n"
     ]
    }
   ],
   "source": [
    "model_log1 = LogisticRegression(solver = 'liblinear', random_state = 12345)\n",
    "model_log1.fit(features_upsampled, target_upsampled)\n",
    "probabilities_valid_log = model_log1.predict_proba(features_test)\n",
    "probabilities_one_valid = probabilities_valid_log[:, 1]\n",
    "print('AUC-ROC =',roc_auc_score(target_test, probabilities_one_valid))\n",
    "fpr2, tpr2, thresholds2 = roc_curve(target_test, probabilities_one_valid)"
   ]
  },
  {
   "cell_type": "code",
   "execution_count": 39,
   "metadata": {},
   "outputs": [
    {
     "data": {
      "image/png": "[encoded data removed]",
      "text/plain": [
       "<Figure size 432x288 with 1 Axes>"
      ]
     },
     "metadata": {
      "needs_background": "light"
     },
     "output_type": "display_data"
    }
   ],
   "source": [
    "plt.figure()\n",
    "\n",
    "plt.plot([0, 1], [0, 1], linestyle='--')\n",
    "plt.plot(fpr2, tpr2, label = 'Логистическая регрессия')\n",
    "plt.legend()\n",
    "plt.xlabel('False Positive Rate')\n",
    "plt.ylabel('True Positive Rate')\n",
    "plt.ylim([0.0, 1.0])\n",
    "plt.xlim([0.0, 1.0])\n",
    "plt.title('ROC-кривые')\n",
    "plt.show() "
   ]
  },
  {
   "cell_type": "markdown",
   "metadata": {},
   "source": [
    "[Вернуться к содержанию](#back-bullet)"
   ]
  },
  {
   "cell_type": "markdown",
   "metadata": {},
   "source": [
    "<a id='conclusion-bullet'></a>"
   ]
  },
  {
   "cell_type": "markdown",
   "metadata": {},
   "source": [
    "## 4. Общий вывод "
   ]
  },
  {
   "cell_type": "markdown",
   "metadata": {},
   "source": []
  },
  {
   "cell_type": "markdown",
   "metadata": {},
   "source": [
    "[Вернуться к содержанию](#back-bullet)"
   ]
  },
  {
   "cell_type": "code",
   "execution_count": null,
   "metadata": {},
   "outputs": [],
   "source": []
  }
 ],
 "metadata": {
  "ExecuteTimeLog": [
   {
    "duration": 1471,
    "start_time": "2021-11-23T06:48:47.330Z"
   },
   {
    "duration": 2908,
    "start_time": "2021-11-23T06:48:48.804Z"
   },
   {
    "duration": -588,
    "start_time": "2021-11-23T06:48:52.303Z"
   },
   {
    "duration": -589,
    "start_time": "2021-11-23T06:48:52.306Z"
   },
   {
    "duration": -589,
    "start_time": "2021-11-23T06:48:52.308Z"
   },
   {
    "duration": -591,
    "start_time": "2021-11-23T06:48:52.311Z"
   },
   {
    "duration": -592,
    "start_time": "2021-11-23T06:48:52.313Z"
   },
   {
    "duration": -592,
    "start_time": "2021-11-23T06:48:52.315Z"
   },
   {
    "duration": -593,
    "start_time": "2021-11-23T06:48:52.318Z"
   },
   {
    "duration": -593,
    "start_time": "2021-11-23T06:48:52.319Z"
   },
   {
    "duration": -594,
    "start_time": "2021-11-23T06:48:52.321Z"
   },
   {
    "duration": -594,
    "start_time": "2021-11-23T06:48:52.323Z"
   },
   {
    "duration": -594,
    "start_time": "2021-11-23T06:48:52.325Z"
   },
   {
    "duration": -594,
    "start_time": "2021-11-23T06:48:52.326Z"
   },
   {
    "duration": -594,
    "start_time": "2021-11-23T06:48:52.328Z"
   },
   {
    "duration": -594,
    "start_time": "2021-11-23T06:48:52.329Z"
   },
   {
    "duration": -594,
    "start_time": "2021-11-23T06:48:52.330Z"
   },
   {
    "duration": -594,
    "start_time": "2021-11-23T06:48:52.332Z"
   },
   {
    "duration": -595,
    "start_time": "2021-11-23T06:48:52.334Z"
   },
   {
    "duration": -594,
    "start_time": "2021-11-23T06:48:52.335Z"
   },
   {
    "duration": -596,
    "start_time": "2021-11-23T06:48:52.338Z"
   },
   {
    "duration": 1515,
    "start_time": "2021-11-23T06:50:16.018Z"
   },
   {
    "duration": 65,
    "start_time": "2021-11-23T06:50:17.536Z"
   },
   {
    "duration": 5,
    "start_time": "2021-11-23T06:50:17.604Z"
   },
   {
    "duration": 79,
    "start_time": "2021-11-23T06:50:17.612Z"
   },
   {
    "duration": 60,
    "start_time": "2021-11-23T06:50:17.694Z"
   },
   {
    "duration": 14,
    "start_time": "2021-11-23T06:50:17.756Z"
   },
   {
    "duration": 30,
    "start_time": "2021-11-23T06:50:17.773Z"
   },
   {
    "duration": 10,
    "start_time": "2021-11-23T06:50:17.805Z"
   },
   {
    "duration": 40,
    "start_time": "2021-11-23T06:50:17.818Z"
   },
   {
    "duration": 44,
    "start_time": "2021-11-23T06:50:17.861Z"
   },
   {
    "duration": 15,
    "start_time": "2021-11-23T06:50:17.908Z"
   },
   {
    "duration": 15,
    "start_time": "2021-11-23T06:50:17.926Z"
   },
   {
    "duration": 10,
    "start_time": "2021-11-23T06:50:17.943Z"
   },
   {
    "duration": 50,
    "start_time": "2021-11-23T06:50:17.956Z"
   },
   {
    "duration": 21,
    "start_time": "2021-11-23T06:50:18.009Z"
   },
   {
    "duration": 12,
    "start_time": "2021-11-23T06:50:18.032Z"
   },
   {
    "duration": 19,
    "start_time": "2021-11-23T06:50:18.047Z"
   },
   {
    "duration": 52,
    "start_time": "2021-11-23T06:50:18.069Z"
   },
   {
    "duration": 23,
    "start_time": "2021-11-23T06:50:18.123Z"
   },
   {
    "duration": 70,
    "start_time": "2021-11-23T06:50:18.149Z"
   },
   {
    "duration": 4412,
    "start_time": "2021-11-23T06:50:18.221Z"
   },
   {
    "duration": 1443,
    "start_time": "2021-11-23T07:00:34.451Z"
   },
   {
    "duration": 66,
    "start_time": "2021-11-23T07:00:35.896Z"
   },
   {
    "duration": 6,
    "start_time": "2021-11-23T07:00:35.965Z"
   },
   {
    "duration": 63,
    "start_time": "2021-11-23T07:00:35.974Z"
   },
   {
    "duration": 77,
    "start_time": "2021-11-23T07:00:36.040Z"
   },
   {
    "duration": 14,
    "start_time": "2021-11-23T07:00:36.120Z"
   },
   {
    "duration": 6,
    "start_time": "2021-11-23T07:00:36.137Z"
   },
   {
    "duration": 13,
    "start_time": "2021-11-23T07:00:36.145Z"
   },
   {
    "duration": 65,
    "start_time": "2021-11-23T07:00:36.162Z"
   },
   {
    "duration": 11,
    "start_time": "2021-11-23T07:00:36.230Z"
   },
   {
    "duration": 10,
    "start_time": "2021-11-23T07:00:36.243Z"
   },
   {
    "duration": 11,
    "start_time": "2021-11-23T07:00:36.255Z"
   },
   {
    "duration": 40,
    "start_time": "2021-11-23T07:00:36.268Z"
   },
   {
    "duration": 11,
    "start_time": "2021-11-23T07:00:36.310Z"
   },
   {
    "duration": 17,
    "start_time": "2021-11-23T07:00:36.323Z"
   },
   {
    "duration": 13,
    "start_time": "2021-11-23T07:00:36.342Z"
   },
   {
    "duration": 58,
    "start_time": "2021-11-23T07:00:36.357Z"
   },
   {
    "duration": 23,
    "start_time": "2021-11-23T07:00:36.418Z"
   },
   {
    "duration": 10,
    "start_time": "2021-11-23T07:00:36.443Z"
   },
   {
    "duration": 76,
    "start_time": "2021-11-23T07:00:36.455Z"
   },
   {
    "duration": 4274,
    "start_time": "2021-11-23T07:00:36.534Z"
   },
   {
    "duration": 1503,
    "start_time": "2021-11-23T07:02:18.337Z"
   },
   {
    "duration": 67,
    "start_time": "2021-11-23T07:02:19.843Z"
   },
   {
    "duration": 6,
    "start_time": "2021-11-23T07:02:19.914Z"
   },
   {
    "duration": 57,
    "start_time": "2021-11-23T07:02:19.922Z"
   },
   {
    "duration": 65,
    "start_time": "2021-11-23T07:02:20.001Z"
   },
   {
    "duration": 37,
    "start_time": "2021-11-23T07:02:20.068Z"
   },
   {
    "duration": 7,
    "start_time": "2021-11-23T07:02:20.108Z"
   },
   {
    "duration": 10,
    "start_time": "2021-11-23T07:02:20.117Z"
   },
   {
    "duration": 37,
    "start_time": "2021-11-23T07:02:20.131Z"
   },
   {
    "duration": 11,
    "start_time": "2021-11-23T07:02:20.199Z"
   },
   {
    "duration": 15,
    "start_time": "2021-11-23T07:02:20.213Z"
   },
   {
    "duration": 15,
    "start_time": "2021-11-23T07:02:20.230Z"
   },
   {
    "duration": 14,
    "start_time": "2021-11-23T07:02:20.247Z"
   },
   {
    "duration": 45,
    "start_time": "2021-11-23T07:02:20.264Z"
   },
   {
    "duration": 17,
    "start_time": "2021-11-23T07:02:20.311Z"
   },
   {
    "duration": 19,
    "start_time": "2021-11-23T07:02:20.331Z"
   },
   {
    "duration": 54,
    "start_time": "2021-11-23T07:02:20.353Z"
   },
   {
    "duration": 29,
    "start_time": "2021-11-23T07:02:20.409Z"
   },
   {
    "duration": 13,
    "start_time": "2021-11-23T07:02:20.440Z"
   },
   {
    "duration": 78,
    "start_time": "2021-11-23T07:02:20.457Z"
   },
   {
    "duration": 4430,
    "start_time": "2021-11-23T07:02:20.537Z"
   },
   {
    "duration": 25,
    "start_time": "2021-11-23T07:17:58.611Z"
   },
   {
    "duration": 13,
    "start_time": "2021-11-23T07:25:54.547Z"
   },
   {
    "duration": 12,
    "start_time": "2021-11-23T07:28:52.948Z"
   },
   {
    "duration": 7,
    "start_time": "2021-11-23T07:29:06.855Z"
   },
   {
    "duration": 11,
    "start_time": "2021-11-23T07:29:09.380Z"
   },
   {
    "duration": 8,
    "start_time": "2021-11-23T07:30:17.107Z"
   },
   {
    "duration": 27,
    "start_time": "2021-11-23T07:30:17.718Z"
   },
   {
    "duration": 8,
    "start_time": "2021-11-23T07:30:53.660Z"
   },
   {
    "duration": 29,
    "start_time": "2021-11-23T07:30:55.656Z"
   },
   {
    "duration": 35,
    "start_time": "2021-11-23T07:32:56.120Z"
   },
   {
    "duration": 1588,
    "start_time": "2021-11-23T07:33:04.528Z"
   },
   {
    "duration": 66,
    "start_time": "2021-11-23T07:33:06.119Z"
   },
   {
    "duration": 6,
    "start_time": "2021-11-23T07:33:06.191Z"
   },
   {
    "duration": 77,
    "start_time": "2021-11-23T07:33:06.201Z"
   },
   {
    "duration": 71,
    "start_time": "2021-11-23T07:33:06.281Z"
   },
   {
    "duration": 19,
    "start_time": "2021-11-23T07:33:06.354Z"
   },
   {
    "duration": 38,
    "start_time": "2021-11-23T07:33:06.376Z"
   },
   {
    "duration": 16,
    "start_time": "2021-11-23T07:33:06.418Z"
   },
   {
    "duration": 39,
    "start_time": "2021-11-23T07:33:06.437Z"
   },
   {
    "duration": 10,
    "start_time": "2021-11-23T07:33:06.478Z"
   },
   {
    "duration": 26,
    "start_time": "2021-11-23T07:33:06.491Z"
   },
   {
    "duration": 28,
    "start_time": "2021-11-23T07:33:06.520Z"
   },
   {
    "duration": 23,
    "start_time": "2021-11-23T07:33:06.550Z"
   },
   {
    "duration": 21,
    "start_time": "2021-11-23T07:33:06.576Z"
   },
   {
    "duration": 17,
    "start_time": "2021-11-23T07:33:06.600Z"
   },
   {
    "duration": 19,
    "start_time": "2021-11-23T07:33:06.620Z"
   },
   {
    "duration": 23,
    "start_time": "2021-11-23T07:33:06.641Z"
   },
   {
    "duration": 47,
    "start_time": "2021-11-23T07:33:06.666Z"
   },
   {
    "duration": 39,
    "start_time": "2021-11-23T07:33:06.716Z"
   },
   {
    "duration": 4294,
    "start_time": "2021-11-23T07:33:06.757Z"
   },
   {
    "duration": 12,
    "start_time": "2021-11-23T07:33:11.054Z"
   },
   {
    "duration": 7,
    "start_time": "2021-11-23T07:33:11.068Z"
   },
   {
    "duration": 23,
    "start_time": "2021-11-23T07:33:11.101Z"
   },
   {
    "duration": 59,
    "start_time": "2021-11-23T07:38:49.616Z"
   },
   {
    "duration": 24,
    "start_time": "2021-11-23T07:39:02.335Z"
   },
   {
    "duration": 9220,
    "start_time": "2021-11-23T07:40:37.775Z"
   },
   {
    "duration": 46,
    "start_time": "2021-11-23T07:41:40.468Z"
   },
   {
    "duration": 52,
    "start_time": "2021-11-23T07:42:46.031Z"
   },
   {
    "duration": 79,
    "start_time": "2021-11-23T07:42:58.109Z"
   },
   {
    "duration": 81,
    "start_time": "2021-11-23T07:43:15.460Z"
   },
   {
    "duration": 373,
    "start_time": "2021-11-23T07:45:59.912Z"
   },
   {
    "duration": 403,
    "start_time": "2021-11-23T07:46:17.770Z"
   },
   {
    "duration": 1523,
    "start_time": "2021-11-23T07:46:55.280Z"
   },
   {
    "duration": 66,
    "start_time": "2021-11-23T07:46:56.806Z"
   },
   {
    "duration": 6,
    "start_time": "2021-11-23T07:46:56.875Z"
   },
   {
    "duration": 60,
    "start_time": "2021-11-23T07:46:56.883Z"
   },
   {
    "duration": 82,
    "start_time": "2021-11-23T07:46:56.946Z"
   },
   {
    "duration": 13,
    "start_time": "2021-11-23T07:46:57.031Z"
   },
   {
    "duration": 6,
    "start_time": "2021-11-23T07:46:57.047Z"
   },
   {
    "duration": 8,
    "start_time": "2021-11-23T07:46:57.056Z"
   },
   {
    "duration": 65,
    "start_time": "2021-11-23T07:46:57.068Z"
   },
   {
    "duration": 10,
    "start_time": "2021-11-23T07:46:57.136Z"
   },
   {
    "duration": 10,
    "start_time": "2021-11-23T07:46:57.148Z"
   },
   {
    "duration": 45,
    "start_time": "2021-11-23T07:46:57.161Z"
   },
   {
    "duration": 12,
    "start_time": "2021-11-23T07:46:57.208Z"
   },
   {
    "duration": 11,
    "start_time": "2021-11-23T07:46:57.222Z"
   },
   {
    "duration": 19,
    "start_time": "2021-11-23T07:46:57.235Z"
   },
   {
    "duration": 47,
    "start_time": "2021-11-23T07:46:57.257Z"
   },
   {
    "duration": 20,
    "start_time": "2021-11-23T07:46:57.307Z"
   },
   {
    "duration": 24,
    "start_time": "2021-11-23T07:46:57.330Z"
   },
   {
    "duration": 70,
    "start_time": "2021-11-23T07:46:57.356Z"
   },
   {
    "duration": 4228,
    "start_time": "2021-11-23T07:46:57.429Z"
   },
   {
    "duration": 14,
    "start_time": "2021-11-23T07:47:01.660Z"
   },
   {
    "duration": 30,
    "start_time": "2021-11-23T07:47:01.676Z"
   },
   {
    "duration": 34,
    "start_time": "2021-11-23T07:47:01.709Z"
   },
   {
    "duration": 84,
    "start_time": "2021-11-23T07:47:01.746Z"
   },
   {
    "duration": 26,
    "start_time": "2021-11-23T07:47:01.832Z"
   },
   {
    "duration": 1657,
    "start_time": "2021-11-23T07:48:36.067Z"
   },
   {
    "duration": 69,
    "start_time": "2021-11-23T07:48:37.727Z"
   },
   {
    "duration": 6,
    "start_time": "2021-11-23T07:48:37.800Z"
   },
   {
    "duration": 52,
    "start_time": "2021-11-23T07:48:37.809Z"
   },
   {
    "duration": 90,
    "start_time": "2021-11-23T07:48:37.864Z"
   },
   {
    "duration": 13,
    "start_time": "2021-11-23T07:48:37.956Z"
   },
   {
    "duration": 31,
    "start_time": "2021-11-23T07:48:37.972Z"
   },
   {
    "duration": 13,
    "start_time": "2021-11-23T07:48:38.006Z"
   },
   {
    "duration": 39,
    "start_time": "2021-11-23T07:48:38.023Z"
   },
   {
    "duration": 10,
    "start_time": "2021-11-23T07:48:38.064Z"
   },
   {
    "duration": 34,
    "start_time": "2021-11-23T07:48:38.076Z"
   },
   {
    "duration": 12,
    "start_time": "2021-11-23T07:48:38.112Z"
   },
   {
    "duration": 12,
    "start_time": "2021-11-23T07:48:38.126Z"
   },
   {
    "duration": 11,
    "start_time": "2021-11-23T07:48:38.140Z"
   },
   {
    "duration": 57,
    "start_time": "2021-11-23T07:48:38.154Z"
   },
   {
    "duration": 12,
    "start_time": "2021-11-23T07:48:38.214Z"
   },
   {
    "duration": 19,
    "start_time": "2021-11-23T07:48:38.229Z"
   },
   {
    "duration": 54,
    "start_time": "2021-11-23T07:48:38.250Z"
   },
   {
    "duration": 41,
    "start_time": "2021-11-23T07:48:38.307Z"
   },
   {
    "duration": 4263,
    "start_time": "2021-11-23T07:48:38.351Z"
   },
   {
    "duration": 12,
    "start_time": "2021-11-23T07:48:42.617Z"
   },
   {
    "duration": 31,
    "start_time": "2021-11-23T07:48:42.632Z"
   },
   {
    "duration": 102,
    "start_time": "2021-11-23T07:48:42.665Z"
   },
   {
    "duration": 36,
    "start_time": "2021-11-23T07:48:42.770Z"
   },
   {
    "duration": 513,
    "start_time": "2021-11-23T07:50:29.573Z"
   },
   {
    "duration": 25,
    "start_time": "2021-11-23T07:50:49.093Z"
   },
   {
    "duration": 1595,
    "start_time": "2021-11-23T07:52:02.617Z"
   },
   {
    "duration": 67,
    "start_time": "2021-11-23T07:52:04.214Z"
   },
   {
    "duration": 6,
    "start_time": "2021-11-23T07:52:04.304Z"
   },
   {
    "duration": 59,
    "start_time": "2021-11-23T07:52:04.312Z"
   },
   {
    "duration": 71,
    "start_time": "2021-11-23T07:52:04.374Z"
   },
   {
    "duration": 12,
    "start_time": "2021-11-23T07:52:04.448Z"
   },
   {
    "duration": 39,
    "start_time": "2021-11-23T07:52:04.464Z"
   },
   {
    "duration": 13,
    "start_time": "2021-11-23T07:52:04.507Z"
   },
   {
    "duration": 89,
    "start_time": "2021-11-23T07:52:04.522Z"
   },
   {
    "duration": 10,
    "start_time": "2021-11-23T07:52:04.614Z"
   },
   {
    "duration": 11,
    "start_time": "2021-11-23T07:52:04.627Z"
   },
   {
    "duration": 14,
    "start_time": "2021-11-23T07:52:04.641Z"
   },
   {
    "duration": 43,
    "start_time": "2021-11-23T07:52:04.658Z"
   },
   {
    "duration": 13,
    "start_time": "2021-11-23T07:52:04.704Z"
   },
   {
    "duration": 26,
    "start_time": "2021-11-23T07:52:04.719Z"
   },
   {
    "duration": 13,
    "start_time": "2021-11-23T07:52:04.748Z"
   },
   {
    "duration": 49,
    "start_time": "2021-11-23T07:52:04.764Z"
   },
   {
    "duration": 23,
    "start_time": "2021-11-23T07:52:04.815Z"
   },
   {
    "duration": 70,
    "start_time": "2021-11-23T07:52:04.840Z"
   },
   {
    "duration": 4421,
    "start_time": "2021-11-23T07:52:04.913Z"
   },
   {
    "duration": 14,
    "start_time": "2021-11-23T07:52:09.337Z"
   },
   {
    "duration": 52,
    "start_time": "2021-11-23T07:52:09.356Z"
   },
   {
    "duration": 62,
    "start_time": "2021-11-23T07:52:09.411Z"
   },
   {
    "duration": 41,
    "start_time": "2021-11-23T07:52:09.476Z"
   },
   {
    "duration": 1540,
    "start_time": "2021-11-23T07:53:44.122Z"
   },
   {
    "duration": 67,
    "start_time": "2021-11-23T07:53:45.665Z"
   },
   {
    "duration": 5,
    "start_time": "2021-11-23T07:53:45.735Z"
   },
   {
    "duration": 66,
    "start_time": "2021-11-23T07:53:45.743Z"
   },
   {
    "duration": 67,
    "start_time": "2021-11-23T07:53:45.812Z"
   },
   {
    "duration": 13,
    "start_time": "2021-11-23T07:53:45.900Z"
   },
   {
    "duration": 14,
    "start_time": "2021-11-23T07:53:45.915Z"
   },
   {
    "duration": 19,
    "start_time": "2021-11-23T07:53:45.933Z"
   },
   {
    "duration": 53,
    "start_time": "2021-11-23T07:53:45.955Z"
   },
   {
    "duration": 9,
    "start_time": "2021-11-23T07:53:46.010Z"
   },
   {
    "duration": 24,
    "start_time": "2021-11-23T07:53:46.021Z"
   },
   {
    "duration": 25,
    "start_time": "2021-11-23T07:53:46.048Z"
   },
   {
    "duration": 19,
    "start_time": "2021-11-23T07:53:46.076Z"
   },
   {
    "duration": 13,
    "start_time": "2021-11-23T07:53:46.102Z"
   },
   {
    "duration": 33,
    "start_time": "2021-11-23T07:53:46.117Z"
   },
   {
    "duration": 16,
    "start_time": "2021-11-23T07:53:46.153Z"
   },
   {
    "duration": 43,
    "start_time": "2021-11-23T07:53:46.172Z"
   },
   {
    "duration": 21,
    "start_time": "2021-11-23T07:53:46.217Z"
   },
   {
    "duration": 65,
    "start_time": "2021-11-23T07:53:46.241Z"
   },
   {
    "duration": 4297,
    "start_time": "2021-11-23T07:53:46.308Z"
   },
   {
    "duration": 16,
    "start_time": "2021-11-23T07:53:50.608Z"
   },
   {
    "duration": 29,
    "start_time": "2021-11-23T07:53:50.627Z"
   },
   {
    "duration": 108,
    "start_time": "2021-11-23T07:53:50.662Z"
   },
   {
    "duration": 52,
    "start_time": "2021-11-23T07:59:56.713Z"
   },
   {
    "duration": 52,
    "start_time": "2021-11-23T08:00:42.784Z"
   },
   {
    "duration": 1481,
    "start_time": "2021-11-23T11:44:41.494Z"
   },
   {
    "duration": 89,
    "start_time": "2021-11-23T11:44:45.365Z"
   },
   {
    "duration": 4,
    "start_time": "2021-11-23T11:47:57.567Z"
   },
   {
    "duration": 72,
    "start_time": "2021-11-23T11:47:58.656Z"
   },
   {
    "duration": 6,
    "start_time": "2021-11-23T11:48:03.624Z"
   },
   {
    "duration": 60,
    "start_time": "2021-11-23T11:48:17.862Z"
   },
   {
    "duration": 69,
    "start_time": "2021-11-23T12:13:49.208Z"
   },
   {
    "duration": 6,
    "start_time": "2021-11-23T12:27:59.751Z"
   },
   {
    "duration": 64,
    "start_time": "2021-11-23T12:28:00.048Z"
   },
   {
    "duration": 6,
    "start_time": "2021-11-23T12:29:29.590Z"
   },
   {
    "duration": 63,
    "start_time": "2021-11-23T12:29:30.792Z"
   },
   {
    "duration": 6,
    "start_time": "2021-11-23T12:41:13.586Z"
   },
   {
    "duration": 106,
    "start_time": "2021-11-23T12:41:14.012Z"
   },
   {
    "duration": 7,
    "start_time": "2021-11-23T12:42:45.659Z"
   },
   {
    "duration": 119,
    "start_time": "2021-11-23T12:42:46.108Z"
   },
   {
    "duration": 113,
    "start_time": "2021-11-23T12:44:19.564Z"
   },
   {
    "duration": 6,
    "start_time": "2021-11-23T12:44:34.644Z"
   },
   {
    "duration": 64,
    "start_time": "2021-11-23T12:44:37.373Z"
   },
   {
    "duration": 6,
    "start_time": "2021-11-23T12:45:05.724Z"
   },
   {
    "duration": 60,
    "start_time": "2021-11-23T12:45:07.998Z"
   },
   {
    "duration": 8,
    "start_time": "2021-11-23T12:45:29.780Z"
   },
   {
    "duration": 66,
    "start_time": "2021-11-23T12:45:32.836Z"
   },
   {
    "duration": 6,
    "start_time": "2021-11-23T12:53:06.282Z"
   },
   {
    "duration": 63,
    "start_time": "2021-11-23T12:53:07.016Z"
   },
   {
    "duration": 8,
    "start_time": "2021-11-23T12:53:07.880Z"
   },
   {
    "duration": 70,
    "start_time": "2021-11-23T12:53:15.448Z"
   },
   {
    "duration": 6,
    "start_time": "2021-11-23T12:54:31.952Z"
   },
   {
    "duration": 77,
    "start_time": "2021-11-23T12:54:32.335Z"
   },
   {
    "duration": 7,
    "start_time": "2021-11-23T12:54:32.831Z"
   },
   {
    "duration": 859,
    "start_time": "2021-11-23T12:54:33.665Z"
   },
   {
    "duration": 6,
    "start_time": "2021-11-23T12:54:45.704Z"
   },
   {
    "duration": 142,
    "start_time": "2021-11-23T12:54:45.987Z"
   },
   {
    "duration": 4,
    "start_time": "2021-11-23T12:55:46.735Z"
   },
   {
    "duration": 63,
    "start_time": "2021-11-23T12:55:47.280Z"
   },
   {
    "duration": 9,
    "start_time": "2021-11-23T12:55:47.888Z"
   },
   {
    "duration": 111,
    "start_time": "2021-11-23T12:55:48.673Z"
   },
   {
    "duration": 1947,
    "start_time": "2021-11-23T12:56:08.291Z"
   },
   {
    "duration": 66,
    "start_time": "2021-11-23T12:56:10.241Z"
   },
   {
    "duration": 6,
    "start_time": "2021-11-23T12:56:10.309Z"
   },
   {
    "duration": 124,
    "start_time": "2021-11-23T12:56:10.318Z"
   },
   {
    "duration": 89,
    "start_time": "2021-11-23T12:56:10.444Z"
   },
   {
    "duration": 82,
    "start_time": "2021-11-23T12:56:10.536Z"
   },
   {
    "duration": 14,
    "start_time": "2021-11-23T12:56:10.620Z"
   },
   {
    "duration": 5,
    "start_time": "2021-11-23T12:56:10.637Z"
   },
   {
    "duration": 41,
    "start_time": "2021-11-23T12:56:10.647Z"
   },
   {
    "duration": 37,
    "start_time": "2021-11-23T12:56:10.691Z"
   },
   {
    "duration": 9,
    "start_time": "2021-11-23T12:56:10.731Z"
   },
   {
    "duration": 47,
    "start_time": "2021-11-23T12:56:10.742Z"
   },
   {
    "duration": 19,
    "start_time": "2021-11-23T12:56:10.792Z"
   },
   {
    "duration": 18,
    "start_time": "2021-11-23T12:56:10.813Z"
   },
   {
    "duration": 13,
    "start_time": "2021-11-23T12:56:10.834Z"
   },
   {
    "duration": 55,
    "start_time": "2021-11-23T12:56:10.849Z"
   },
   {
    "duration": 13,
    "start_time": "2021-11-23T12:56:10.906Z"
   },
   {
    "duration": 18,
    "start_time": "2021-11-23T12:56:10.921Z"
   },
   {
    "duration": 60,
    "start_time": "2021-11-23T12:56:10.941Z"
   },
   {
    "duration": 77,
    "start_time": "2021-11-23T12:56:11.004Z"
   },
   {
    "duration": 4596,
    "start_time": "2021-11-23T12:56:11.086Z"
   },
   {
    "duration": 15,
    "start_time": "2021-11-23T12:56:15.685Z"
   },
   {
    "duration": 36,
    "start_time": "2021-11-23T12:56:15.703Z"
   },
   {
    "duration": 110,
    "start_time": "2021-11-23T12:56:15.742Z"
   },
   {
    "duration": 468,
    "start_time": "2021-11-23T14:54:24.173Z"
   },
   {
    "duration": 324,
    "start_time": "2021-11-23T14:54:46.374Z"
   },
   {
    "duration": 18,
    "start_time": "2021-11-23T14:55:01.116Z"
   },
   {
    "duration": 12,
    "start_time": "2021-11-23T14:55:43.229Z"
   },
   {
    "duration": 114,
    "start_time": "2021-11-23T14:55:45.639Z"
   },
   {
    "duration": 111,
    "start_time": "2021-11-23T14:55:56.165Z"
   },
   {
    "duration": 329,
    "start_time": "2021-11-23T14:56:06.172Z"
   },
   {
    "duration": 16,
    "start_time": "2021-11-23T14:56:15.565Z"
   },
   {
    "duration": 26,
    "start_time": "2021-11-23T14:56:31.645Z"
   },
   {
    "duration": 12,
    "start_time": "2021-11-23T15:03:03.599Z"
   },
   {
    "duration": 11,
    "start_time": "2021-11-23T15:04:16.911Z"
   },
   {
    "duration": 16,
    "start_time": "2021-11-23T15:11:35.202Z"
   },
   {
    "duration": 324,
    "start_time": "2021-11-23T17:01:47.006Z"
   },
   {
    "duration": 49,
    "start_time": "2021-11-23T17:01:59.559Z"
   },
   {
    "duration": 15,
    "start_time": "2021-11-23T17:02:31.024Z"
   },
   {
    "duration": 13,
    "start_time": "2021-11-23T17:03:05.826Z"
   },
   {
    "duration": 13,
    "start_time": "2021-11-23T17:04:28.744Z"
   },
   {
    "duration": 14,
    "start_time": "2021-11-23T17:04:29.467Z"
   },
   {
    "duration": 18,
    "start_time": "2021-11-23T17:16:49.808Z"
   },
   {
    "duration": 17,
    "start_time": "2021-11-23T17:17:51.268Z"
   },
   {
    "duration": 14,
    "start_time": "2021-11-23T17:18:22.772Z"
   },
   {
    "duration": 19,
    "start_time": "2021-11-23T17:19:49.110Z"
   },
   {
    "duration": 20,
    "start_time": "2021-11-23T17:19:59.042Z"
   },
   {
    "duration": 18,
    "start_time": "2021-11-23T17:20:17.475Z"
   },
   {
    "duration": 19,
    "start_time": "2021-11-23T17:20:35.709Z"
   },
   {
    "duration": 17,
    "start_time": "2021-11-23T17:21:10.590Z"
   },
   {
    "duration": 20,
    "start_time": "2021-11-23T17:21:11.005Z"
   },
   {
    "duration": 11,
    "start_time": "2021-11-23T17:22:37.879Z"
   },
   {
    "duration": 13,
    "start_time": "2021-11-23T17:22:53.247Z"
   },
   {
    "duration": 14,
    "start_time": "2021-11-23T17:22:54.608Z"
   },
   {
    "duration": 176,
    "start_time": "2021-11-23T17:26:33.904Z"
   },
   {
    "duration": 20,
    "start_time": "2021-11-23T17:29:34.113Z"
   },
   {
    "duration": 105,
    "start_time": "2021-11-23T17:30:05.736Z"
   },
   {
    "duration": 19,
    "start_time": "2021-11-23T17:30:17.208Z"
   },
   {
    "duration": 20,
    "start_time": "2021-11-23T17:30:51.371Z"
   },
   {
    "duration": 107,
    "start_time": "2021-11-23T17:34:06.891Z"
   },
   {
    "duration": 28,
    "start_time": "2021-11-23T17:34:11.765Z"
   },
   {
    "duration": 27,
    "start_time": "2021-11-23T17:35:54.828Z"
   },
   {
    "duration": 474,
    "start_time": "2021-11-23T17:39:55.100Z"
   },
   {
    "duration": 108,
    "start_time": "2021-11-23T17:40:06.715Z"
   },
   {
    "duration": 316,
    "start_time": "2021-11-23T17:40:17.797Z"
   },
   {
    "duration": 8,
    "start_time": "2021-11-23T17:40:32.909Z"
   },
   {
    "duration": 12,
    "start_time": "2021-11-23T17:40:45.009Z"
   },
   {
    "duration": 10,
    "start_time": "2021-11-23T17:42:22.269Z"
   },
   {
    "duration": 309,
    "start_time": "2021-11-23T18:40:33.654Z"
   },
   {
    "duration": 10,
    "start_time": "2021-11-23T18:40:42.278Z"
   },
   {
    "duration": 318,
    "start_time": "2021-11-23T18:44:43.037Z"
   },
   {
    "duration": 2182,
    "start_time": "2021-11-23T18:45:03.227Z"
   },
   {
    "duration": 13,
    "start_time": "2021-11-23T18:45:23.028Z"
   },
   {
    "duration": 14,
    "start_time": "2021-11-23T18:45:56.713Z"
   },
   {
    "duration": 10,
    "start_time": "2021-11-23T18:48:01.315Z"
   },
   {
    "duration": 11,
    "start_time": "2021-11-23T18:48:39.996Z"
   },
   {
    "duration": 168,
    "start_time": "2021-11-23T18:53:04.303Z"
   },
   {
    "duration": 390,
    "start_time": "2021-11-23T18:53:39.791Z"
   },
   {
    "duration": 9,
    "start_time": "2021-11-23T18:53:52.453Z"
   },
   {
    "duration": 1690,
    "start_time": "2021-11-23T18:58:05.493Z"
   },
   {
    "duration": 62,
    "start_time": "2021-11-23T18:58:07.186Z"
   },
   {
    "duration": 7,
    "start_time": "2021-11-23T18:58:07.251Z"
   },
   {
    "duration": 138,
    "start_time": "2021-11-23T18:58:07.261Z"
   },
   {
    "duration": 87,
    "start_time": "2021-11-23T18:58:07.401Z"
   },
   {
    "duration": 7,
    "start_time": "2021-11-23T18:58:07.491Z"
   },
   {
    "duration": 15,
    "start_time": "2021-11-23T18:58:07.500Z"
   },
   {
    "duration": 20,
    "start_time": "2021-11-23T18:58:07.517Z"
   },
   {
    "duration": 47,
    "start_time": "2021-11-23T18:58:07.541Z"
   },
   {
    "duration": 30,
    "start_time": "2021-11-23T18:58:07.592Z"
   },
   {
    "duration": 26,
    "start_time": "2021-11-23T18:58:07.635Z"
   },
   {
    "duration": 19,
    "start_time": "2021-11-23T18:58:07.664Z"
   },
   {
    "duration": 61,
    "start_time": "2021-11-23T18:58:07.688Z"
   },
   {
    "duration": 43,
    "start_time": "2021-11-23T18:58:07.752Z"
   },
   {
    "duration": 13,
    "start_time": "2021-11-23T18:58:07.798Z"
   },
   {
    "duration": 20,
    "start_time": "2021-11-23T18:58:07.814Z"
   },
   {
    "duration": 54,
    "start_time": "2021-11-23T18:58:07.837Z"
   },
   {
    "duration": 13,
    "start_time": "2021-11-23T18:58:07.894Z"
   },
   {
    "duration": 12,
    "start_time": "2021-11-23T18:58:07.910Z"
   },
   {
    "duration": 20,
    "start_time": "2021-11-23T18:58:07.925Z"
   },
   {
    "duration": 39,
    "start_time": "2021-11-23T18:58:07.947Z"
   },
   {
    "duration": 18,
    "start_time": "2021-11-23T18:58:07.989Z"
   },
   {
    "duration": 41,
    "start_time": "2021-11-23T18:58:08.009Z"
   },
   {
    "duration": 30,
    "start_time": "2021-11-23T18:58:08.053Z"
   },
   {
    "duration": 4512,
    "start_time": "2021-11-23T18:58:08.086Z"
   },
   {
    "duration": 28,
    "start_time": "2021-11-23T18:58:12.602Z"
   },
   {
    "duration": 100,
    "start_time": "2021-11-23T18:58:12.637Z"
   },
   {
    "duration": 8,
    "start_time": "2021-11-23T18:58:38.615Z"
   },
   {
    "duration": 10,
    "start_time": "2021-11-23T18:58:58.801Z"
   },
   {
    "duration": 8,
    "start_time": "2021-11-23T18:59:00.055Z"
   },
   {
    "duration": 8,
    "start_time": "2021-11-23T18:59:06.839Z"
   },
   {
    "duration": 3,
    "start_time": "2021-11-23T19:00:22.328Z"
   },
   {
    "duration": 1614,
    "start_time": "2021-11-23T19:00:44.888Z"
   },
   {
    "duration": 63,
    "start_time": "2021-11-23T19:00:46.505Z"
   },
   {
    "duration": 10,
    "start_time": "2021-11-23T19:00:46.572Z"
   },
   {
    "duration": 167,
    "start_time": "2021-11-23T19:00:46.585Z"
   },
   {
    "duration": 92,
    "start_time": "2021-11-23T19:00:46.755Z"
   },
   {
    "duration": 7,
    "start_time": "2021-11-23T19:00:46.850Z"
   },
   {
    "duration": 14,
    "start_time": "2021-11-23T19:00:46.883Z"
   },
   {
    "duration": 18,
    "start_time": "2021-11-23T19:00:46.900Z"
   },
   {
    "duration": 16,
    "start_time": "2021-11-23T19:00:46.922Z"
   },
   {
    "duration": 48,
    "start_time": "2021-11-23T19:00:46.941Z"
   },
   {
    "duration": 13,
    "start_time": "2021-11-23T19:00:46.992Z"
   },
   {
    "duration": 13,
    "start_time": "2021-11-23T19:00:47.008Z"
   },
   {
    "duration": 14,
    "start_time": "2021-11-23T19:00:47.024Z"
   },
   {
    "duration": 60,
    "start_time": "2021-11-23T19:00:47.040Z"
   },
   {
    "duration": 11,
    "start_time": "2021-11-23T19:00:47.102Z"
   },
   {
    "duration": 21,
    "start_time": "2021-11-23T19:00:47.115Z"
   },
   {
    "duration": 63,
    "start_time": "2021-11-23T19:00:47.139Z"
   },
   {
    "duration": 9,
    "start_time": "2021-11-23T19:00:47.205Z"
   },
   {
    "duration": 11,
    "start_time": "2021-11-23T19:00:47.217Z"
   },
   {
    "duration": 53,
    "start_time": "2021-11-23T19:00:47.231Z"
   },
   {
    "duration": 14,
    "start_time": "2021-11-23T19:00:47.286Z"
   },
   {
    "duration": 10,
    "start_time": "2021-11-23T19:00:47.303Z"
   },
   {
    "duration": 69,
    "start_time": "2021-11-23T19:00:47.315Z"
   },
   {
    "duration": 10,
    "start_time": "2021-11-23T19:00:47.386Z"
   },
   {
    "duration": 4463,
    "start_time": "2021-11-23T19:00:47.398Z"
   },
   {
    "duration": 42,
    "start_time": "2021-11-23T19:00:51.864Z"
   },
   {
    "duration": 4,
    "start_time": "2021-11-23T19:00:51.910Z"
   },
   {
    "duration": 745,
    "start_time": "2021-11-23T19:03:52.896Z"
   },
   {
    "duration": 2142,
    "start_time": "2021-11-23T19:04:01.094Z"
   },
   {
    "duration": 65,
    "start_time": "2021-11-23T19:04:03.240Z"
   },
   {
    "duration": 6,
    "start_time": "2021-11-23T19:04:03.311Z"
   },
   {
    "duration": 132,
    "start_time": "2021-11-23T19:04:03.319Z"
   },
   {
    "duration": 91,
    "start_time": "2021-11-23T19:04:03.453Z"
   },
   {
    "duration": 6,
    "start_time": "2021-11-23T19:04:03.547Z"
   },
   {
    "duration": 33,
    "start_time": "2021-11-23T19:04:03.557Z"
   },
   {
    "duration": 20,
    "start_time": "2021-11-23T19:04:03.593Z"
   },
   {
    "duration": 29,
    "start_time": "2021-11-23T19:04:03.615Z"
   },
   {
    "duration": 36,
    "start_time": "2021-11-23T19:04:03.647Z"
   },
   {
    "duration": 16,
    "start_time": "2021-11-23T19:04:03.686Z"
   },
   {
    "duration": 15,
    "start_time": "2021-11-23T19:04:03.704Z"
   },
   {
    "duration": 17,
    "start_time": "2021-11-23T19:04:03.722Z"
   },
   {
    "duration": 20,
    "start_time": "2021-11-23T19:04:03.783Z"
   },
   {
    "duration": 21,
    "start_time": "2021-11-23T19:04:03.806Z"
   },
   {
    "duration": 23,
    "start_time": "2021-11-23T19:04:03.830Z"
   },
   {
    "duration": 28,
    "start_time": "2021-11-23T19:04:03.883Z"
   },
   {
    "duration": 12,
    "start_time": "2021-11-23T19:04:03.915Z"
   },
   {
    "duration": 54,
    "start_time": "2021-11-23T19:04:03.929Z"
   },
   {
    "duration": 14,
    "start_time": "2021-11-23T19:04:03.986Z"
   },
   {
    "duration": 15,
    "start_time": "2021-11-23T19:04:04.003Z"
   },
   {
    "duration": 476,
    "start_time": "2021-11-23T19:04:04.025Z"
   },
   {
    "duration": -113,
    "start_time": "2021-11-23T19:04:04.619Z"
   },
   {
    "duration": -114,
    "start_time": "2021-11-23T19:04:04.622Z"
   },
   {
    "duration": -114,
    "start_time": "2021-11-23T19:04:04.624Z"
   },
   {
    "duration": -113,
    "start_time": "2021-11-23T19:04:04.625Z"
   },
   {
    "duration": -111,
    "start_time": "2021-11-23T19:04:04.626Z"
   },
   {
    "duration": -110,
    "start_time": "2021-11-23T19:04:04.627Z"
   },
   {
    "duration": 11,
    "start_time": "2021-11-23T19:04:24.370Z"
   },
   {
    "duration": 113,
    "start_time": "2021-11-23T19:05:00.533Z"
   },
   {
    "duration": 335,
    "start_time": "2021-11-23T19:07:07.654Z"
   },
   {
    "duration": 335,
    "start_time": "2021-11-23T19:08:23.916Z"
   },
   {
    "duration": 12,
    "start_time": "2021-11-23T19:10:10.539Z"
   },
   {
    "duration": 10,
    "start_time": "2021-11-23T19:10:22.661Z"
   },
   {
    "duration": 10,
    "start_time": "2021-11-23T19:10:28.684Z"
   },
   {
    "duration": 10,
    "start_time": "2021-11-23T19:11:08.408Z"
   },
   {
    "duration": 319,
    "start_time": "2021-11-23T19:14:05.131Z"
   },
   {
    "duration": 315,
    "start_time": "2021-11-23T19:14:54.553Z"
   },
   {
    "duration": 444,
    "start_time": "2021-11-23T19:15:23.749Z"
   },
   {
    "duration": 39,
    "start_time": "2021-11-23T19:15:37.079Z"
   },
   {
    "duration": 11,
    "start_time": "2021-11-23T19:16:46.942Z"
   },
   {
    "duration": 4664,
    "start_time": "2021-11-23T19:17:10.880Z"
   },
   {
    "duration": 38,
    "start_time": "2021-11-23T19:18:07.392Z"
   },
   {
    "duration": 23,
    "start_time": "2021-11-23T19:18:17.808Z"
   },
   {
    "duration": 50,
    "start_time": "2021-11-23T19:19:22.787Z"
   },
   {
    "duration": 23,
    "start_time": "2021-11-23T19:19:33.126Z"
   },
   {
    "duration": 52,
    "start_time": "2021-11-23T19:20:28.569Z"
   },
   {
    "duration": 1532,
    "start_time": "2021-11-23T19:21:48.850Z"
   },
   {
    "duration": 63,
    "start_time": "2021-11-23T19:21:50.385Z"
   },
   {
    "duration": 6,
    "start_time": "2021-11-23T19:21:50.451Z"
   },
   {
    "duration": 130,
    "start_time": "2021-11-23T19:21:50.460Z"
   },
   {
    "duration": 68,
    "start_time": "2021-11-23T19:21:50.592Z"
   },
   {
    "duration": 24,
    "start_time": "2021-11-23T19:21:50.662Z"
   },
   {
    "duration": 15,
    "start_time": "2021-11-23T19:21:50.689Z"
   },
   {
    "duration": 18,
    "start_time": "2021-11-23T19:21:50.709Z"
   },
   {
    "duration": 56,
    "start_time": "2021-11-23T19:21:50.731Z"
   },
   {
    "duration": 13,
    "start_time": "2021-11-23T19:21:50.790Z"
   },
   {
    "duration": 17,
    "start_time": "2021-11-23T19:21:50.805Z"
   },
   {
    "duration": 13,
    "start_time": "2021-11-23T19:21:50.825Z"
   },
   {
    "duration": 16,
    "start_time": "2021-11-23T19:21:50.882Z"
   },
   {
    "duration": 18,
    "start_time": "2021-11-23T19:21:50.900Z"
   },
   {
    "duration": 11,
    "start_time": "2021-11-23T19:21:50.920Z"
   },
   {
    "duration": 58,
    "start_time": "2021-11-23T19:21:50.934Z"
   },
   {
    "duration": 27,
    "start_time": "2021-11-23T19:21:50.994Z"
   },
   {
    "duration": 10,
    "start_time": "2021-11-23T19:21:51.023Z"
   },
   {
    "duration": 47,
    "start_time": "2021-11-23T19:21:51.035Z"
   },
   {
    "duration": 12,
    "start_time": "2021-11-23T19:21:51.084Z"
   },
   {
    "duration": 9,
    "start_time": "2021-11-23T19:21:51.098Z"
   },
   {
    "duration": 11,
    "start_time": "2021-11-23T19:21:51.110Z"
   },
   {
    "duration": 14,
    "start_time": "2021-11-23T19:21:51.126Z"
   },
   {
    "duration": 38,
    "start_time": "2021-11-23T19:21:51.182Z"
   },
   {
    "duration": 10,
    "start_time": "2021-11-23T19:21:51.222Z"
   },
   {
    "duration": 4601,
    "start_time": "2021-11-23T19:21:51.234Z"
   },
   {
    "duration": 62,
    "start_time": "2021-11-23T19:21:55.838Z"
   },
   {
    "duration": 81,
    "start_time": "2021-11-23T19:21:55.903Z"
   },
   {
    "duration": 98,
    "start_time": "2021-11-23T19:22:14.034Z"
   },
   {
    "duration": 570,
    "start_time": "2021-11-23T19:23:12.447Z"
   },
   {
    "duration": 308,
    "start_time": "2021-11-23T19:23:44.395Z"
   },
   {
    "duration": 156,
    "start_time": "2021-11-23T19:23:55.061Z"
   },
   {
    "duration": 153,
    "start_time": "2021-11-23T19:24:34.117Z"
   },
   {
    "duration": 6,
    "start_time": "2021-11-23T19:25:43.156Z"
   },
   {
    "duration": 104,
    "start_time": "2021-11-23T19:31:33.150Z"
   },
   {
    "duration": 2177,
    "start_time": "2021-11-24T08:14:02.521Z"
   },
   {
    "duration": 89,
    "start_time": "2021-11-24T08:14:04.706Z"
   },
   {
    "duration": 9,
    "start_time": "2021-11-24T08:14:04.799Z"
   },
   {
    "duration": 130,
    "start_time": "2021-11-24T08:14:04.811Z"
   },
   {
    "duration": 91,
    "start_time": "2021-11-24T08:14:04.944Z"
   },
   {
    "duration": 468,
    "start_time": "2021-11-24T08:14:05.037Z"
   },
   {
    "duration": 250,
    "start_time": "2021-11-24T08:14:05.258Z"
   },
   {
    "duration": 245,
    "start_time": "2021-11-24T08:14:05.265Z"
   },
   {
    "duration": 244,
    "start_time": "2021-11-24T08:14:05.267Z"
   },
   {
    "duration": 245,
    "start_time": "2021-11-24T08:14:05.268Z"
   },
   {
    "duration": 242,
    "start_time": "2021-11-24T08:14:05.272Z"
   },
   {
    "duration": 241,
    "start_time": "2021-11-24T08:14:05.275Z"
   },
   {
    "duration": 240,
    "start_time": "2021-11-24T08:14:05.277Z"
   },
   {
    "duration": 240,
    "start_time": "2021-11-24T08:14:05.279Z"
   },
   {
    "duration": 239,
    "start_time": "2021-11-24T08:14:05.281Z"
   },
   {
    "duration": 236,
    "start_time": "2021-11-24T08:14:05.285Z"
   },
   {
    "duration": 236,
    "start_time": "2021-11-24T08:14:05.287Z"
   },
   {
    "duration": 235,
    "start_time": "2021-11-24T08:14:05.289Z"
   },
   {
    "duration": 234,
    "start_time": "2021-11-24T08:14:05.291Z"
   },
   {
    "duration": 234,
    "start_time": "2021-11-24T08:14:05.292Z"
   },
   {
    "duration": 234,
    "start_time": "2021-11-24T08:14:05.293Z"
   },
   {
    "duration": 235,
    "start_time": "2021-11-24T08:14:05.294Z"
   },
   {
    "duration": 235,
    "start_time": "2021-11-24T08:14:05.295Z"
   },
   {
    "duration": 213,
    "start_time": "2021-11-24T08:14:05.319Z"
   },
   {
    "duration": 208,
    "start_time": "2021-11-24T08:14:05.325Z"
   },
   {
    "duration": 207,
    "start_time": "2021-11-24T08:14:05.327Z"
   },
   {
    "duration": 206,
    "start_time": "2021-11-24T08:14:05.329Z"
   },
   {
    "duration": 1844,
    "start_time": "2021-11-24T08:15:04.434Z"
   },
   {
    "duration": 63,
    "start_time": "2021-11-24T08:15:06.282Z"
   },
   {
    "duration": 7,
    "start_time": "2021-11-24T08:15:06.347Z"
   },
   {
    "duration": 136,
    "start_time": "2021-11-24T08:15:06.356Z"
   },
   {
    "duration": 68,
    "start_time": "2021-11-24T08:15:06.494Z"
   },
   {
    "duration": 13,
    "start_time": "2021-11-24T08:15:06.582Z"
   },
   {
    "duration": 19,
    "start_time": "2021-11-24T08:15:06.597Z"
   },
   {
    "duration": 15,
    "start_time": "2021-11-24T08:15:06.621Z"
   },
   {
    "duration": 52,
    "start_time": "2021-11-24T08:15:06.639Z"
   },
   {
    "duration": 16,
    "start_time": "2021-11-24T08:15:06.694Z"
   },
   {
    "duration": 13,
    "start_time": "2021-11-24T08:15:06.712Z"
   },
   {
    "duration": 57,
    "start_time": "2021-11-24T08:15:06.727Z"
   },
   {
    "duration": 20,
    "start_time": "2021-11-24T08:15:06.786Z"
   },
   {
    "duration": 12,
    "start_time": "2021-11-24T08:15:06.809Z"
   },
   {
    "duration": 59,
    "start_time": "2021-11-24T08:15:06.824Z"
   },
   {
    "duration": 459,
    "start_time": "2021-11-24T08:15:06.886Z"
   },
   {
    "duration": 248,
    "start_time": "2021-11-24T08:15:07.099Z"
   },
   {
    "duration": 248,
    "start_time": "2021-11-24T08:15:07.101Z"
   },
   {
    "duration": 244,
    "start_time": "2021-11-24T08:15:07.106Z"
   },
   {
    "duration": 243,
    "start_time": "2021-11-24T08:15:07.108Z"
   },
   {
    "duration": 243,
    "start_time": "2021-11-24T08:15:07.109Z"
   },
   {
    "duration": 243,
    "start_time": "2021-11-24T08:15:07.110Z"
   },
   {
    "duration": 243,
    "start_time": "2021-11-24T08:15:07.112Z"
   },
   {
    "duration": 243,
    "start_time": "2021-11-24T08:15:07.113Z"
   },
   {
    "duration": 243,
    "start_time": "2021-11-24T08:15:07.114Z"
   },
   {
    "duration": 243,
    "start_time": "2021-11-24T08:15:07.115Z"
   },
   {
    "duration": 241,
    "start_time": "2021-11-24T08:15:07.118Z"
   },
   {
    "duration": 1461,
    "start_time": "2021-11-24T08:15:27.808Z"
   },
   {
    "duration": 90,
    "start_time": "2021-11-24T08:15:29.271Z"
   },
   {
    "duration": 17,
    "start_time": "2021-11-24T08:15:29.365Z"
   },
   {
    "duration": 132,
    "start_time": "2021-11-24T08:15:29.385Z"
   },
   {
    "duration": 80,
    "start_time": "2021-11-24T08:15:29.520Z"
   },
   {
    "duration": 12,
    "start_time": "2021-11-24T08:15:29.603Z"
   },
   {
    "duration": 18,
    "start_time": "2021-11-24T08:15:29.618Z"
   },
   {
    "duration": 47,
    "start_time": "2021-11-24T08:15:29.640Z"
   },
   {
    "duration": 13,
    "start_time": "2021-11-24T08:15:29.690Z"
   },
   {
    "duration": 17,
    "start_time": "2021-11-24T08:15:29.706Z"
   },
   {
    "duration": 15,
    "start_time": "2021-11-24T08:15:29.725Z"
   },
   {
    "duration": 17,
    "start_time": "2021-11-24T08:15:29.784Z"
   },
   {
    "duration": 19,
    "start_time": "2021-11-24T08:15:29.803Z"
   },
   {
    "duration": 12,
    "start_time": "2021-11-24T08:15:29.825Z"
   },
   {
    "duration": 61,
    "start_time": "2021-11-24T08:15:29.840Z"
   },
   {
    "duration": 27,
    "start_time": "2021-11-24T08:15:29.904Z"
   },
   {
    "duration": 52,
    "start_time": "2021-11-24T08:15:29.934Z"
   },
   {
    "duration": 17,
    "start_time": "2021-11-24T08:15:29.989Z"
   },
   {
    "duration": 14,
    "start_time": "2021-11-24T08:15:30.008Z"
   },
   {
    "duration": 496,
    "start_time": "2021-11-24T08:15:30.025Z"
   },
   {
    "duration": 255,
    "start_time": "2021-11-24T08:15:30.269Z"
   },
   {
    "duration": 253,
    "start_time": "2021-11-24T08:15:30.272Z"
   },
   {
    "duration": 253,
    "start_time": "2021-11-24T08:15:30.274Z"
   },
   {
    "duration": 252,
    "start_time": "2021-11-24T08:15:30.276Z"
   },
   {
    "duration": 251,
    "start_time": "2021-11-24T08:15:30.280Z"
   },
   {
    "duration": 250,
    "start_time": "2021-11-24T08:15:30.282Z"
   },
   {
    "duration": 251,
    "start_time": "2021-11-24T08:15:30.283Z"
   },
   {
    "duration": 10,
    "start_time": "2021-11-24T08:15:46.174Z"
   },
   {
    "duration": 10,
    "start_time": "2021-11-24T08:15:48.662Z"
   },
   {
    "duration": 39,
    "start_time": "2021-11-24T08:15:50.144Z"
   },
   {
    "duration": 11,
    "start_time": "2021-11-24T08:15:52.615Z"
   },
   {
    "duration": 4832,
    "start_time": "2021-11-24T08:15:53.639Z"
   },
   {
    "duration": 82,
    "start_time": "2021-11-24T08:15:58.481Z"
   },
   {
    "duration": 5,
    "start_time": "2021-11-24T08:15:58.583Z"
   },
   {
    "duration": 175,
    "start_time": "2021-11-24T08:15:58.590Z"
   },
   {
    "duration": 1534,
    "start_time": "2021-11-24T08:30:57.048Z"
   },
   {
    "duration": 68,
    "start_time": "2021-11-24T08:30:58.584Z"
   },
   {
    "duration": 6,
    "start_time": "2021-11-24T08:30:58.655Z"
   },
   {
    "duration": 113,
    "start_time": "2021-11-24T08:30:59.327Z"
   },
   {
    "duration": 72,
    "start_time": "2021-11-24T08:31:02.870Z"
   },
   {
    "duration": 13,
    "start_time": "2021-11-24T08:31:07.280Z"
   },
   {
    "duration": 19,
    "start_time": "2021-11-24T08:31:09.295Z"
   },
   {
    "duration": 17,
    "start_time": "2021-11-24T08:31:14.823Z"
   },
   {
    "duration": 14,
    "start_time": "2021-11-24T08:31:17.039Z"
   },
   {
    "duration": 18,
    "start_time": "2021-11-24T08:31:18.703Z"
   },
   {
    "duration": 14,
    "start_time": "2021-11-24T08:31:19.511Z"
   },
   {
    "duration": 16,
    "start_time": "2021-11-24T08:31:20.256Z"
   },
   {
    "duration": 106,
    "start_time": "2021-11-24T08:31:21.728Z"
   },
   {
    "duration": 17,
    "start_time": "2021-11-24T08:31:29.760Z"
   },
   {
    "duration": 448,
    "start_time": "2021-11-24T08:31:49.336Z"
   },
   {
    "duration": 17,
    "start_time": "2021-11-24T08:32:36.560Z"
   },
   {
    "duration": 104,
    "start_time": "2021-11-24T08:34:11.105Z"
   },
   {
    "duration": 14,
    "start_time": "2021-11-24T08:34:27.328Z"
   },
   {
    "duration": 13,
    "start_time": "2021-11-24T08:34:53.442Z"
   },
   {
    "duration": 13,
    "start_time": "2021-11-24T08:34:54.185Z"
   },
   {
    "duration": 1538,
    "start_time": "2021-11-24T08:40:45.152Z"
   },
   {
    "duration": 64,
    "start_time": "2021-11-24T08:40:46.694Z"
   },
   {
    "duration": 6,
    "start_time": "2021-11-24T08:40:46.761Z"
   },
   {
    "duration": 160,
    "start_time": "2021-11-24T08:40:47.428Z"
   },
   {
    "duration": 70,
    "start_time": "2021-11-24T08:40:49.224Z"
   },
   {
    "duration": 14,
    "start_time": "2021-11-24T08:40:52.112Z"
   },
   {
    "duration": 18,
    "start_time": "2021-11-24T08:40:52.384Z"
   },
   {
    "duration": 15,
    "start_time": "2021-11-24T08:41:12.177Z"
   },
   {
    "duration": 12,
    "start_time": "2021-11-24T08:41:12.624Z"
   },
   {
    "duration": 16,
    "start_time": "2021-11-24T08:41:15.456Z"
   },
   {
    "duration": 13,
    "start_time": "2021-11-24T08:41:15.920Z"
   },
   {
    "duration": 15,
    "start_time": "2021-11-24T08:41:16.176Z"
   },
   {
    "duration": 17,
    "start_time": "2021-11-24T08:45:12.677Z"
   },
   {
    "duration": 12,
    "start_time": "2021-11-24T08:45:53.474Z"
   },
   {
    "duration": 1855,
    "start_time": "2021-11-24T08:46:53.855Z"
   },
   {
    "duration": 92,
    "start_time": "2021-11-24T08:46:55.712Z"
   },
   {
    "duration": 9,
    "start_time": "2021-11-24T08:46:55.808Z"
   },
   {
    "duration": 188,
    "start_time": "2021-11-24T08:46:55.820Z"
   },
   {
    "duration": 107,
    "start_time": "2021-11-24T08:46:57.328Z"
   },
   {
    "duration": 14,
    "start_time": "2021-11-24T08:46:58.535Z"
   },
   {
    "duration": 18,
    "start_time": "2021-11-24T08:46:58.800Z"
   },
   {
    "duration": 16,
    "start_time": "2021-11-24T08:47:00.071Z"
   },
   {
    "duration": 13,
    "start_time": "2021-11-24T08:47:00.631Z"
   },
   {
    "duration": 18,
    "start_time": "2021-11-24T08:47:05.087Z"
   },
   {
    "duration": 15,
    "start_time": "2021-11-24T08:47:05.952Z"
   },
   {
    "duration": 23,
    "start_time": "2021-11-24T08:47:06.809Z"
   },
   {
    "duration": 16,
    "start_time": "2021-11-24T08:55:17.403Z"
   },
   {
    "duration": 1527,
    "start_time": "2021-11-24T08:55:43.764Z"
   },
   {
    "duration": 63,
    "start_time": "2021-11-24T08:55:45.294Z"
   },
   {
    "duration": 6,
    "start_time": "2021-11-24T08:55:45.359Z"
   },
   {
    "duration": 136,
    "start_time": "2021-11-24T08:55:45.368Z"
   },
   {
    "duration": 72,
    "start_time": "2021-11-24T08:55:46.284Z"
   },
   {
    "duration": 16,
    "start_time": "2021-11-24T08:55:47.196Z"
   },
   {
    "duration": 19,
    "start_time": "2021-11-24T08:55:47.388Z"
   },
   {
    "duration": 16,
    "start_time": "2021-11-24T08:55:48.402Z"
   },
   {
    "duration": 13,
    "start_time": "2021-11-24T08:55:48.908Z"
   },
   {
    "duration": 18,
    "start_time": "2021-11-24T08:55:50.499Z"
   },
   {
    "duration": 15,
    "start_time": "2021-11-24T08:55:51.324Z"
   },
   {
    "duration": 17,
    "start_time": "2021-11-24T08:55:52.083Z"
   },
   {
    "duration": 18,
    "start_time": "2021-11-24T08:55:53.203Z"
   },
   {
    "duration": 14,
    "start_time": "2021-11-24T08:56:37.940Z"
   },
   {
    "duration": 1464,
    "start_time": "2021-11-24T08:56:57.117Z"
   },
   {
    "duration": 64,
    "start_time": "2021-11-24T08:56:58.585Z"
   },
   {
    "duration": 9,
    "start_time": "2021-11-24T08:56:58.653Z"
   },
   {
    "duration": 145,
    "start_time": "2021-11-24T08:56:58.665Z"
   },
   {
    "duration": 68,
    "start_time": "2021-11-24T08:56:59.556Z"
   },
   {
    "duration": 14,
    "start_time": "2021-11-24T08:57:00.276Z"
   },
   {
    "duration": 19,
    "start_time": "2021-11-24T08:57:00.502Z"
   },
   {
    "duration": 16,
    "start_time": "2021-11-24T08:57:01.454Z"
   },
   {
    "duration": 13,
    "start_time": "2021-11-24T08:57:02.317Z"
   },
   {
    "duration": 18,
    "start_time": "2021-11-24T08:57:03.566Z"
   },
   {
    "duration": 15,
    "start_time": "2021-11-24T08:57:04.221Z"
   },
   {
    "duration": 28,
    "start_time": "2021-11-24T08:57:04.493Z"
   },
   {
    "duration": 18,
    "start_time": "2021-11-24T08:57:05.838Z"
   },
   {
    "duration": 1524,
    "start_time": "2021-11-24T08:59:47.620Z"
   },
   {
    "duration": 66,
    "start_time": "2021-11-24T08:59:49.147Z"
   },
   {
    "duration": 6,
    "start_time": "2021-11-24T08:59:49.216Z"
   },
   {
    "duration": 133,
    "start_time": "2021-11-24T08:59:49.225Z"
   },
   {
    "duration": 87,
    "start_time": "2021-11-24T08:59:49.361Z"
   },
   {
    "duration": 13,
    "start_time": "2021-11-24T08:59:50.155Z"
   },
   {
    "duration": 17,
    "start_time": "2021-11-24T08:59:50.388Z"
   },
   {
    "duration": 19,
    "start_time": "2021-11-24T08:59:52.548Z"
   },
   {
    "duration": 16,
    "start_time": "2021-11-24T08:59:53.036Z"
   },
   {
    "duration": 25,
    "start_time": "2021-11-24T08:59:54.147Z"
   },
   {
    "duration": 20,
    "start_time": "2021-11-24T08:59:55.644Z"
   },
   {
    "duration": 20,
    "start_time": "2021-11-24T08:59:56.260Z"
   },
   {
    "duration": 17,
    "start_time": "2021-11-24T09:00:00.483Z"
   },
   {
    "duration": 1529,
    "start_time": "2021-11-24T09:02:47.263Z"
   },
   {
    "duration": 63,
    "start_time": "2021-11-24T09:02:48.795Z"
   },
   {
    "duration": 7,
    "start_time": "2021-11-24T09:02:48.861Z"
   },
   {
    "duration": 130,
    "start_time": "2021-11-24T09:02:48.870Z"
   },
   {
    "duration": 88,
    "start_time": "2021-11-24T09:02:49.002Z"
   },
   {
    "duration": 13,
    "start_time": "2021-11-24T09:02:49.092Z"
   },
   {
    "duration": 19,
    "start_time": "2021-11-24T09:02:49.107Z"
   },
   {
    "duration": 27,
    "start_time": "2021-11-24T09:02:49.129Z"
   },
   {
    "duration": 32,
    "start_time": "2021-11-24T09:02:49.158Z"
   },
   {
    "duration": 17,
    "start_time": "2021-11-24T09:02:49.193Z"
   },
   {
    "duration": 13,
    "start_time": "2021-11-24T09:02:49.212Z"
   },
   {
    "duration": 15,
    "start_time": "2021-11-24T09:02:49.228Z"
   },
   {
    "duration": 15,
    "start_time": "2021-11-24T09:02:49.283Z"
   },
   {
    "duration": 12,
    "start_time": "2021-11-24T09:02:49.301Z"
   },
   {
    "duration": 29,
    "start_time": "2021-11-24T09:02:49.315Z"
   },
   {
    "duration": 59,
    "start_time": "2021-11-24T09:02:49.347Z"
   },
   {
    "duration": 17,
    "start_time": "2021-11-24T09:02:49.408Z"
   },
   {
    "duration": 13,
    "start_time": "2021-11-24T09:02:49.427Z"
   },
   {
    "duration": 46,
    "start_time": "2021-11-24T09:02:49.442Z"
   },
   {
    "duration": 9,
    "start_time": "2021-11-24T09:02:49.491Z"
   },
   {
    "duration": 11,
    "start_time": "2021-11-24T09:02:49.502Z"
   },
   {
    "duration": 77,
    "start_time": "2021-11-24T09:02:49.515Z"
   },
   {
    "duration": 10,
    "start_time": "2021-11-24T09:02:49.596Z"
   },
   {
    "duration": 4313,
    "start_time": "2021-11-24T09:02:49.608Z"
   },
   {
    "duration": 104,
    "start_time": "2021-11-24T09:02:53.923Z"
   },
   {
    "duration": 5,
    "start_time": "2021-11-24T09:02:54.029Z"
   },
   {
    "duration": 281,
    "start_time": "2021-11-24T09:02:54.037Z"
   },
   {
    "duration": 1558,
    "start_time": "2021-11-24T09:35:25.376Z"
   },
   {
    "duration": 71,
    "start_time": "2021-11-24T09:35:26.937Z"
   },
   {
    "duration": 7,
    "start_time": "2021-11-24T09:35:27.014Z"
   },
   {
    "duration": 143,
    "start_time": "2021-11-24T09:35:27.023Z"
   },
   {
    "duration": 68,
    "start_time": "2021-11-24T09:35:27.183Z"
   },
   {
    "duration": 36,
    "start_time": "2021-11-24T09:35:27.254Z"
   },
   {
    "duration": 19,
    "start_time": "2021-11-24T09:35:27.294Z"
   },
   {
    "duration": 16,
    "start_time": "2021-11-24T09:35:27.316Z"
   },
   {
    "duration": 13,
    "start_time": "2021-11-24T09:35:27.334Z"
   },
   {
    "duration": 17,
    "start_time": "2021-11-24T09:35:27.383Z"
   },
   {
    "duration": 13,
    "start_time": "2021-11-24T09:35:27.403Z"
   },
   {
    "duration": 16,
    "start_time": "2021-11-24T09:35:27.419Z"
   },
   {
    "duration": 54,
    "start_time": "2021-11-24T09:35:27.437Z"
   },
   {
    "duration": 11,
    "start_time": "2021-11-24T09:35:27.493Z"
   },
   {
    "duration": 21,
    "start_time": "2021-11-24T09:35:27.507Z"
   },
   {
    "duration": 74,
    "start_time": "2021-11-24T09:35:27.531Z"
   },
   {
    "duration": 16,
    "start_time": "2021-11-24T09:35:27.607Z"
   },
   {
    "duration": 12,
    "start_time": "2021-11-24T09:35:27.625Z"
   },
   {
    "duration": 46,
    "start_time": "2021-11-24T09:35:27.640Z"
   },
   {
    "duration": 17,
    "start_time": "2021-11-24T09:35:27.690Z"
   },
   {
    "duration": 20,
    "start_time": "2021-11-24T09:35:27.709Z"
   },
   {
    "duration": 57,
    "start_time": "2021-11-24T09:35:27.734Z"
   },
   {
    "duration": 11,
    "start_time": "2021-11-24T09:35:27.793Z"
   },
   {
    "duration": 4538,
    "start_time": "2021-11-24T09:35:27.806Z"
   },
   {
    "duration": 115,
    "start_time": "2021-11-24T09:35:32.347Z"
   },
   {
    "duration": 24,
    "start_time": "2021-11-24T09:35:32.465Z"
   },
   {
    "duration": 271,
    "start_time": "2021-11-24T09:35:32.493Z"
   },
   {
    "duration": 1750,
    "start_time": "2021-11-24T09:35:55.734Z"
   },
   {
    "duration": 95,
    "start_time": "2021-11-24T09:35:57.487Z"
   },
   {
    "duration": 8,
    "start_time": "2021-11-24T09:35:57.586Z"
   },
   {
    "duration": 193,
    "start_time": "2021-11-24T09:35:57.598Z"
   },
   {
    "duration": 128,
    "start_time": "2021-11-24T09:35:57.795Z"
   },
   {
    "duration": 13,
    "start_time": "2021-11-24T09:35:57.926Z"
   },
   {
    "duration": 42,
    "start_time": "2021-11-24T09:35:57.942Z"
   },
   {
    "duration": 17,
    "start_time": "2021-11-24T09:35:57.987Z"
   },
   {
    "duration": 15,
    "start_time": "2021-11-24T09:35:58.008Z"
   },
   {
    "duration": 56,
    "start_time": "2021-11-24T09:35:58.026Z"
   },
   {
    "duration": 16,
    "start_time": "2021-11-24T09:35:58.085Z"
   },
   {
    "duration": 16,
    "start_time": "2021-11-24T09:35:58.104Z"
   },
   {
    "duration": 58,
    "start_time": "2021-11-24T09:35:58.124Z"
   },
   {
    "duration": 16,
    "start_time": "2021-11-24T09:35:58.185Z"
   },
   {
    "duration": 34,
    "start_time": "2021-11-24T09:35:58.204Z"
   },
   {
    "duration": 84,
    "start_time": "2021-11-24T09:35:58.241Z"
   },
   {
    "duration": 12,
    "start_time": "2021-11-24T09:35:58.327Z"
   },
   {
    "duration": 40,
    "start_time": "2021-11-24T09:35:58.342Z"
   },
   {
    "duration": 11,
    "start_time": "2021-11-24T09:35:58.385Z"
   },
   {
    "duration": 22,
    "start_time": "2021-11-24T09:35:58.399Z"
   },
   {
    "duration": 17,
    "start_time": "2021-11-24T09:35:58.424Z"
   },
   {
    "duration": 71,
    "start_time": "2021-11-24T09:35:58.443Z"
   },
   {
    "duration": 10,
    "start_time": "2021-11-24T09:35:58.519Z"
   },
   {
    "duration": 4584,
    "start_time": "2021-11-24T09:35:58.532Z"
   },
   {
    "duration": 108,
    "start_time": "2021-11-24T09:36:03.119Z"
   },
   {
    "duration": 6,
    "start_time": "2021-11-24T09:36:03.230Z"
   },
   {
    "duration": 188,
    "start_time": "2021-11-24T09:36:03.238Z"
   },
   {
    "duration": 1491,
    "start_time": "2021-11-24T09:36:21.491Z"
   },
   {
    "duration": 63,
    "start_time": "2021-11-24T09:36:22.985Z"
   },
   {
    "duration": 6,
    "start_time": "2021-11-24T09:36:23.051Z"
   },
   {
    "duration": 142,
    "start_time": "2021-11-24T09:36:23.059Z"
   },
   {
    "duration": 87,
    "start_time": "2021-11-24T09:36:23.203Z"
   },
   {
    "duration": 13,
    "start_time": "2021-11-24T09:36:23.293Z"
   },
   {
    "duration": 18,
    "start_time": "2021-11-24T09:36:23.308Z"
   },
   {
    "duration": 23,
    "start_time": "2021-11-24T09:36:23.331Z"
   },
   {
    "duration": 13,
    "start_time": "2021-11-24T09:36:23.384Z"
   },
   {
    "duration": 19,
    "start_time": "2021-11-24T09:36:23.400Z"
   },
   {
    "duration": 13,
    "start_time": "2021-11-24T09:36:23.422Z"
   },
   {
    "duration": 61,
    "start_time": "2021-11-24T09:36:23.438Z"
   },
   {
    "duration": 19,
    "start_time": "2021-11-24T09:36:23.501Z"
   },
   {
    "duration": 16,
    "start_time": "2021-11-24T09:36:23.523Z"
   },
   {
    "duration": 57,
    "start_time": "2021-11-24T09:36:23.542Z"
   },
   {
    "duration": 36,
    "start_time": "2021-11-24T09:36:23.602Z"
   },
   {
    "duration": 41,
    "start_time": "2021-11-24T09:36:23.641Z"
   },
   {
    "duration": 12,
    "start_time": "2021-11-24T09:36:23.684Z"
   },
   {
    "duration": 10,
    "start_time": "2021-11-24T09:36:23.698Z"
   },
   {
    "duration": 14,
    "start_time": "2021-11-24T09:36:23.710Z"
   },
   {
    "duration": 10,
    "start_time": "2021-11-24T09:36:23.727Z"
   },
   {
    "duration": 77,
    "start_time": "2021-11-24T09:36:23.739Z"
   },
   {
    "duration": 10,
    "start_time": "2021-11-24T09:36:23.820Z"
   },
   {
    "duration": 4831,
    "start_time": "2021-11-24T09:36:23.833Z"
   },
   {
    "duration": 116,
    "start_time": "2021-11-24T09:36:28.667Z"
   },
   {
    "duration": 6,
    "start_time": "2021-11-24T09:36:28.787Z"
   },
   {
    "duration": 179,
    "start_time": "2021-11-24T09:36:28.796Z"
   },
   {
    "duration": 1578,
    "start_time": "2021-11-24T09:36:45.198Z"
   },
   {
    "duration": 65,
    "start_time": "2021-11-24T09:36:46.779Z"
   },
   {
    "duration": 6,
    "start_time": "2021-11-24T09:36:46.847Z"
   },
   {
    "duration": 147,
    "start_time": "2021-11-24T09:36:46.855Z"
   },
   {
    "duration": 84,
    "start_time": "2021-11-24T09:36:47.004Z"
   },
   {
    "duration": 12,
    "start_time": "2021-11-24T09:36:47.090Z"
   },
   {
    "duration": 16,
    "start_time": "2021-11-24T09:36:47.105Z"
   },
   {
    "duration": 16,
    "start_time": "2021-11-24T09:36:47.125Z"
   },
   {
    "duration": 12,
    "start_time": "2021-11-24T09:36:47.183Z"
   },
   {
    "duration": 16,
    "start_time": "2021-11-24T09:36:47.198Z"
   },
   {
    "duration": 13,
    "start_time": "2021-11-24T09:36:47.216Z"
   },
   {
    "duration": 62,
    "start_time": "2021-11-24T09:36:47.231Z"
   },
   {
    "duration": 15,
    "start_time": "2021-11-24T09:36:47.296Z"
   },
   {
    "duration": 26,
    "start_time": "2021-11-24T09:36:47.314Z"
   },
   {
    "duration": 49,
    "start_time": "2021-11-24T09:36:47.343Z"
   },
   {
    "duration": 31,
    "start_time": "2021-11-24T09:36:47.395Z"
   },
   {
    "duration": 57,
    "start_time": "2021-11-24T09:36:47.429Z"
   },
   {
    "duration": 16,
    "start_time": "2021-11-24T09:36:47.488Z"
   },
   {
    "duration": 15,
    "start_time": "2021-11-24T09:36:47.507Z"
   },
   {
    "duration": 12,
    "start_time": "2021-11-24T09:36:47.525Z"
   },
   {
    "duration": 38,
    "start_time": "2021-11-24T09:36:47.549Z"
   },
   {
    "duration": 48,
    "start_time": "2021-11-24T09:36:47.590Z"
   },
   {
    "duration": 10,
    "start_time": "2021-11-24T09:36:47.644Z"
   },
   {
    "duration": 4251,
    "start_time": "2021-11-24T09:36:47.684Z"
   },
   {
    "duration": 111,
    "start_time": "2021-11-24T09:36:51.938Z"
   },
   {
    "duration": 5,
    "start_time": "2021-11-24T09:36:52.052Z"
   },
   {
    "duration": 184,
    "start_time": "2021-11-24T09:36:52.059Z"
   },
   {
    "duration": 1550,
    "start_time": "2021-11-24T09:37:28.267Z"
   },
   {
    "duration": 65,
    "start_time": "2021-11-24T09:37:29.820Z"
   },
   {
    "duration": 6,
    "start_time": "2021-11-24T09:37:29.888Z"
   },
   {
    "duration": 130,
    "start_time": "2021-11-24T09:37:29.897Z"
   },
   {
    "duration": 87,
    "start_time": "2021-11-24T09:37:30.030Z"
   },
   {
    "duration": 13,
    "start_time": "2021-11-24T09:37:30.120Z"
   },
   {
    "duration": 47,
    "start_time": "2021-11-24T09:37:30.136Z"
   },
   {
    "duration": 34,
    "start_time": "2021-11-24T09:37:30.186Z"
   },
   {
    "duration": 13,
    "start_time": "2021-11-24T09:37:30.224Z"
   },
   {
    "duration": 35,
    "start_time": "2021-11-24T09:37:30.240Z"
   },
   {
    "duration": 39,
    "start_time": "2021-11-24T09:37:30.278Z"
   },
   {
    "duration": 20,
    "start_time": "2021-11-24T09:37:30.319Z"
   },
   {
    "duration": 22,
    "start_time": "2021-11-24T09:37:30.342Z"
   },
   {
    "duration": 25,
    "start_time": "2021-11-24T09:37:30.367Z"
   },
   {
    "duration": 27,
    "start_time": "2021-11-24T09:37:30.395Z"
   },
   {
    "duration": 44,
    "start_time": "2021-11-24T09:37:30.425Z"
   },
   {
    "duration": 11,
    "start_time": "2021-11-24T09:37:30.483Z"
   },
   {
    "duration": 28,
    "start_time": "2021-11-24T09:37:30.496Z"
   },
   {
    "duration": 17,
    "start_time": "2021-11-24T09:37:30.527Z"
   },
   {
    "duration": 36,
    "start_time": "2021-11-24T09:37:30.546Z"
   },
   {
    "duration": 18,
    "start_time": "2021-11-24T09:37:30.584Z"
   },
   {
    "duration": 50,
    "start_time": "2021-11-24T09:37:30.606Z"
   },
   {
    "duration": 24,
    "start_time": "2021-11-24T09:37:30.658Z"
   },
   {
    "duration": 4765,
    "start_time": "2021-11-24T09:37:30.685Z"
   },
   {
    "duration": 138,
    "start_time": "2021-11-24T09:37:35.453Z"
   },
   {
    "duration": 5,
    "start_time": "2021-11-24T09:37:35.594Z"
   },
   {
    "duration": 183,
    "start_time": "2021-11-24T09:37:35.604Z"
   },
   {
    "duration": 1548,
    "start_time": "2021-11-24T09:40:22.865Z"
   },
   {
    "duration": 61,
    "start_time": "2021-11-24T09:40:24.415Z"
   },
   {
    "duration": 11,
    "start_time": "2021-11-24T09:40:24.479Z"
   },
   {
    "duration": 130,
    "start_time": "2021-11-24T09:40:24.494Z"
   },
   {
    "duration": 84,
    "start_time": "2021-11-24T09:40:24.627Z"
   },
   {
    "duration": 12,
    "start_time": "2021-11-24T09:40:24.714Z"
   },
   {
    "duration": 22,
    "start_time": "2021-11-24T09:40:24.729Z"
   },
   {
    "duration": 40,
    "start_time": "2021-11-24T09:40:24.754Z"
   },
   {
    "duration": 16,
    "start_time": "2021-11-24T09:40:24.797Z"
   },
   {
    "duration": 23,
    "start_time": "2021-11-24T09:40:24.815Z"
   },
   {
    "duration": 42,
    "start_time": "2021-11-24T09:40:24.841Z"
   },
   {
    "duration": 20,
    "start_time": "2021-11-24T09:40:24.886Z"
   },
   {
    "duration": 19,
    "start_time": "2021-11-24T09:40:24.909Z"
   },
   {
    "duration": 14,
    "start_time": "2021-11-24T09:40:24.931Z"
   },
   {
    "duration": 67,
    "start_time": "2021-11-24T09:40:24.948Z"
   },
   {
    "duration": 64,
    "start_time": "2021-11-24T09:40:25.019Z"
   },
   {
    "duration": 13,
    "start_time": "2021-11-24T09:40:25.086Z"
   },
   {
    "duration": 12,
    "start_time": "2021-11-24T09:40:25.102Z"
   },
   {
    "duration": 9,
    "start_time": "2021-11-24T09:40:25.117Z"
   },
   {
    "duration": 15,
    "start_time": "2021-11-24T09:40:25.128Z"
   },
   {
    "duration": 10,
    "start_time": "2021-11-24T09:40:25.183Z"
   },
   {
    "duration": 45,
    "start_time": "2021-11-24T09:40:25.195Z"
   },
   {
    "duration": 34,
    "start_time": "2021-11-24T09:40:25.247Z"
   },
   {
    "duration": 4701,
    "start_time": "2021-11-24T09:40:25.286Z"
   },
   {
    "duration": 128,
    "start_time": "2021-11-24T09:40:29.990Z"
   },
   {
    "duration": 6,
    "start_time": "2021-11-24T09:40:30.121Z"
   },
   {
    "duration": 247,
    "start_time": "2021-11-24T09:40:30.130Z"
   },
   {
    "duration": 1986,
    "start_time": "2021-11-24T09:41:09.384Z"
   },
   {
    "duration": 83,
    "start_time": "2021-11-24T09:41:11.374Z"
   },
   {
    "duration": 20,
    "start_time": "2021-11-24T09:41:11.462Z"
   },
   {
    "duration": 151,
    "start_time": "2021-11-24T09:41:11.486Z"
   },
   {
    "duration": 82,
    "start_time": "2021-11-24T09:41:11.639Z"
   },
   {
    "duration": 13,
    "start_time": "2021-11-24T09:41:11.724Z"
   },
   {
    "duration": 46,
    "start_time": "2021-11-24T09:41:11.739Z"
   },
   {
    "duration": 18,
    "start_time": "2021-11-24T09:41:11.787Z"
   },
   {
    "duration": 13,
    "start_time": "2021-11-24T09:41:11.810Z"
   },
   {
    "duration": 59,
    "start_time": "2021-11-24T09:41:11.827Z"
   },
   {
    "duration": 14,
    "start_time": "2021-11-24T09:41:11.889Z"
   },
   {
    "duration": 18,
    "start_time": "2021-11-24T09:41:11.906Z"
   },
   {
    "duration": 14,
    "start_time": "2021-11-24T09:41:11.927Z"
   },
   {
    "duration": 49,
    "start_time": "2021-11-24T09:41:11.944Z"
   },
   {
    "duration": 24,
    "start_time": "2021-11-24T09:41:11.995Z"
   },
   {
    "duration": 64,
    "start_time": "2021-11-24T09:41:12.021Z"
   },
   {
    "duration": 10,
    "start_time": "2021-11-24T09:41:12.088Z"
   },
   {
    "duration": 14,
    "start_time": "2021-11-24T09:41:12.101Z"
   },
   {
    "duration": 11,
    "start_time": "2021-11-24T09:41:12.118Z"
   },
   {
    "duration": 11,
    "start_time": "2021-11-24T09:41:12.131Z"
   },
   {
    "duration": 9,
    "start_time": "2021-11-24T09:41:12.182Z"
   },
   {
    "duration": 39,
    "start_time": "2021-11-24T09:41:12.194Z"
   },
   {
    "duration": 10,
    "start_time": "2021-11-24T09:41:12.236Z"
   },
   {
    "duration": 4754,
    "start_time": "2021-11-24T09:41:12.248Z"
   },
   {
    "duration": 93,
    "start_time": "2021-11-24T09:41:17.005Z"
   },
   {
    "duration": 5,
    "start_time": "2021-11-24T09:41:17.101Z"
   },
   {
    "duration": 181,
    "start_time": "2021-11-24T09:41:17.111Z"
   },
   {
    "duration": 1540,
    "start_time": "2021-11-24T09:42:44.797Z"
   },
   {
    "duration": 64,
    "start_time": "2021-11-24T09:42:46.339Z"
   },
   {
    "duration": 7,
    "start_time": "2021-11-24T09:42:46.412Z"
   },
   {
    "duration": 144,
    "start_time": "2021-11-24T09:42:46.422Z"
   },
   {
    "duration": 73,
    "start_time": "2021-11-24T09:42:46.581Z"
   },
   {
    "duration": 34,
    "start_time": "2021-11-24T09:42:46.659Z"
   },
   {
    "duration": 19,
    "start_time": "2021-11-24T09:42:46.695Z"
   },
   {
    "duration": 21,
    "start_time": "2021-11-24T09:42:46.718Z"
   },
   {
    "duration": 11,
    "start_time": "2021-11-24T09:42:46.742Z"
   },
   {
    "duration": 19,
    "start_time": "2021-11-24T09:42:46.783Z"
   },
   {
    "duration": 24,
    "start_time": "2021-11-24T09:42:46.805Z"
   },
   {
    "duration": 50,
    "start_time": "2021-11-24T09:42:46.832Z"
   },
   {
    "duration": 9,
    "start_time": "2021-11-24T09:42:46.885Z"
   },
   {
    "duration": 7470,
    "start_time": "2021-11-24T09:42:46.897Z"
   },
   {
    "duration": 269,
    "start_time": "2021-11-24T09:42:54.102Z"
   },
   {
    "duration": 269,
    "start_time": "2021-11-24T09:42:54.104Z"
   },
   {
    "duration": 270,
    "start_time": "2021-11-24T09:42:54.105Z"
   },
   {
    "duration": 270,
    "start_time": "2021-11-24T09:42:54.107Z"
   },
   {
    "duration": 272,
    "start_time": "2021-11-24T09:42:54.108Z"
   },
   {
    "duration": 272,
    "start_time": "2021-11-24T09:42:54.110Z"
   },
   {
    "duration": 268,
    "start_time": "2021-11-24T09:42:54.117Z"
   },
   {
    "duration": 269,
    "start_time": "2021-11-24T09:42:54.118Z"
   },
   {
    "duration": 270,
    "start_time": "2021-11-24T09:42:54.119Z"
   },
   {
    "duration": 271,
    "start_time": "2021-11-24T09:42:54.121Z"
   },
   {
    "duration": 271,
    "start_time": "2021-11-24T09:42:54.123Z"
   },
   {
    "duration": 270,
    "start_time": "2021-11-24T09:42:54.126Z"
   },
   {
    "duration": 272,
    "start_time": "2021-11-24T09:42:54.127Z"
   },
   {
    "duration": 1505,
    "start_time": "2021-11-24T09:46:51.265Z"
   },
   {
    "duration": 62,
    "start_time": "2021-11-24T09:46:52.773Z"
   },
   {
    "duration": 6,
    "start_time": "2021-11-24T09:46:52.842Z"
   },
   {
    "duration": 143,
    "start_time": "2021-11-24T09:46:52.850Z"
   },
   {
    "duration": 89,
    "start_time": "2021-11-24T09:46:52.995Z"
   },
   {
    "duration": 13,
    "start_time": "2021-11-24T09:46:53.086Z"
   },
   {
    "duration": 16,
    "start_time": "2021-11-24T09:46:53.103Z"
   },
   {
    "duration": 17,
    "start_time": "2021-11-24T09:46:53.122Z"
   },
   {
    "duration": 49,
    "start_time": "2021-11-24T09:46:53.142Z"
   },
   {
    "duration": 23,
    "start_time": "2021-11-24T09:46:53.194Z"
   },
   {
    "duration": 17,
    "start_time": "2021-11-24T09:46:53.220Z"
   },
   {
    "duration": 56,
    "start_time": "2021-11-24T09:46:53.240Z"
   },
   {
    "duration": 11,
    "start_time": "2021-11-24T09:46:53.299Z"
   },
   {
    "duration": 8448,
    "start_time": "2021-11-24T09:46:53.312Z"
   },
   {
    "duration": 268,
    "start_time": "2021-11-24T09:47:01.496Z"
   },
   {
    "duration": 267,
    "start_time": "2021-11-24T09:47:01.498Z"
   },
   {
    "duration": 267,
    "start_time": "2021-11-24T09:47:01.499Z"
   },
   {
    "duration": 267,
    "start_time": "2021-11-24T09:47:01.501Z"
   },
   {
    "duration": 267,
    "start_time": "2021-11-24T09:47:01.502Z"
   },
   {
    "duration": 266,
    "start_time": "2021-11-24T09:47:01.504Z"
   },
   {
    "duration": 267,
    "start_time": "2021-11-24T09:47:01.505Z"
   },
   {
    "duration": 267,
    "start_time": "2021-11-24T09:47:01.507Z"
   },
   {
    "duration": 260,
    "start_time": "2021-11-24T09:47:01.515Z"
   },
   {
    "duration": 260,
    "start_time": "2021-11-24T09:47:01.517Z"
   },
   {
    "duration": 259,
    "start_time": "2021-11-24T09:47:01.519Z"
   },
   {
    "duration": 259,
    "start_time": "2021-11-24T09:47:01.521Z"
   },
   {
    "duration": 259,
    "start_time": "2021-11-24T09:47:01.522Z"
   },
   {
    "duration": 1511,
    "start_time": "2021-11-24T09:47:35.371Z"
   },
   {
    "duration": 63,
    "start_time": "2021-11-24T09:47:36.885Z"
   },
   {
    "duration": 6,
    "start_time": "2021-11-24T09:47:36.951Z"
   },
   {
    "duration": 132,
    "start_time": "2021-11-24T09:47:36.960Z"
   },
   {
    "duration": 87,
    "start_time": "2021-11-24T09:47:37.095Z"
   },
   {
    "duration": 13,
    "start_time": "2021-11-24T09:47:37.184Z"
   },
   {
    "duration": 19,
    "start_time": "2021-11-24T09:47:37.199Z"
   },
   {
    "duration": 20,
    "start_time": "2021-11-24T09:47:37.221Z"
   },
   {
    "duration": 44,
    "start_time": "2021-11-24T09:47:37.244Z"
   },
   {
    "duration": 20,
    "start_time": "2021-11-24T09:47:37.291Z"
   },
   {
    "duration": 15,
    "start_time": "2021-11-24T09:47:37.314Z"
   },
   {
    "duration": 14,
    "start_time": "2021-11-24T09:47:37.332Z"
   },
   {
    "duration": 41,
    "start_time": "2021-11-24T09:47:37.348Z"
   },
   {
    "duration": 10,
    "start_time": "2021-11-24T09:47:37.391Z"
   },
   {
    "duration": 21,
    "start_time": "2021-11-24T09:47:37.404Z"
   },
   {
    "duration": 69,
    "start_time": "2021-11-24T09:47:37.427Z"
   },
   {
    "duration": 9,
    "start_time": "2021-11-24T09:47:37.498Z"
   },
   {
    "duration": 14,
    "start_time": "2021-11-24T09:47:37.509Z"
   },
   {
    "duration": 12,
    "start_time": "2021-11-24T09:47:37.525Z"
   },
   {
    "duration": 18,
    "start_time": "2021-11-24T09:47:37.540Z"
   },
   {
    "duration": 28,
    "start_time": "2021-11-24T09:47:37.561Z"
   },
   {
    "duration": 43,
    "start_time": "2021-11-24T09:47:37.592Z"
   },
   {
    "duration": 10,
    "start_time": "2021-11-24T09:47:37.637Z"
   },
   {
    "duration": 4369,
    "start_time": "2021-11-24T09:47:37.649Z"
   },
   {
    "duration": 93,
    "start_time": "2021-11-24T09:47:42.021Z"
   },
   {
    "duration": 5,
    "start_time": "2021-11-24T09:47:42.117Z"
   },
   {
    "duration": 179,
    "start_time": "2021-11-24T09:47:42.126Z"
   },
   {
    "duration": 14,
    "start_time": "2021-11-24T09:48:24.614Z"
   },
   {
    "duration": 4,
    "start_time": "2021-11-24T09:50:50.839Z"
   },
   {
    "duration": 1469,
    "start_time": "2021-11-24T09:51:13.930Z"
   },
   {
    "duration": 63,
    "start_time": "2021-11-24T09:51:15.401Z"
   },
   {
    "duration": 19,
    "start_time": "2021-11-24T09:51:15.467Z"
   },
   {
    "duration": 113,
    "start_time": "2021-11-24T09:51:15.921Z"
   },
   {
    "duration": 89,
    "start_time": "2021-11-24T09:51:18.801Z"
   },
   {
    "duration": 448,
    "start_time": "2021-11-24T09:51:51.819Z"
   },
   {
    "duration": 12,
    "start_time": "2021-11-24T09:52:27.940Z"
   },
   {
    "duration": 1476,
    "start_time": "2021-11-24T09:52:54.010Z"
   },
   {
    "duration": 63,
    "start_time": "2021-11-24T09:52:55.489Z"
   },
   {
    "duration": 7,
    "start_time": "2021-11-24T09:52:55.555Z"
   },
   {
    "duration": 140,
    "start_time": "2021-11-24T09:52:55.576Z"
   },
   {
    "duration": 72,
    "start_time": "2021-11-24T09:52:57.131Z"
   },
   {
    "duration": 19,
    "start_time": "2021-11-24T09:52:58.920Z"
   },
   {
    "duration": 19,
    "start_time": "2021-11-24T09:53:06.082Z"
   },
   {
    "duration": 15,
    "start_time": "2021-11-24T09:53:51.552Z"
   },
   {
    "duration": 12,
    "start_time": "2021-11-24T09:53:52.536Z"
   },
   {
    "duration": 16,
    "start_time": "2021-11-24T09:53:55.673Z"
   },
   {
    "duration": 13,
    "start_time": "2021-11-24T09:53:56.289Z"
   },
   {
    "duration": 19,
    "start_time": "2021-11-24T09:53:57.121Z"
   },
   {
    "duration": 12,
    "start_time": "2021-11-24T09:54:26.169Z"
   },
   {
    "duration": 12,
    "start_time": "2021-11-24T09:54:29.026Z"
   },
   {
    "duration": 20,
    "start_time": "2021-11-24T09:54:46.929Z"
   },
   {
    "duration": 469,
    "start_time": "2021-11-24T09:54:55.410Z"
   },
   {
    "duration": 35,
    "start_time": "2021-11-24T09:55:06.475Z"
   },
   {
    "duration": 14,
    "start_time": "2021-11-24T09:55:16.067Z"
   },
   {
    "duration": 15,
    "start_time": "2021-11-24T09:55:24.546Z"
   },
   {
    "duration": 10,
    "start_time": "2021-11-24T09:55:27.489Z"
   },
   {
    "duration": 11,
    "start_time": "2021-11-24T09:55:34.249Z"
   },
   {
    "duration": 10,
    "start_time": "2021-11-24T09:55:41.137Z"
   },
   {
    "duration": 55,
    "start_time": "2021-11-24T09:58:13.619Z"
   },
   {
    "duration": 14,
    "start_time": "2021-11-24T09:58:16.838Z"
   },
   {
    "duration": 4220,
    "start_time": "2021-11-24T09:58:20.522Z"
   },
   {
    "duration": 88,
    "start_time": "2021-11-24T09:58:39.035Z"
   },
   {
    "duration": 59,
    "start_time": "2021-11-24T10:01:42.396Z"
   },
   {
    "duration": 6,
    "start_time": "2021-11-24T10:02:33.128Z"
   },
   {
    "duration": 226,
    "start_time": "2021-11-24T10:02:33.421Z"
   },
   {
    "duration": 1472,
    "start_time": "2021-11-24T10:04:37.101Z"
   },
   {
    "duration": 63,
    "start_time": "2021-11-24T10:04:38.576Z"
   },
   {
    "duration": 6,
    "start_time": "2021-11-24T10:04:38.642Z"
   },
   {
    "duration": 166,
    "start_time": "2021-11-24T10:04:38.651Z"
   },
   {
    "duration": 90,
    "start_time": "2021-11-24T10:04:38.820Z"
   },
   {
    "duration": 14,
    "start_time": "2021-11-24T10:04:38.913Z"
   },
   {
    "duration": 23,
    "start_time": "2021-11-24T10:04:38.930Z"
   },
   {
    "duration": 16,
    "start_time": "2021-11-24T10:04:38.984Z"
   },
   {
    "duration": 14,
    "start_time": "2021-11-24T10:04:39.003Z"
   },
   {
    "duration": 18,
    "start_time": "2021-11-24T10:04:39.020Z"
   },
   {
    "duration": 52,
    "start_time": "2021-11-24T10:04:39.041Z"
   },
   {
    "duration": 17,
    "start_time": "2021-11-24T10:04:39.096Z"
   },
   {
    "duration": 11,
    "start_time": "2021-11-24T10:04:39.117Z"
   },
   {
    "duration": 56,
    "start_time": "2021-11-24T10:04:39.131Z"
   },
   {
    "duration": 20,
    "start_time": "2021-11-24T10:04:39.189Z"
   },
   {
    "duration": 46,
    "start_time": "2021-11-24T10:04:39.212Z"
   },
   {
    "duration": 37,
    "start_time": "2021-11-24T10:04:39.261Z"
   },
   {
    "duration": 14,
    "start_time": "2021-11-24T10:04:39.300Z"
   },
   {
    "duration": 14,
    "start_time": "2021-11-24T10:04:39.317Z"
   },
   {
    "duration": 48,
    "start_time": "2021-11-24T10:04:39.334Z"
   },
   {
    "duration": 14,
    "start_time": "2021-11-24T10:04:39.385Z"
   },
   {
    "duration": 39,
    "start_time": "2021-11-24T10:04:39.402Z"
   },
   {
    "duration": 39,
    "start_time": "2021-11-24T10:04:39.446Z"
   },
   {
    "duration": 4517,
    "start_time": "2021-11-24T10:04:39.487Z"
   },
   {
    "duration": 101,
    "start_time": "2021-11-24T10:04:44.008Z"
   },
   {
    "duration": 8,
    "start_time": "2021-11-24T10:04:44.112Z"
   },
   {
    "duration": 182,
    "start_time": "2021-11-24T10:04:44.123Z"
   },
   {
    "duration": 1507,
    "start_time": "2021-11-24T10:06:04.190Z"
   },
   {
    "duration": 88,
    "start_time": "2021-11-24T10:06:05.700Z"
   },
   {
    "duration": 9,
    "start_time": "2021-11-24T10:06:05.796Z"
   },
   {
    "duration": 205,
    "start_time": "2021-11-24T10:06:05.808Z"
   },
   {
    "duration": 122,
    "start_time": "2021-11-24T10:06:06.015Z"
   },
   {
    "duration": 19,
    "start_time": "2021-11-24T10:06:06.140Z"
   },
   {
    "duration": 27,
    "start_time": "2021-11-24T10:06:06.183Z"
   },
   {
    "duration": 19,
    "start_time": "2021-11-24T10:06:06.215Z"
   },
   {
    "duration": 48,
    "start_time": "2021-11-24T10:06:06.238Z"
   },
   {
    "duration": 20,
    "start_time": "2021-11-24T10:06:06.289Z"
   },
   {
    "duration": 16,
    "start_time": "2021-11-24T10:06:06.311Z"
   },
   {
    "duration": 53,
    "start_time": "2021-11-24T10:06:06.331Z"
   },
   {
    "duration": 16,
    "start_time": "2021-11-24T10:06:06.387Z"
   },
   {
    "duration": 12,
    "start_time": "2021-11-24T10:06:06.406Z"
   },
   {
    "duration": 21,
    "start_time": "2021-11-24T10:06:06.421Z"
   },
   {
    "duration": 37,
    "start_time": "2021-11-24T10:06:06.483Z"
   },
   {
    "duration": 16,
    "start_time": "2021-11-24T10:06:06.523Z"
   },
   {
    "duration": 49,
    "start_time": "2021-11-24T10:06:06.542Z"
   },
   {
    "duration": 14,
    "start_time": "2021-11-24T10:06:06.595Z"
   },
   {
    "duration": 14,
    "start_time": "2021-11-24T10:06:06.611Z"
   },
   {
    "duration": 10,
    "start_time": "2021-11-24T10:06:06.628Z"
   },
   {
    "duration": 79,
    "start_time": "2021-11-24T10:06:06.644Z"
   },
   {
    "duration": 9,
    "start_time": "2021-11-24T10:06:06.726Z"
   },
   {
    "duration": 6125,
    "start_time": "2021-11-24T10:06:06.738Z"
   },
   {
    "duration": 115,
    "start_time": "2021-11-24T10:06:12.867Z"
   },
   {
    "duration": 8,
    "start_time": "2021-11-24T10:06:12.986Z"
   },
   {
    "duration": 188,
    "start_time": "2021-11-24T10:06:12.997Z"
   },
   {
    "duration": 157,
    "start_time": "2021-11-24T10:07:27.372Z"
   },
   {
    "duration": 400,
    "start_time": "2021-11-24T10:08:03.206Z"
   },
   {
    "duration": 1981,
    "start_time": "2021-11-24T10:08:12.134Z"
   },
   {
    "duration": 85,
    "start_time": "2021-11-24T10:08:14.118Z"
   },
   {
    "duration": 7,
    "start_time": "2021-11-24T10:08:14.206Z"
   },
   {
    "duration": 140,
    "start_time": "2021-11-24T10:08:14.215Z"
   },
   {
    "duration": 100,
    "start_time": "2021-11-24T10:08:14.359Z"
   },
   {
    "duration": 34,
    "start_time": "2021-11-24T10:08:14.462Z"
   },
   {
    "duration": 27,
    "start_time": "2021-11-24T10:08:14.499Z"
   },
   {
    "duration": 24,
    "start_time": "2021-11-24T10:08:14.529Z"
   },
   {
    "duration": 35,
    "start_time": "2021-11-24T10:08:14.557Z"
   },
   {
    "duration": 21,
    "start_time": "2021-11-24T10:08:14.595Z"
   },
   {
    "duration": 17,
    "start_time": "2021-11-24T10:08:14.619Z"
   },
   {
    "duration": 57,
    "start_time": "2021-11-24T10:08:14.639Z"
   },
   {
    "duration": 12,
    "start_time": "2021-11-24T10:08:14.699Z"
   },
   {
    "duration": 14,
    "start_time": "2021-11-24T10:08:14.713Z"
   },
   {
    "duration": 59,
    "start_time": "2021-11-24T10:08:14.730Z"
   },
   {
    "duration": 42,
    "start_time": "2021-11-24T10:08:14.791Z"
   },
   {
    "duration": 17,
    "start_time": "2021-11-24T10:08:14.836Z"
   },
   {
    "duration": 38,
    "start_time": "2021-11-24T10:08:14.856Z"
   },
   {
    "duration": 12,
    "start_time": "2021-11-24T10:08:14.896Z"
   },
   {
    "duration": 15,
    "start_time": "2021-11-24T10:08:14.911Z"
   },
   {
    "duration": 54,
    "start_time": "2021-11-24T10:08:14.929Z"
   },
   {
    "duration": 54,
    "start_time": "2021-11-24T10:08:14.986Z"
   },
   {
    "duration": 46,
    "start_time": "2021-11-24T10:08:15.043Z"
   },
   {
    "duration": 4954,
    "start_time": "2021-11-24T10:08:15.091Z"
   },
   {
    "duration": 105,
    "start_time": "2021-11-24T10:08:20.048Z"
   },
   {
    "duration": 8,
    "start_time": "2021-11-24T10:08:20.156Z"
   },
   {
    "duration": 240,
    "start_time": "2021-11-24T10:08:20.170Z"
   },
   {
    "duration": 1581,
    "start_time": "2021-11-24T10:09:14.548Z"
   },
   {
    "duration": 67,
    "start_time": "2021-11-24T10:09:16.131Z"
   },
   {
    "duration": 6,
    "start_time": "2021-11-24T10:09:16.201Z"
   },
   {
    "duration": 132,
    "start_time": "2021-11-24T10:09:16.210Z"
   },
   {
    "duration": 90,
    "start_time": "2021-11-24T10:09:16.344Z"
   },
   {
    "duration": 13,
    "start_time": "2021-11-24T10:09:16.437Z"
   },
   {
    "duration": 52,
    "start_time": "2021-11-24T10:09:16.452Z"
   },
   {
    "duration": 17,
    "start_time": "2021-11-24T10:09:16.507Z"
   },
   {
    "duration": 12,
    "start_time": "2021-11-24T10:09:16.528Z"
   },
   {
    "duration": 50,
    "start_time": "2021-11-24T10:09:16.543Z"
   },
   {
    "duration": 15,
    "start_time": "2021-11-24T10:09:16.596Z"
   },
   {
    "duration": 17,
    "start_time": "2021-11-24T10:09:16.614Z"
   },
   {
    "duration": 54,
    "start_time": "2021-11-24T10:09:16.634Z"
   },
   {
    "duration": 13,
    "start_time": "2021-11-24T10:09:16.691Z"
   },
   {
    "duration": 20,
    "start_time": "2021-11-24T10:09:16.707Z"
   },
   {
    "duration": 73,
    "start_time": "2021-11-24T10:09:16.731Z"
   },
   {
    "duration": 20,
    "start_time": "2021-11-24T10:09:16.807Z"
   },
   {
    "duration": 17,
    "start_time": "2021-11-24T10:09:16.830Z"
   },
   {
    "duration": 35,
    "start_time": "2021-11-24T10:09:16.850Z"
   },
   {
    "duration": 20,
    "start_time": "2021-11-24T10:09:16.888Z"
   },
   {
    "duration": 14,
    "start_time": "2021-11-24T10:09:16.911Z"
   },
   {
    "duration": 68,
    "start_time": "2021-11-24T10:09:16.927Z"
   },
   {
    "duration": 9,
    "start_time": "2021-11-24T10:09:16.998Z"
   },
   {
    "duration": 4654,
    "start_time": "2021-11-24T10:09:17.010Z"
   },
   {
    "duration": 88,
    "start_time": "2021-11-24T10:09:21.667Z"
   },
   {
    "duration": 25,
    "start_time": "2021-11-24T10:09:21.758Z"
   },
   {
    "duration": 177,
    "start_time": "2021-11-24T10:09:21.788Z"
   },
   {
    "duration": 33,
    "start_time": "2021-11-24T10:11:18.616Z"
   },
   {
    "duration": 628,
    "start_time": "2021-11-24T10:11:47.265Z"
   },
   {
    "duration": 5,
    "start_time": "2021-11-24T10:11:51.325Z"
   },
   {
    "duration": 132,
    "start_time": "2021-11-24T10:15:33.042Z"
   },
   {
    "duration": 7700,
    "start_time": "2021-11-24T10:15:45.554Z"
   },
   {
    "duration": 337,
    "start_time": "2021-11-24T10:16:17.811Z"
   },
   {
    "duration": 7,
    "start_time": "2021-11-24T10:16:25.610Z"
   },
   {
    "duration": 33,
    "start_time": "2021-11-24T10:21:16.693Z"
   },
   {
    "duration": 331,
    "start_time": "2021-11-24T10:21:33.557Z"
   },
   {
    "duration": 2236,
    "start_time": "2021-11-24T10:24:17.259Z"
   },
   {
    "duration": 96,
    "start_time": "2021-11-24T10:24:19.500Z"
   },
   {
    "duration": 10,
    "start_time": "2021-11-24T10:24:19.601Z"
   },
   {
    "duration": 149,
    "start_time": "2021-11-24T10:24:19.614Z"
   },
   {
    "duration": 84,
    "start_time": "2021-11-24T10:24:19.766Z"
   },
   {
    "duration": 41,
    "start_time": "2021-11-24T10:24:19.853Z"
   },
   {
    "duration": 31,
    "start_time": "2021-11-24T10:24:19.898Z"
   },
   {
    "duration": 53,
    "start_time": "2021-11-24T10:24:19.934Z"
   },
   {
    "duration": 19,
    "start_time": "2021-11-24T10:24:19.991Z"
   },
   {
    "duration": 31,
    "start_time": "2021-11-24T10:24:20.014Z"
   },
   {
    "duration": 44,
    "start_time": "2021-11-24T10:24:20.048Z"
   },
   {
    "duration": 21,
    "start_time": "2021-11-24T10:24:20.096Z"
   },
   {
    "duration": 15,
    "start_time": "2021-11-24T10:24:20.120Z"
   },
   {
    "duration": 19,
    "start_time": "2021-11-24T10:24:20.184Z"
   },
   {
    "duration": 24,
    "start_time": "2021-11-24T10:24:20.207Z"
   },
   {
    "duration": 62,
    "start_time": "2021-11-24T10:24:20.234Z"
   },
   {
    "duration": 24,
    "start_time": "2021-11-24T10:24:20.300Z"
   },
   {
    "duration": 17,
    "start_time": "2021-11-24T10:24:20.328Z"
   },
   {
    "duration": 38,
    "start_time": "2021-11-24T10:24:20.353Z"
   },
   {
    "duration": 23,
    "start_time": "2021-11-24T10:24:20.395Z"
   },
   {
    "duration": 26,
    "start_time": "2021-11-24T10:24:20.421Z"
   },
   {
    "duration": 83,
    "start_time": "2021-11-24T10:24:20.450Z"
   },
   {
    "duration": 11,
    "start_time": "2021-11-24T10:24:20.537Z"
   },
   {
    "duration": 6436,
    "start_time": "2021-11-24T10:24:20.552Z"
   },
   {
    "duration": 141,
    "start_time": "2021-11-24T10:24:26.992Z"
   },
   {
    "duration": 49,
    "start_time": "2021-11-24T10:24:27.136Z"
   },
   {
    "duration": 19,
    "start_time": "2021-11-24T10:24:27.189Z"
   },
   {
    "duration": 30,
    "start_time": "2021-11-24T10:24:27.212Z"
   },
   {
    "duration": 110,
    "start_time": "2021-11-24T10:24:27.245Z"
   },
   {
    "duration": 31,
    "start_time": "2021-11-24T10:25:33.855Z"
   },
   {
    "duration": 11,
    "start_time": "2021-11-24T10:28:24.334Z"
   },
   {
    "duration": 1525,
    "start_time": "2021-11-24T11:14:23.095Z"
   },
   {
    "duration": 64,
    "start_time": "2021-11-24T11:14:24.622Z"
   },
   {
    "duration": 6,
    "start_time": "2021-11-24T11:14:24.689Z"
   },
   {
    "duration": 133,
    "start_time": "2021-11-24T11:14:24.698Z"
   },
   {
    "duration": 82,
    "start_time": "2021-11-24T11:14:24.833Z"
   },
   {
    "duration": 12,
    "start_time": "2021-11-24T11:14:24.917Z"
   },
   {
    "duration": 20,
    "start_time": "2021-11-24T11:14:24.932Z"
   },
   {
    "duration": 15,
    "start_time": "2021-11-24T11:14:24.984Z"
   },
   {
    "duration": 12,
    "start_time": "2021-11-24T11:14:25.002Z"
   },
   {
    "duration": 17,
    "start_time": "2021-11-24T11:14:25.017Z"
   },
   {
    "duration": 51,
    "start_time": "2021-11-24T11:14:25.037Z"
   },
   {
    "duration": 16,
    "start_time": "2021-11-24T11:14:25.091Z"
   },
   {
    "duration": 14,
    "start_time": "2021-11-24T11:14:25.110Z"
   },
   {
    "duration": 13,
    "start_time": "2021-11-24T11:14:25.127Z"
   },
   {
    "duration": 22,
    "start_time": "2021-11-24T11:14:25.183Z"
   },
   {
    "duration": 29,
    "start_time": "2021-11-24T11:14:25.209Z"
   },
   {
    "duration": 53,
    "start_time": "2021-11-24T11:14:25.241Z"
   },
   {
    "duration": 14,
    "start_time": "2021-11-24T11:14:25.297Z"
   },
   {
    "duration": 12,
    "start_time": "2021-11-24T11:14:25.314Z"
   },
   {
    "duration": 15,
    "start_time": "2021-11-24T11:14:25.329Z"
   },
   {
    "duration": 45,
    "start_time": "2021-11-24T11:14:25.346Z"
   },
   {
    "duration": 41,
    "start_time": "2021-11-24T11:14:25.394Z"
   },
   {
    "duration": 9,
    "start_time": "2021-11-24T11:14:25.441Z"
   },
   {
    "duration": 4469,
    "start_time": "2021-11-24T11:14:25.483Z"
   },
   {
    "duration": 8,
    "start_time": "2021-11-24T11:14:29.955Z"
   },
   {
    "duration": 124,
    "start_time": "2021-11-24T11:14:29.965Z"
   },
   {
    "duration": 28,
    "start_time": "2021-11-24T11:14:30.092Z"
   },
   {
    "duration": 35,
    "start_time": "2021-11-24T11:14:30.122Z"
   },
   {
    "duration": 34,
    "start_time": "2021-11-24T11:14:30.159Z"
   },
   {
    "duration": 63,
    "start_time": "2021-11-24T11:14:30.195Z"
   },
   {
    "duration": 759,
    "start_time": "2021-11-24T11:14:30.261Z"
   },
   {
    "duration": 1296,
    "start_time": "2021-11-24T11:15:12.123Z"
   },
   {
    "duration": 157,
    "start_time": "2021-11-24T11:22:35.957Z"
   },
   {
    "duration": 1531,
    "start_time": "2021-11-24T11:24:28.047Z"
   },
   {
    "duration": 61,
    "start_time": "2021-11-24T11:24:29.581Z"
   },
   {
    "duration": 7,
    "start_time": "2021-11-24T11:24:29.648Z"
   },
   {
    "duration": 142,
    "start_time": "2021-11-24T11:24:29.657Z"
   },
   {
    "duration": 82,
    "start_time": "2021-11-24T11:24:29.802Z"
   },
   {
    "duration": 18,
    "start_time": "2021-11-24T11:24:29.887Z"
   },
   {
    "duration": 27,
    "start_time": "2021-11-24T11:24:29.908Z"
   },
   {
    "duration": 50,
    "start_time": "2021-11-24T11:24:29.939Z"
   },
   {
    "duration": 12,
    "start_time": "2021-11-24T11:24:29.992Z"
   },
   {
    "duration": 20,
    "start_time": "2021-11-24T11:24:30.007Z"
   },
   {
    "duration": 23,
    "start_time": "2021-11-24T11:24:30.030Z"
   },
   {
    "duration": 37,
    "start_time": "2021-11-24T11:24:30.056Z"
   },
   {
    "duration": 25,
    "start_time": "2021-11-24T11:24:30.095Z"
   },
   {
    "duration": 28,
    "start_time": "2021-11-24T11:24:30.123Z"
   },
   {
    "duration": 30,
    "start_time": "2021-11-24T11:24:30.154Z"
   },
   {
    "duration": 81,
    "start_time": "2021-11-24T11:24:30.186Z"
   },
   {
    "duration": 16,
    "start_time": "2021-11-24T11:24:30.270Z"
   },
   {
    "duration": 15,
    "start_time": "2021-11-24T11:24:30.289Z"
   },
   {
    "duration": 38,
    "start_time": "2021-11-24T11:24:30.307Z"
   },
   {
    "duration": 24,
    "start_time": "2021-11-24T11:24:30.348Z"
   },
   {
    "duration": 12,
    "start_time": "2021-11-24T11:24:30.375Z"
   },
   {
    "duration": 88,
    "start_time": "2021-11-24T11:24:30.389Z"
   },
   {
    "duration": 13,
    "start_time": "2021-11-24T11:24:30.479Z"
   },
   {
    "duration": 4450,
    "start_time": "2021-11-24T11:24:30.494Z"
   },
   {
    "duration": 9,
    "start_time": "2021-11-24T11:24:34.947Z"
   },
   {
    "duration": 125,
    "start_time": "2021-11-24T11:24:34.981Z"
   },
   {
    "duration": 35,
    "start_time": "2021-11-24T11:24:35.109Z"
   },
   {
    "duration": 39,
    "start_time": "2021-11-24T11:24:35.147Z"
   },
   {
    "duration": 18,
    "start_time": "2021-11-24T11:24:35.189Z"
   },
   {
    "duration": 51,
    "start_time": "2021-11-24T11:24:35.210Z"
   },
   {
    "duration": 1394,
    "start_time": "2021-11-24T11:24:35.283Z"
   },
   {
    "duration": 129,
    "start_time": "2021-11-24T11:24:36.682Z"
   },
   {
    "duration": 104,
    "start_time": "2021-11-24T11:37:01.734Z"
   },
   {
    "duration": 439,
    "start_time": "2021-11-24T11:37:06.663Z"
   },
   {
    "duration": 1569,
    "start_time": "2021-11-24T11:47:55.197Z"
   },
   {
    "duration": 65,
    "start_time": "2021-11-24T11:47:56.769Z"
   },
   {
    "duration": 6,
    "start_time": "2021-11-24T11:47:56.838Z"
   },
   {
    "duration": 144,
    "start_time": "2021-11-24T11:47:56.848Z"
   },
   {
    "duration": 88,
    "start_time": "2021-11-24T11:47:56.994Z"
   },
   {
    "duration": 13,
    "start_time": "2021-11-24T11:47:57.084Z"
   },
   {
    "duration": 27,
    "start_time": "2021-11-24T11:47:57.100Z"
   },
   {
    "duration": 14,
    "start_time": "2021-11-24T11:47:57.129Z"
   },
   {
    "duration": 43,
    "start_time": "2021-11-24T11:47:57.147Z"
   },
   {
    "duration": 33,
    "start_time": "2021-11-24T11:47:57.193Z"
   },
   {
    "duration": 19,
    "start_time": "2021-11-24T11:47:57.228Z"
   },
   {
    "duration": 20,
    "start_time": "2021-11-24T11:47:57.249Z"
   },
   {
    "duration": 13,
    "start_time": "2021-11-24T11:47:57.282Z"
   },
   {
    "duration": 20,
    "start_time": "2021-11-24T11:47:57.297Z"
   },
   {
    "duration": 21,
    "start_time": "2021-11-24T11:47:57.320Z"
   },
   {
    "duration": 54,
    "start_time": "2021-11-24T11:47:57.343Z"
   },
   {
    "duration": 15,
    "start_time": "2021-11-24T11:47:57.400Z"
   },
   {
    "duration": 11,
    "start_time": "2021-11-24T11:47:57.418Z"
   },
   {
    "duration": 10,
    "start_time": "2021-11-24T11:47:57.431Z"
   },
   {
    "duration": 47,
    "start_time": "2021-11-24T11:47:57.443Z"
   },
   {
    "duration": 12,
    "start_time": "2021-11-24T11:47:57.492Z"
   },
   {
    "duration": 40,
    "start_time": "2021-11-24T11:47:57.506Z"
   },
   {
    "duration": 34,
    "start_time": "2021-11-24T11:47:57.549Z"
   },
   {
    "duration": 472,
    "start_time": "2021-11-24T11:47:57.586Z"
   },
   {
    "duration": 315,
    "start_time": "2021-11-24T11:47:57.746Z"
   },
   {
    "duration": 315,
    "start_time": "2021-11-24T11:47:57.747Z"
   },
   {
    "duration": 315,
    "start_time": "2021-11-24T11:47:57.748Z"
   },
   {
    "duration": 301,
    "start_time": "2021-11-24T11:47:57.763Z"
   },
   {
    "duration": 301,
    "start_time": "2021-11-24T11:47:57.764Z"
   },
   {
    "duration": 300,
    "start_time": "2021-11-24T11:47:57.767Z"
   },
   {
    "duration": 294,
    "start_time": "2021-11-24T11:47:57.774Z"
   },
   {
    "duration": 295,
    "start_time": "2021-11-24T11:47:57.775Z"
   },
   {
    "duration": 295,
    "start_time": "2021-11-24T11:47:57.776Z"
   },
   {
    "duration": 294,
    "start_time": "2021-11-24T11:47:57.778Z"
   },
   {
    "duration": 1604,
    "start_time": "2021-11-24T11:48:55.574Z"
   },
   {
    "duration": 65,
    "start_time": "2021-11-24T11:48:57.182Z"
   },
   {
    "duration": 6,
    "start_time": "2021-11-24T11:48:57.250Z"
   },
   {
    "duration": 142,
    "start_time": "2021-11-24T11:48:57.259Z"
   },
   {
    "duration": 94,
    "start_time": "2021-11-24T11:48:57.404Z"
   },
   {
    "duration": 15,
    "start_time": "2021-11-24T11:48:57.502Z"
   },
   {
    "duration": 27,
    "start_time": "2021-11-24T11:48:57.520Z"
   },
   {
    "duration": 45,
    "start_time": "2021-11-24T11:48:57.550Z"
   },
   {
    "duration": 11,
    "start_time": "2021-11-24T11:48:57.602Z"
   },
   {
    "duration": 19,
    "start_time": "2021-11-24T11:48:57.616Z"
   },
   {
    "duration": 50,
    "start_time": "2021-11-24T11:48:57.637Z"
   },
   {
    "duration": 18,
    "start_time": "2021-11-24T11:48:57.690Z"
   },
   {
    "duration": 14,
    "start_time": "2021-11-24T11:48:57.711Z"
   },
   {
    "duration": 21,
    "start_time": "2021-11-24T11:48:57.728Z"
   },
   {
    "duration": 41,
    "start_time": "2021-11-24T11:48:57.752Z"
   },
   {
    "duration": 35,
    "start_time": "2021-11-24T11:48:57.796Z"
   },
   {
    "duration": 16,
    "start_time": "2021-11-24T11:48:57.834Z"
   },
   {
    "duration": 38,
    "start_time": "2021-11-24T11:48:57.853Z"
   },
   {
    "duration": 10,
    "start_time": "2021-11-24T11:48:57.893Z"
   },
   {
    "duration": 15,
    "start_time": "2021-11-24T11:48:57.905Z"
   },
   {
    "duration": 11,
    "start_time": "2021-11-24T11:48:57.922Z"
   },
   {
    "duration": 76,
    "start_time": "2021-11-24T11:48:57.935Z"
   },
   {
    "duration": 10,
    "start_time": "2021-11-24T11:48:58.013Z"
   },
   {
    "duration": 4322,
    "start_time": "2021-11-24T11:48:58.025Z"
   },
   {
    "duration": 9,
    "start_time": "2021-11-24T11:49:02.349Z"
   },
   {
    "duration": 104,
    "start_time": "2021-11-24T11:49:02.360Z"
   },
   {
    "duration": 34,
    "start_time": "2021-11-24T11:49:02.487Z"
   },
   {
    "duration": 18,
    "start_time": "2021-11-24T11:49:02.524Z"
   },
   {
    "duration": 51,
    "start_time": "2021-11-24T11:49:02.545Z"
   },
   {
    "duration": 51,
    "start_time": "2021-11-24T11:49:02.599Z"
   },
   {
    "duration": 1488,
    "start_time": "2021-11-24T11:49:02.652Z"
   },
   {
    "duration": 17,
    "start_time": "2021-11-24T11:49:04.143Z"
   },
   {
    "duration": 862,
    "start_time": "2021-11-24T11:49:04.163Z"
   },
   {
    "duration": 319,
    "start_time": "2021-11-24T11:49:04.709Z"
   },
   {
    "duration": 6508,
    "start_time": "2021-11-24T11:50:51.082Z"
   },
   {
    "duration": 311,
    "start_time": "2021-11-24T11:50:57.594Z"
   },
   {
    "duration": 88,
    "start_time": "2021-11-24T11:50:57.908Z"
   },
   {
    "duration": 399,
    "start_time": "2021-11-24T11:50:57.999Z"
   },
   {
    "duration": 301,
    "start_time": "2021-11-24T11:50:58.481Z"
   },
   {
    "duration": 16,
    "start_time": "2021-11-24T11:50:58.785Z"
   },
   {
    "duration": 174,
    "start_time": "2021-11-24T11:50:58.809Z"
   },
   {
    "duration": 99,
    "start_time": "2021-11-24T11:50:58.986Z"
   },
   {
    "duration": 15,
    "start_time": "2021-11-24T11:50:59.090Z"
   },
   {
    "duration": 21,
    "start_time": "2021-11-24T11:50:59.185Z"
   },
   {
    "duration": 90,
    "start_time": "2021-11-24T11:50:59.208Z"
   },
   {
    "duration": 19,
    "start_time": "2021-11-24T11:50:59.301Z"
   },
   {
    "duration": 78,
    "start_time": "2021-11-24T11:50:59.322Z"
   },
   {
    "duration": 88,
    "start_time": "2021-11-24T11:50:59.404Z"
   },
   {
    "duration": 89,
    "start_time": "2021-11-24T11:50:59.495Z"
   },
   {
    "duration": 106,
    "start_time": "2021-11-24T11:50:59.588Z"
   },
   {
    "duration": 95,
    "start_time": "2021-11-24T11:50:59.697Z"
   },
   {
    "duration": 95,
    "start_time": "2021-11-24T11:50:59.795Z"
   },
   {
    "duration": 11,
    "start_time": "2021-11-24T11:50:59.892Z"
   },
   {
    "duration": 84,
    "start_time": "2021-11-24T11:50:59.907Z"
   },
   {
    "duration": 106,
    "start_time": "2021-11-24T11:50:59.994Z"
   },
   {
    "duration": 382,
    "start_time": "2021-11-24T11:51:00.102Z"
   },
   {
    "duration": 13,
    "start_time": "2021-11-24T11:51:00.486Z"
   },
   {
    "duration": 22000,
    "start_time": "2021-11-24T11:51:00.502Z"
   },
   {
    "duration": 9,
    "start_time": "2021-11-24T11:51:22.504Z"
   },
   {
    "duration": 98,
    "start_time": "2021-11-24T11:51:22.515Z"
   },
   {
    "duration": 24,
    "start_time": "2021-11-24T11:51:22.618Z"
   },
   {
    "duration": 14,
    "start_time": "2021-11-24T11:51:22.645Z"
   },
   {
    "duration": 17,
    "start_time": "2021-11-24T11:51:22.683Z"
   },
   {
    "duration": 51,
    "start_time": "2021-11-24T11:51:22.702Z"
   },
   {
    "duration": 1583,
    "start_time": "2021-11-24T11:51:22.755Z"
   },
   {
    "duration": 14,
    "start_time": "2021-11-24T11:51:24.341Z"
   },
   {
    "duration": 66,
    "start_time": "2021-11-24T11:51:24.357Z"
   },
   {
    "duration": 190,
    "start_time": "2021-11-24T11:51:24.425Z"
   },
   {
    "duration": 2115,
    "start_time": "2021-11-24T14:58:50.893Z"
   },
   {
    "duration": 354,
    "start_time": "2021-11-24T14:58:52.660Z"
   },
   {
    "duration": 347,
    "start_time": "2021-11-24T14:58:52.669Z"
   },
   {
    "duration": 347,
    "start_time": "2021-11-24T14:58:52.672Z"
   },
   {
    "duration": 346,
    "start_time": "2021-11-24T14:58:52.675Z"
   },
   {
    "duration": 345,
    "start_time": "2021-11-24T14:58:52.678Z"
   },
   {
    "duration": 344,
    "start_time": "2021-11-24T14:58:52.681Z"
   },
   {
    "duration": 346,
    "start_time": "2021-11-24T14:58:52.682Z"
   },
   {
    "duration": 346,
    "start_time": "2021-11-24T14:58:52.684Z"
   },
   {
    "duration": 346,
    "start_time": "2021-11-24T14:58:52.686Z"
   },
   {
    "duration": 347,
    "start_time": "2021-11-24T14:58:52.687Z"
   },
   {
    "duration": 345,
    "start_time": "2021-11-24T14:58:52.692Z"
   },
   {
    "duration": 343,
    "start_time": "2021-11-24T14:58:52.696Z"
   },
   {
    "duration": 343,
    "start_time": "2021-11-24T14:58:52.698Z"
   },
   {
    "duration": 344,
    "start_time": "2021-11-24T14:58:52.700Z"
   },
   {
    "duration": 345,
    "start_time": "2021-11-24T14:58:52.701Z"
   },
   {
    "duration": 346,
    "start_time": "2021-11-24T14:58:52.702Z"
   },
   {
    "duration": 363,
    "start_time": "2021-11-24T14:58:52.719Z"
   },
   {
    "duration": 364,
    "start_time": "2021-11-24T14:58:52.720Z"
   },
   {
    "duration": 363,
    "start_time": "2021-11-24T14:58:52.723Z"
   },
   {
    "duration": 363,
    "start_time": "2021-11-24T14:58:52.724Z"
   },
   {
    "duration": 361,
    "start_time": "2021-11-24T14:58:52.729Z"
   },
   {
    "duration": 357,
    "start_time": "2021-11-24T14:58:52.735Z"
   },
   {
    "duration": 357,
    "start_time": "2021-11-24T14:58:52.737Z"
   },
   {
    "duration": 358,
    "start_time": "2021-11-24T14:58:52.738Z"
   },
   {
    "duration": 359,
    "start_time": "2021-11-24T14:58:52.739Z"
   },
   {
    "duration": 359,
    "start_time": "2021-11-24T14:58:52.741Z"
   },
   {
    "duration": 360,
    "start_time": "2021-11-24T14:58:52.742Z"
   },
   {
    "duration": 357,
    "start_time": "2021-11-24T14:58:52.747Z"
   },
   {
    "duration": 358,
    "start_time": "2021-11-24T14:58:52.749Z"
   },
   {
    "duration": 358,
    "start_time": "2021-11-24T14:58:52.751Z"
   },
   {
    "duration": 358,
    "start_time": "2021-11-24T14:58:52.752Z"
   },
   {
    "duration": 358,
    "start_time": "2021-11-24T14:58:52.754Z"
   },
   {
    "duration": 349,
    "start_time": "2021-11-24T14:58:52.765Z"
   },
   {
    "duration": 2338,
    "start_time": "2021-11-24T14:59:44.310Z"
   },
   {
    "duration": 357,
    "start_time": "2021-11-24T14:59:46.296Z"
   },
   {
    "duration": 354,
    "start_time": "2021-11-24T14:59:46.301Z"
   },
   {
    "duration": 348,
    "start_time": "2021-11-24T14:59:46.309Z"
   },
   {
    "duration": 346,
    "start_time": "2021-11-24T14:59:46.313Z"
   },
   {
    "duration": 345,
    "start_time": "2021-11-24T14:59:46.316Z"
   },
   {
    "duration": 345,
    "start_time": "2021-11-24T14:59:46.318Z"
   },
   {
    "duration": 342,
    "start_time": "2021-11-24T14:59:46.323Z"
   },
   {
    "duration": 342,
    "start_time": "2021-11-24T14:59:46.325Z"
   },
   {
    "duration": 342,
    "start_time": "2021-11-24T14:59:46.327Z"
   },
   {
    "duration": 342,
    "start_time": "2021-11-24T14:59:46.329Z"
   },
   {
    "duration": 338,
    "start_time": "2021-11-24T14:59:46.335Z"
   },
   {
    "duration": 338,
    "start_time": "2021-11-24T14:59:46.337Z"
   },
   {
    "duration": 339,
    "start_time": "2021-11-24T14:59:46.339Z"
   },
   {
    "duration": 340,
    "start_time": "2021-11-24T14:59:46.340Z"
   },
   {
    "duration": 340,
    "start_time": "2021-11-24T14:59:46.342Z"
   },
   {
    "duration": 341,
    "start_time": "2021-11-24T14:59:46.343Z"
   },
   {
    "duration": 339,
    "start_time": "2021-11-24T14:59:46.347Z"
   },
   {
    "duration": 340,
    "start_time": "2021-11-24T14:59:46.348Z"
   },
   {
    "duration": 337,
    "start_time": "2021-11-24T14:59:46.353Z"
   },
   {
    "duration": 337,
    "start_time": "2021-11-24T14:59:46.355Z"
   },
   {
    "duration": 338,
    "start_time": "2021-11-24T14:59:46.356Z"
   },
   {
    "duration": 338,
    "start_time": "2021-11-24T14:59:46.358Z"
   },
   {
    "duration": 278,
    "start_time": "2021-11-24T14:59:46.421Z"
   },
   {
    "duration": 268,
    "start_time": "2021-11-24T14:59:46.433Z"
   },
   {
    "duration": 267,
    "start_time": "2021-11-24T14:59:46.436Z"
   },
   {
    "duration": 269,
    "start_time": "2021-11-24T14:59:46.438Z"
   },
   {
    "duration": 268,
    "start_time": "2021-11-24T14:59:46.441Z"
   },
   {
    "duration": 267,
    "start_time": "2021-11-24T14:59:46.445Z"
   },
   {
    "duration": 266,
    "start_time": "2021-11-24T14:59:46.448Z"
   },
   {
    "duration": 251,
    "start_time": "2021-11-24T14:59:46.465Z"
   },
   {
    "duration": 249,
    "start_time": "2021-11-24T14:59:46.469Z"
   },
   {
    "duration": 249,
    "start_time": "2021-11-24T14:59:46.471Z"
   },
   {
    "duration": 247,
    "start_time": "2021-11-24T14:59:46.476Z"
   },
   {
    "duration": 1592,
    "start_time": "2021-11-24T15:00:33.662Z"
   },
   {
    "duration": 64,
    "start_time": "2021-11-24T15:00:35.257Z"
   },
   {
    "duration": 6,
    "start_time": "2021-11-24T15:00:35.324Z"
   },
   {
    "duration": 129,
    "start_time": "2021-11-24T15:00:35.333Z"
   },
   {
    "duration": 67,
    "start_time": "2021-11-24T15:00:35.483Z"
   },
   {
    "duration": 36,
    "start_time": "2021-11-24T15:00:35.553Z"
   },
   {
    "duration": 19,
    "start_time": "2021-11-24T15:00:35.591Z"
   },
   {
    "duration": 17,
    "start_time": "2021-11-24T15:00:35.613Z"
   },
   {
    "duration": 13,
    "start_time": "2021-11-24T15:00:35.634Z"
   },
   {
    "duration": 17,
    "start_time": "2021-11-24T15:00:35.683Z"
   },
   {
    "duration": 14,
    "start_time": "2021-11-24T15:00:35.702Z"
   },
   {
    "duration": 16,
    "start_time": "2021-11-24T15:00:35.719Z"
   },
   {
    "duration": 50,
    "start_time": "2021-11-24T15:00:35.737Z"
   },
   {
    "duration": 19,
    "start_time": "2021-11-24T15:00:35.789Z"
   },
   {
    "duration": 22,
    "start_time": "2021-11-24T15:00:35.811Z"
   },
   {
    "duration": 58,
    "start_time": "2021-11-24T15:00:35.835Z"
   },
   {
    "duration": 15,
    "start_time": "2021-11-24T15:00:35.895Z"
   },
   {
    "duration": 12,
    "start_time": "2021-11-24T15:00:35.913Z"
   },
   {
    "duration": 18,
    "start_time": "2021-11-24T15:00:35.928Z"
   },
   {
    "duration": 44,
    "start_time": "2021-11-24T15:00:35.949Z"
   },
   {
    "duration": 9,
    "start_time": "2021-11-24T15:00:35.996Z"
   },
   {
    "duration": 39,
    "start_time": "2021-11-24T15:00:36.008Z"
   },
   {
    "duration": 40,
    "start_time": "2021-11-24T15:00:36.049Z"
   },
   {
    "duration": 4809,
    "start_time": "2021-11-24T15:00:36.093Z"
   },
   {
    "duration": 7,
    "start_time": "2021-11-24T15:00:40.905Z"
   },
   {
    "duration": 142,
    "start_time": "2021-11-24T15:00:40.915Z"
   },
   {
    "duration": 44,
    "start_time": "2021-11-24T15:00:41.064Z"
   },
   {
    "duration": 14,
    "start_time": "2021-11-24T15:00:41.111Z"
   },
   {
    "duration": 17,
    "start_time": "2021-11-24T15:00:41.127Z"
   },
   {
    "duration": 78,
    "start_time": "2021-11-24T15:00:41.147Z"
   },
   {
    "duration": 1359,
    "start_time": "2021-11-24T15:00:41.227Z"
   },
   {
    "duration": 14,
    "start_time": "2021-11-24T15:00:42.589Z"
   },
   {
    "duration": 45,
    "start_time": "2021-11-24T15:00:42.606Z"
   },
   {
    "duration": 632,
    "start_time": "2021-11-24T15:00:42.654Z"
   },
   {
    "duration": 12,
    "start_time": "2021-11-24T15:01:31.105Z"
   },
   {
    "duration": 23,
    "start_time": "2021-11-24T15:01:32.134Z"
   },
   {
    "duration": 21684,
    "start_time": "2021-11-24T15:01:43.712Z"
   },
   {
    "duration": 147,
    "start_time": "2021-11-24T15:04:32.158Z"
   },
   {
    "duration": 21475,
    "start_time": "2021-11-24T15:04:37.669Z"
   },
   {
    "duration": 352,
    "start_time": "2021-11-24T15:04:58.795Z"
   },
   {
    "duration": 39,
    "start_time": "2021-11-24T15:11:45.150Z"
   },
   {
    "duration": 25044,
    "start_time": "2021-11-24T15:11:48.120Z"
   },
   {
    "duration": 354,
    "start_time": "2021-11-24T15:12:12.814Z"
   },
   {
    "duration": 360,
    "start_time": "2021-11-24T15:13:06.480Z"
   },
   {
    "duration": 344,
    "start_time": "2021-11-24T15:13:06.498Z"
   },
   {
    "duration": 20485,
    "start_time": "2021-11-24T15:13:29.799Z"
   },
   {
    "duration": 345,
    "start_time": "2021-11-24T15:13:49.944Z"
   },
   {
    "duration": 19,
    "start_time": "2021-11-24T15:21:14.456Z"
   },
   {
    "duration": 20168,
    "start_time": "2021-11-24T15:21:19.881Z"
   },
   {
    "duration": 332,
    "start_time": "2021-11-24T15:21:39.719Z"
   },
   {
    "duration": 20787,
    "start_time": "2021-11-24T15:23:39.873Z"
   },
   {
    "duration": 372,
    "start_time": "2021-11-24T15:24:00.291Z"
   },
   {
    "duration": 1706,
    "start_time": "2021-11-24T15:24:50.999Z"
   },
   {
    "duration": 64,
    "start_time": "2021-11-24T15:24:52.707Z"
   },
   {
    "duration": 8,
    "start_time": "2021-11-24T15:24:52.774Z"
   },
   {
    "duration": 134,
    "start_time": "2021-11-24T15:24:52.785Z"
   },
   {
    "duration": 86,
    "start_time": "2021-11-24T15:24:52.922Z"
   },
   {
    "duration": 13,
    "start_time": "2021-11-24T15:24:53.010Z"
   },
   {
    "duration": 17,
    "start_time": "2021-11-24T15:24:53.026Z"
   },
   {
    "duration": 45,
    "start_time": "2021-11-24T15:24:53.045Z"
   },
   {
    "duration": 13,
    "start_time": "2021-11-24T15:24:53.094Z"
   },
   {
    "duration": 32,
    "start_time": "2021-11-24T15:24:53.110Z"
   },
   {
    "duration": 47,
    "start_time": "2021-11-24T15:24:53.144Z"
   },
   {
    "duration": 16,
    "start_time": "2021-11-24T15:24:53.193Z"
   },
   {
    "duration": 16,
    "start_time": "2021-11-24T15:24:53.212Z"
   },
   {
    "duration": 53,
    "start_time": "2021-11-24T15:24:53.231Z"
   },
   {
    "duration": 31,
    "start_time": "2021-11-24T15:24:53.287Z"
   },
   {
    "duration": 34,
    "start_time": "2021-11-24T15:24:53.321Z"
   },
   {
    "duration": 36,
    "start_time": "2021-11-24T15:24:53.358Z"
   },
   {
    "duration": 11,
    "start_time": "2021-11-24T15:24:53.396Z"
   },
   {
    "duration": 20,
    "start_time": "2021-11-24T15:24:53.409Z"
   },
   {
    "duration": 25,
    "start_time": "2021-11-24T15:24:53.431Z"
   },
   {
    "duration": 32,
    "start_time": "2021-11-24T15:24:53.458Z"
   },
   {
    "duration": 60,
    "start_time": "2021-11-24T15:24:53.493Z"
   },
   {
    "duration": 35,
    "start_time": "2021-11-24T15:24:53.556Z"
   },
   {
    "duration": 4564,
    "start_time": "2021-11-24T15:24:53.593Z"
   },
   {
    "duration": 24,
    "start_time": "2021-11-24T15:24:58.160Z"
   },
   {
    "duration": 84,
    "start_time": "2021-11-24T15:24:58.186Z"
   },
   {
    "duration": 26,
    "start_time": "2021-11-24T15:24:58.285Z"
   },
   {
    "duration": 14,
    "start_time": "2021-11-24T15:24:58.314Z"
   },
   {
    "duration": 17,
    "start_time": "2021-11-24T15:24:58.330Z"
   },
   {
    "duration": 46,
    "start_time": "2021-11-24T15:24:58.382Z"
   },
   {
    "duration": 1565,
    "start_time": "2021-11-24T15:24:58.431Z"
   },
   {
    "duration": 12,
    "start_time": "2021-11-24T15:24:59.999Z"
   },
   {
    "duration": 22,
    "start_time": "2021-11-24T15:25:00.013Z"
   },
   {
    "duration": 20135,
    "start_time": "2021-11-24T15:25:00.038Z"
   },
   {
    "duration": 295,
    "start_time": "2021-11-24T15:25:20.175Z"
   },
   {
    "duration": 120178,
    "start_time": "2021-11-24T15:27:06.720Z"
   },
   {
    "duration": 306,
    "start_time": "2021-11-24T15:29:06.901Z"
   },
   {
    "duration": 8,
    "start_time": "2021-11-24T15:31:13.273Z"
   },
   {
    "duration": 19,
    "start_time": "2021-11-24T15:31:26.459Z"
   },
   {
    "duration": 9,
    "start_time": "2021-11-24T15:31:27.043Z"
   },
   {
    "duration": 17,
    "start_time": "2021-11-24T15:31:35.106Z"
   },
   {
    "duration": 10,
    "start_time": "2021-11-24T15:31:35.427Z"
   },
   {
    "duration": 101443,
    "start_time": "2021-11-24T15:31:52.346Z"
   },
   {
    "duration": 28116,
    "start_time": "2021-11-24T15:49:48.518Z"
   },
   {
    "duration": 309,
    "start_time": "2021-11-24T15:50:16.636Z"
   },
   {
    "duration": 461,
    "start_time": "2021-11-24T16:04:58.279Z"
   },
   {
    "duration": 396,
    "start_time": "2021-11-24T16:05:20.238Z"
   },
   {
    "duration": 403,
    "start_time": "2021-11-24T16:05:36.581Z"
   },
   {
    "duration": 198,
    "start_time": "2021-11-24T16:05:45.695Z"
   },
   {
    "duration": 275,
    "start_time": "2021-11-24T16:05:49.118Z"
   },
   {
    "duration": 1562,
    "start_time": "2021-11-24T16:14:27.797Z"
   },
   {
    "duration": 65,
    "start_time": "2021-11-24T16:14:29.362Z"
   },
   {
    "duration": 6,
    "start_time": "2021-11-24T16:14:29.430Z"
   },
   {
    "duration": 126,
    "start_time": "2021-11-24T16:14:29.439Z"
   },
   {
    "duration": 79,
    "start_time": "2021-11-24T16:14:29.568Z"
   },
   {
    "duration": 40,
    "start_time": "2021-11-24T16:14:29.650Z"
   },
   {
    "duration": 18,
    "start_time": "2021-11-24T16:14:29.693Z"
   },
   {
    "duration": 15,
    "start_time": "2021-11-24T16:14:29.715Z"
   },
   {
    "duration": 12,
    "start_time": "2021-11-24T16:14:29.733Z"
   },
   {
    "duration": 16,
    "start_time": "2021-11-24T16:14:29.783Z"
   },
   {
    "duration": 14,
    "start_time": "2021-11-24T16:14:29.801Z"
   },
   {
    "duration": 16,
    "start_time": "2021-11-24T16:14:29.817Z"
   },
   {
    "duration": 52,
    "start_time": "2021-11-24T16:14:29.836Z"
   },
   {
    "duration": 14,
    "start_time": "2021-11-24T16:14:29.891Z"
   },
   {
    "duration": 30,
    "start_time": "2021-11-24T16:14:29.908Z"
   },
   {
    "duration": 67,
    "start_time": "2021-11-24T16:14:29.941Z"
   },
   {
    "duration": 18,
    "start_time": "2021-11-24T16:14:30.011Z"
   },
   {
    "duration": 14,
    "start_time": "2021-11-24T16:14:30.032Z"
   },
   {
    "duration": 7841,
    "start_time": "2021-11-24T16:14:30.048Z"
   },
   {
    "duration": 376,
    "start_time": "2021-11-24T16:14:37.517Z"
   },
   {
    "duration": 376,
    "start_time": "2021-11-24T16:14:37.519Z"
   },
   {
    "duration": 375,
    "start_time": "2021-11-24T16:14:37.522Z"
   },
   {
    "duration": 374,
    "start_time": "2021-11-24T16:14:37.524Z"
   },
   {
    "duration": 373,
    "start_time": "2021-11-24T16:14:37.527Z"
   },
   {
    "duration": 371,
    "start_time": "2021-11-24T16:14:37.531Z"
   },
   {
    "duration": 371,
    "start_time": "2021-11-24T16:14:37.533Z"
   },
   {
    "duration": 370,
    "start_time": "2021-11-24T16:14:37.535Z"
   },
   {
    "duration": 371,
    "start_time": "2021-11-24T16:14:37.536Z"
   },
   {
    "duration": 371,
    "start_time": "2021-11-24T16:14:37.538Z"
   },
   {
    "duration": 367,
    "start_time": "2021-11-24T16:14:37.544Z"
   },
   {
    "duration": 367,
    "start_time": "2021-11-24T16:14:37.546Z"
   },
   {
    "duration": 330,
    "start_time": "2021-11-24T16:14:37.585Z"
   },
   {
    "duration": 330,
    "start_time": "2021-11-24T16:14:37.587Z"
   },
   {
    "duration": 331,
    "start_time": "2021-11-24T16:14:37.588Z"
   },
   {
    "duration": 331,
    "start_time": "2021-11-24T16:14:37.591Z"
   },
   {
    "duration": 331,
    "start_time": "2021-11-24T16:14:37.592Z"
   },
   {
    "duration": 327,
    "start_time": "2021-11-24T16:14:37.598Z"
   },
   {
    "duration": 325,
    "start_time": "2021-11-24T16:14:37.601Z"
   },
   {
    "duration": 324,
    "start_time": "2021-11-24T16:14:37.603Z"
   },
   {
    "duration": 28,
    "start_time": "2021-11-24T16:14:53.852Z"
   },
   {
    "duration": 19,
    "start_time": "2021-11-24T16:15:12.323Z"
   },
   {
    "duration": 1605,
    "start_time": "2021-11-24T16:15:39.048Z"
   },
   {
    "duration": 71,
    "start_time": "2021-11-24T16:15:40.656Z"
   },
   {
    "duration": 7,
    "start_time": "2021-11-24T16:15:40.731Z"
   },
   {
    "duration": 190,
    "start_time": "2021-11-24T16:15:40.741Z"
   },
   {
    "duration": 118,
    "start_time": "2021-11-24T16:15:40.934Z"
   },
   {
    "duration": 28,
    "start_time": "2021-11-24T16:15:41.056Z"
   },
   {
    "duration": 26,
    "start_time": "2021-11-24T16:15:41.087Z"
   },
   {
    "duration": 17,
    "start_time": "2021-11-24T16:15:41.118Z"
   },
   {
    "duration": 48,
    "start_time": "2021-11-24T16:15:41.139Z"
   },
   {
    "duration": 24,
    "start_time": "2021-11-24T16:15:41.190Z"
   },
   {
    "duration": 17,
    "start_time": "2021-11-24T16:15:41.217Z"
   },
   {
    "duration": 52,
    "start_time": "2021-11-24T16:15:41.236Z"
   },
   {
    "duration": 17,
    "start_time": "2021-11-24T16:15:41.291Z"
   },
   {
    "duration": 16,
    "start_time": "2021-11-24T16:15:41.311Z"
   },
   {
    "duration": 57,
    "start_time": "2021-11-24T16:15:41.329Z"
   },
   {
    "duration": 40,
    "start_time": "2021-11-24T16:15:41.389Z"
   },
   {
    "duration": 16,
    "start_time": "2021-11-24T16:15:41.432Z"
   },
   {
    "duration": 41,
    "start_time": "2021-11-24T16:15:41.450Z"
   },
   {
    "duration": 22,
    "start_time": "2021-11-24T16:15:41.494Z"
   },
   {
    "duration": 10,
    "start_time": "2021-11-24T16:15:41.518Z"
   },
   {
    "duration": 51,
    "start_time": "2021-11-24T16:15:41.531Z"
   },
   {
    "duration": 11,
    "start_time": "2021-11-24T16:15:41.585Z"
   },
   {
    "duration": 41,
    "start_time": "2021-11-24T16:15:41.604Z"
   },
   {
    "duration": 11,
    "start_time": "2021-11-24T16:15:41.682Z"
   },
   {
    "duration": 4321,
    "start_time": "2021-11-24T16:15:41.696Z"
   },
   {
    "duration": 8,
    "start_time": "2021-11-24T16:15:46.020Z"
   },
   {
    "duration": 113,
    "start_time": "2021-11-24T16:15:46.030Z"
   },
   {
    "duration": 36,
    "start_time": "2021-11-24T16:15:46.145Z"
   },
   {
    "duration": 14,
    "start_time": "2021-11-24T16:15:46.184Z"
   },
   {
    "duration": 19,
    "start_time": "2021-11-24T16:15:46.201Z"
   },
   {
    "duration": 88,
    "start_time": "2021-11-24T16:15:46.223Z"
   },
   {
    "duration": 1664,
    "start_time": "2021-11-24T16:15:46.313Z"
   },
   {
    "duration": 12,
    "start_time": "2021-11-24T16:15:47.982Z"
   },
   {
    "duration": 21,
    "start_time": "2021-11-24T16:15:47.997Z"
   },
   {
    "duration": 8,
    "start_time": "2021-11-24T16:15:48.020Z"
   },
   {
    "duration": 33176,
    "start_time": "2021-11-24T16:15:48.030Z"
   },
   {
    "duration": 306,
    "start_time": "2021-11-24T16:16:21.208Z"
   },
   {
    "duration": 265,
    "start_time": "2021-11-24T16:16:21.516Z"
   },
   {
    "duration": 434,
    "start_time": "2021-11-24T16:16:21.784Z"
   },
   {
    "duration": 2157,
    "start_time": "2021-11-24T16:21:19.220Z"
   },
   {
    "duration": 88,
    "start_time": "2021-11-24T16:21:21.381Z"
   },
   {
    "duration": 6,
    "start_time": "2021-11-24T16:21:21.472Z"
   },
   {
    "duration": 128,
    "start_time": "2021-11-24T16:21:21.482Z"
   },
   {
    "duration": 86,
    "start_time": "2021-11-24T16:21:21.613Z"
   },
   {
    "duration": 14,
    "start_time": "2021-11-24T16:21:21.701Z"
   },
   {
    "duration": 20,
    "start_time": "2021-11-24T16:21:21.720Z"
   },
   {
    "duration": 49,
    "start_time": "2021-11-24T16:21:21.743Z"
   },
   {
    "duration": 13,
    "start_time": "2021-11-24T16:21:21.796Z"
   },
   {
    "duration": 18,
    "start_time": "2021-11-24T16:21:21.812Z"
   },
   {
    "duration": 52,
    "start_time": "2021-11-24T16:21:21.833Z"
   },
   {
    "duration": 15,
    "start_time": "2021-11-24T16:21:21.888Z"
   },
   {
    "duration": 11,
    "start_time": "2021-11-24T16:21:21.906Z"
   },
   {
    "duration": 12,
    "start_time": "2021-11-24T16:21:21.919Z"
   },
   {
    "duration": 63,
    "start_time": "2021-11-24T16:21:21.933Z"
   },
   {
    "duration": 27,
    "start_time": "2021-11-24T16:21:21.999Z"
   },
   {
    "duration": 14,
    "start_time": "2021-11-24T16:21:22.028Z"
   },
   {
    "duration": 43,
    "start_time": "2021-11-24T16:21:22.045Z"
   },
   {
    "duration": 20,
    "start_time": "2021-11-24T16:21:22.090Z"
   },
   {
    "duration": 15,
    "start_time": "2021-11-24T16:21:22.112Z"
   },
   {
    "duration": 16,
    "start_time": "2021-11-24T16:21:22.130Z"
   },
   {
    "duration": 38,
    "start_time": "2021-11-24T16:21:22.151Z"
   },
   {
    "duration": 58,
    "start_time": "2021-11-24T16:21:22.193Z"
   },
   {
    "duration": 41,
    "start_time": "2021-11-24T16:21:22.254Z"
   },
   {
    "duration": 4898,
    "start_time": "2021-11-24T16:21:22.298Z"
   },
   {
    "duration": 8,
    "start_time": "2021-11-24T16:21:27.198Z"
   },
   {
    "duration": 665,
    "start_time": "2021-11-24T16:21:27.208Z"
   },
   {
    "duration": 374,
    "start_time": "2021-11-24T16:21:27.502Z"
   },
   {
    "duration": 374,
    "start_time": "2021-11-24T16:21:27.504Z"
   },
   {
    "duration": 374,
    "start_time": "2021-11-24T16:21:27.505Z"
   },
   {
    "duration": 374,
    "start_time": "2021-11-24T16:21:27.507Z"
   },
   {
    "duration": 373,
    "start_time": "2021-11-24T16:21:27.509Z"
   },
   {
    "duration": 373,
    "start_time": "2021-11-24T16:21:27.510Z"
   },
   {
    "duration": 372,
    "start_time": "2021-11-24T16:21:27.512Z"
   },
   {
    "duration": 370,
    "start_time": "2021-11-24T16:21:27.516Z"
   },
   {
    "duration": 369,
    "start_time": "2021-11-24T16:21:27.518Z"
   },
   {
    "duration": 363,
    "start_time": "2021-11-24T16:21:27.525Z"
   },
   {
    "duration": 364,
    "start_time": "2021-11-24T16:21:27.526Z"
   },
   {
    "duration": 363,
    "start_time": "2021-11-24T16:21:27.529Z"
   },
   {
    "duration": 1581,
    "start_time": "2021-11-24T16:28:44.988Z"
   },
   {
    "duration": 78,
    "start_time": "2021-11-24T16:28:46.572Z"
   },
   {
    "duration": 6,
    "start_time": "2021-11-24T16:28:46.653Z"
   },
   {
    "duration": 132,
    "start_time": "2021-11-24T16:28:46.662Z"
   },
   {
    "duration": 87,
    "start_time": "2021-11-24T16:28:46.797Z"
   },
   {
    "duration": 13,
    "start_time": "2021-11-24T16:28:46.887Z"
   },
   {
    "duration": 18,
    "start_time": "2021-11-24T16:28:46.903Z"
   },
   {
    "duration": 18,
    "start_time": "2021-11-24T16:28:46.925Z"
   },
   {
    "duration": 46,
    "start_time": "2021-11-24T16:28:46.947Z"
   },
   {
    "duration": 18,
    "start_time": "2021-11-24T16:28:46.996Z"
   },
   {
    "duration": 14,
    "start_time": "2021-11-24T16:28:47.016Z"
   },
   {
    "duration": 51,
    "start_time": "2021-11-24T16:28:47.032Z"
   },
   {
    "duration": 12,
    "start_time": "2021-11-24T16:28:47.085Z"
   },
   {
    "duration": 11,
    "start_time": "2021-11-24T16:28:47.100Z"
   },
   {
    "duration": 134,
    "start_time": "2021-11-24T16:28:47.113Z"
   },
   {
    "duration": 384,
    "start_time": "2021-11-24T16:28:46.866Z"
   },
   {
    "duration": 382,
    "start_time": "2021-11-24T16:28:46.869Z"
   },
   {
    "duration": 374,
    "start_time": "2021-11-24T16:28:46.878Z"
   },
   {
    "duration": 373,
    "start_time": "2021-11-24T16:28:46.881Z"
   },
   {
    "duration": 371,
    "start_time": "2021-11-24T16:28:46.884Z"
   },
   {
    "duration": 370,
    "start_time": "2021-11-24T16:28:46.886Z"
   },
   {
    "duration": 370,
    "start_time": "2021-11-24T16:28:46.887Z"
   },
   {
    "duration": 369,
    "start_time": "2021-11-24T16:28:46.889Z"
   },
   {
    "duration": 369,
    "start_time": "2021-11-24T16:28:46.890Z"
   },
   {
    "duration": 370,
    "start_time": "2021-11-24T16:28:46.891Z"
   },
   {
    "duration": 370,
    "start_time": "2021-11-24T16:28:46.892Z"
   },
   {
    "duration": 364,
    "start_time": "2021-11-24T16:28:46.899Z"
   },
   {
    "duration": 362,
    "start_time": "2021-11-24T16:28:46.903Z"
   },
   {
    "duration": 361,
    "start_time": "2021-11-24T16:28:46.905Z"
   },
   {
    "duration": 361,
    "start_time": "2021-11-24T16:28:46.906Z"
   },
   {
    "duration": 361,
    "start_time": "2021-11-24T16:28:46.908Z"
   },
   {
    "duration": 358,
    "start_time": "2021-11-24T16:28:46.912Z"
   },
   {
    "duration": 356,
    "start_time": "2021-11-24T16:28:46.916Z"
   },
   {
    "duration": 354,
    "start_time": "2021-11-24T16:28:46.919Z"
   },
   {
    "duration": 354,
    "start_time": "2021-11-24T16:28:46.920Z"
   },
   {
    "duration": 350,
    "start_time": "2021-11-24T16:28:46.926Z"
   },
   {
    "duration": 350,
    "start_time": "2021-11-24T16:28:46.927Z"
   },
   {
    "duration": 349,
    "start_time": "2021-11-24T16:28:46.929Z"
   },
   {
    "duration": 349,
    "start_time": "2021-11-24T16:28:46.930Z"
   },
   {
    "duration": 24,
    "start_time": "2021-11-24T16:29:17.779Z"
   },
   {
    "duration": 26,
    "start_time": "2021-11-24T16:29:37.215Z"
   },
   {
    "duration": 2356,
    "start_time": "2021-11-24T16:39:19.863Z"
   },
   {
    "duration": 89,
    "start_time": "2021-11-24T16:39:22.223Z"
   },
   {
    "duration": 9,
    "start_time": "2021-11-24T16:39:22.316Z"
   },
   {
    "duration": 125,
    "start_time": "2021-11-24T16:39:22.329Z"
   },
   {
    "duration": 85,
    "start_time": "2021-11-24T16:39:22.456Z"
   },
   {
    "duration": 37,
    "start_time": "2021-11-24T16:39:22.545Z"
   },
   {
    "duration": 22,
    "start_time": "2021-11-24T16:39:22.585Z"
   },
   {
    "duration": 16,
    "start_time": "2021-11-24T16:39:22.609Z"
   },
   {
    "duration": 13,
    "start_time": "2021-11-24T16:39:22.630Z"
   },
   {
    "duration": 18,
    "start_time": "2021-11-24T16:39:22.683Z"
   },
   {
    "duration": 15,
    "start_time": "2021-11-24T16:39:22.704Z"
   },
   {
    "duration": 19,
    "start_time": "2021-11-24T16:39:22.722Z"
   },
   {
    "duration": 48,
    "start_time": "2021-11-24T16:39:22.743Z"
   },
   {
    "duration": 13,
    "start_time": "2021-11-24T16:39:22.794Z"
   },
   {
    "duration": 24,
    "start_time": "2021-11-24T16:39:22.810Z"
   },
   {
    "duration": 72,
    "start_time": "2021-11-24T16:39:22.837Z"
   },
   {
    "duration": 17,
    "start_time": "2021-11-24T16:39:22.912Z"
   },
   {
    "duration": 12,
    "start_time": "2021-11-24T16:39:22.932Z"
   },
   {
    "duration": 50,
    "start_time": "2021-11-24T16:39:22.947Z"
   },
   {
    "duration": 13,
    "start_time": "2021-11-24T16:39:23.000Z"
   },
   {
    "duration": 17,
    "start_time": "2021-11-24T16:39:23.015Z"
   },
   {
    "duration": 9,
    "start_time": "2021-11-24T16:39:23.035Z"
   },
   {
    "duration": 52,
    "start_time": "2021-11-24T16:39:23.085Z"
   },
   {
    "duration": 10,
    "start_time": "2021-11-24T16:39:23.140Z"
   },
   {
    "duration": 4982,
    "start_time": "2021-11-24T16:39:23.153Z"
   },
   {
    "duration": 8,
    "start_time": "2021-11-24T16:39:28.138Z"
   },
   {
    "duration": 119,
    "start_time": "2021-11-24T16:39:28.151Z"
   },
   {
    "duration": 30,
    "start_time": "2021-11-24T16:39:28.272Z"
   },
   {
    "duration": 16,
    "start_time": "2021-11-24T16:39:28.304Z"
   },
   {
    "duration": 18,
    "start_time": "2021-11-24T16:39:28.323Z"
   },
   {
    "duration": 90,
    "start_time": "2021-11-24T16:39:28.344Z"
   },
   {
    "duration": 1447,
    "start_time": "2021-11-24T16:39:28.436Z"
   },
   {
    "duration": 11,
    "start_time": "2021-11-24T16:39:29.885Z"
   },
   {
    "duration": 22,
    "start_time": "2021-11-24T16:39:29.899Z"
   },
   {
    "duration": 8,
    "start_time": "2021-11-24T16:39:29.923Z"
   },
   {
    "duration": 34739,
    "start_time": "2021-11-24T16:39:29.933Z"
   },
   {
    "duration": 312,
    "start_time": "2021-11-24T16:40:04.682Z"
   },
   {
    "duration": 99,
    "start_time": "2021-11-24T16:40:04.997Z"
   },
   {
    "duration": 554,
    "start_time": "2021-11-24T16:40:05.098Z"
   },
   {
    "duration": 1762,
    "start_time": "2021-11-24T16:44:31.533Z"
   },
   {
    "duration": 67,
    "start_time": "2021-11-24T16:44:33.298Z"
   },
   {
    "duration": 6,
    "start_time": "2021-11-24T16:44:33.369Z"
   },
   {
    "duration": 135,
    "start_time": "2021-11-24T16:44:33.383Z"
   },
   {
    "duration": 100,
    "start_time": "2021-11-24T16:44:33.520Z"
   },
   {
    "duration": 14,
    "start_time": "2021-11-24T16:44:33.623Z"
   },
   {
    "duration": 43,
    "start_time": "2021-11-24T16:44:33.640Z"
   },
   {
    "duration": 17,
    "start_time": "2021-11-24T16:44:33.686Z"
   },
   {
    "duration": 15,
    "start_time": "2021-11-24T16:44:33.707Z"
   },
   {
    "duration": 58,
    "start_time": "2021-11-24T16:44:33.727Z"
   },
   {
    "duration": 17,
    "start_time": "2021-11-24T16:44:33.788Z"
   },
   {
    "duration": 15,
    "start_time": "2021-11-24T16:44:33.808Z"
   },
   {
    "duration": 14,
    "start_time": "2021-11-24T16:44:33.825Z"
   },
   {
    "duration": 49,
    "start_time": "2021-11-24T16:44:33.841Z"
   },
   {
    "duration": 39,
    "start_time": "2021-11-24T16:44:33.893Z"
   },
   {
    "duration": 55,
    "start_time": "2021-11-24T16:44:33.935Z"
   },
   {
    "duration": 25,
    "start_time": "2021-11-24T16:44:33.992Z"
   },
   {
    "duration": 12,
    "start_time": "2021-11-24T16:44:34.020Z"
   },
   {
    "duration": 46,
    "start_time": "2021-11-24T16:44:34.035Z"
   },
   {
    "duration": 9,
    "start_time": "2021-11-24T16:44:34.084Z"
   },
   {
    "duration": 33,
    "start_time": "2021-11-24T16:44:34.095Z"
   },
   {
    "duration": 26,
    "start_time": "2021-11-24T16:44:34.131Z"
   },
   {
    "duration": 46,
    "start_time": "2021-11-24T16:44:34.160Z"
   },
   {
    "duration": 10,
    "start_time": "2021-11-24T16:44:34.209Z"
   },
   {
    "duration": 5010,
    "start_time": "2021-11-24T16:44:34.221Z"
   },
   {
    "duration": 8,
    "start_time": "2021-11-24T16:44:39.234Z"
   },
   {
    "duration": 174,
    "start_time": "2021-11-24T16:44:39.250Z"
   },
   {
    "duration": 38,
    "start_time": "2021-11-24T16:44:39.428Z"
   },
   {
    "duration": 19,
    "start_time": "2021-11-24T16:44:39.483Z"
   },
   {
    "duration": 26,
    "start_time": "2021-11-24T16:44:39.506Z"
   },
   {
    "duration": 80,
    "start_time": "2021-11-24T16:44:39.534Z"
   },
   {
    "duration": 1485,
    "start_time": "2021-11-24T16:44:39.616Z"
   },
   {
    "duration": 11,
    "start_time": "2021-11-24T16:44:41.103Z"
   },
   {
    "duration": 24,
    "start_time": "2021-11-24T16:44:41.116Z"
   },
   {
    "duration": 40,
    "start_time": "2021-11-24T16:44:41.142Z"
   },
   {
    "duration": 34139,
    "start_time": "2021-11-24T16:44:41.184Z"
   },
   {
    "duration": 306,
    "start_time": "2021-11-24T16:45:15.326Z"
   },
   {
    "duration": 158,
    "start_time": "2021-11-24T16:45:15.634Z"
   },
   {
    "duration": 466,
    "start_time": "2021-11-24T16:45:15.796Z"
   }
  ],
  "kernelspec": {
   "display_name": "Python 3",
   "language": "python",
   "name": "python3"
  },
  "language_info": {
   "codemirror_mode": {
    "name": "ipython",
    "version": 3
   },
   "file_extension": ".py",
   "mimetype": "text/x-python",
   "name": "python",
   "nbconvert_exporter": "python",
   "pygments_lexer": "ipython3",
   "version": "3.7.8"
  },
  "toc": {
   "base_numbering": 1,
   "nav_menu": {},
   "number_sections": false,
   "sideBar": true,
   "skip_h1_title": true,
   "title_cell": "Table of Contents",
   "title_sidebar": "Contents",
   "toc_cell": false,
   "toc_position": {},
   "toc_section_display": true,
   "toc_window_display": true
  }
 },
 "nbformat": 4,
 "nbformat_minor": 5
}
